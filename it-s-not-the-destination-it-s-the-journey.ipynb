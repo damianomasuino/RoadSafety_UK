{
 "cells": [
  {
   "cell_type": "markdown",
   "id": "d367d5b5",
   "metadata": {
    "papermill": {
     "duration": 0.032457,
     "end_time": "2022-06-19T07:02:16.412102",
     "exception": false,
     "start_time": "2022-06-19T07:02:16.379645",
     "status": "completed"
    },
    "tags": []
   },
   "source": [
    "<div style=\"background-color:rgba(244, 241, 238, 1); vertical-align: middle; padding:40px 0;\">\n",
    "\n",
    "<br>\n",
    "<br>\n",
    "<br>\n",
    "\n",
    "# <center> \"It's not the destination; it's the journey.\"</center>\n",
    "\n",
    "### <center>A study on the data about reported accidents and casualties on public roads in Great Britain.</center>\n",
    "    \n",
    "<br>\n",
    "\n",
    "### <center>Damiano Masuino</center>\n",
    "<br>\n",
    "\n",
    "</div>"
   ]
  },
  {
   "cell_type": "markdown",
   "id": "73141a73",
   "metadata": {
    "papermill": {
     "duration": 0.027261,
     "end_time": "2022-06-19T07:02:16.466146",
     "exception": false,
     "start_time": "2022-06-19T07:02:16.438885",
     "status": "completed"
    },
    "tags": []
   },
   "source": [
    "***\n",
    "### About this Notebook.\n",
    "This *Jupyter Notebook* has been divided into three large chapters. The first module, called **\"The dataset is my friend\"**, contains a general but careful analysis of the proposed dataset. It contains an analysis divided mainly into two parts: a first study related to the data in general (called \"A look at the data\"; with graphs, statistics, possible reasons behind the results obtained...) and a second study from a time only point of view (called \"Time flies\").\n",
    "\n",
    "The second module, called **\"Junction fever\"** is a thorough study of some of the UK's most famous roundabouts and road intersections. The study starts from a BBC article (the link is available at the beginning of the chapter) which presents a research carried out on 500 motorists about \"the road intersection that most frightens the British\".\n",
    "The aim of this study was to find and discover any characteristics and peculiarities of these junctions, as well as investigating a possible correlation between \"sense of fear\" and actual danger.\n",
    "\n",
    "The last chapter is instead perfectly described by its title: **Time travelling without a DeLorean** collects and summarizes several predictive methods we have used to prevent the severity of future road accidents, with a range of information available.\n",
    "\n",
    "This notebook is part of a university work, project done with other students. I have entered here only the part edited by me.\n",
    "<br>\n",
    "\n",
    "***\n",
    "<a name=\"index\"></a>\n",
    "\n",
    "### Index.\n",
    "1. [**Prepare the car for the journey.**](#introduction)\n",
    "2. [**The dataset is my friend.**](#paragraph1)\n",
    "    1. [**A look at the data.**](#subparagraph1)\n",
    "    2. [**Time flies.**](#subparagraph2)\n",
    "3. [**Junction fever.**](#paragraph2)\n",
    "4. [**Time travelling without a DeLorean.**](#paragraph3)\n",
    "    1. [**Correlation study.**](#subparagraph3)\n",
    "    2. [**Predictive methods.**](#subparagraph4)\n",
    "    3. [**Feature importance.**](#subparagraph5)\n",
    "5. [**Conclusions.**](#paragraph4)\n",
    "\n",
    "***\n",
    "\n",
    "### Data source.\n",
    "All information and statistics, all accident numbers and specifics that were used in this study come from the **official UK Open Data website** (https://data.gov.uk); in particular, the used datasets are collected and uploaded periodically by the UK Department of Transport [HERE](https://data.gov.uk/dataset/cb7ae6f0-4be6-4935-9277-47e5ce24a11f/road-safety-data).\n",
    "<br>\n",
    "\n",
    "***"
   ]
  },
  {
   "cell_type": "markdown",
   "id": "abd4ebfe",
   "metadata": {
    "papermill": {
     "duration": 0.02789,
     "end_time": "2022-06-19T07:02:16.522533",
     "exception": false,
     "start_time": "2022-06-19T07:02:16.494643",
     "status": "completed"
    },
    "tags": []
   },
   "source": [
    "<a name=\"introduction\"></a>\n",
    "<div style=\"background-color:rgba(244, 241, 238, 1); vertical-align: middle; padding:40px 0;\">\n",
    "</div>\n",
    "\n",
    "## Chapter 1\n",
    "\n",
    "    \n",
    "### Prepare the car for the journey.\n",
    ">*A journey of a thousand miles begins with a single step. – Lao Tzu*\n",
    "<br>\n",
    "\n",
    "[**Return to the top.**](#index)\n",
    "<br>\n",
    "\n",
    "\n",
    "The first step of any trip is the preparation and organization of all the necessary material. To simplify this by making it as simple and fast as possible, we have organized in the next cell all the external libraries needed for this notebook. Please install them by removing the \"#\" if there are not already installed on your computer."
   ]
  },
  {
   "cell_type": "code",
   "execution_count": null,
   "id": "de5cc7d3",
   "metadata": {
    "execution": {
     "iopub.execute_input": "2022-06-19T07:02:16.581312Z",
     "iopub.status.busy": "2022-06-19T07:02:16.580429Z",
     "iopub.status.idle": "2022-06-19T07:02:16.585967Z",
     "shell.execute_reply": "2022-06-19T07:02:16.585161Z"
    },
    "papermill": {
     "duration": 0.037699,
     "end_time": "2022-06-19T07:02:16.588048",
     "exception": false,
     "start_time": "2022-06-19T07:02:16.550349",
     "status": "completed"
    },
    "tags": []
   },
   "outputs": [],
   "source": [
    "# !pip install pandas\n",
    "# !pip install matplotlib\n",
    "# !pip install seaborn\n",
    "# !pip install statistics\n",
    "# !pip install numpy\n",
    "# !pip install datetime\n",
    "# !pip install scipy\n",
    "# !pip install folium\n",
    "# !pip install geopy\n",
    "# !pip install pillow\n",
    "# !pip install requests\n",
    "# !pip install scikit-learn"
   ]
  },
  {
   "cell_type": "markdown",
   "id": "828b3bc2",
   "metadata": {
    "papermill": {
     "duration": 0.026897,
     "end_time": "2022-06-19T07:02:16.643943",
     "exception": false,
     "start_time": "2022-06-19T07:02:16.617046",
     "status": "completed"
    },
    "tags": []
   },
   "source": [
    "![DeLorean](https://upload.wikimedia.org/wikipedia/commons/thumb/2/28/TeamTimeCar.com-BTTF_DeLorean_Time_Machine-OtoGodfrey.com-JMortonPhoto.com-07.jpg/1920px-TeamTimeCar.com-BTTF_DeLorean_Time_Machine-OtoGodfrey.com-JMortonPhoto.com-07.jpg)\n",
    "\n",
    "*CC BY-SA 4.0.*"
   ]
  },
  {
   "cell_type": "markdown",
   "id": "5106a452",
   "metadata": {
    "papermill": {
     "duration": 0.026403,
     "end_time": "2022-06-19T07:02:16.697315",
     "exception": false,
     "start_time": "2022-06-19T07:02:16.670912",
     "status": "completed"
    },
    "tags": []
   },
   "source": [
    "***\n",
    "<a name=\"paragraph1\"></a>\n",
    "<div style=\"background-color:rgba(244, 241, 238, 1); text-align:center; vertical-align: middle; padding:40px 0;\">\n",
    "</div> \n",
    "\n",
    "## Chapter 2\n",
    "### The dataset is my friend.\n",
    "<br>\n",
    "\n",
    ">*It is a capital mistake to theorize before one has data. — Sherlock Holmes*\n",
    "<br>\n",
    "\n",
    "[**Return to the top.**](#index)\n",
    "<br>\n",
    "\n",
    "As summarized in the introduction of this notebook, the first chapter contains a study on some variables of the dataset followed by an in-depth study from the temporal point of view only.\n",
    "<br>\n",
    "\n",
    "<a name=\"subparagraph1\"></a>\n",
    "\n",
    "### A look at the data.\n",
    "<br>\n",
    "\n",
    "The **\"A look at the data\"** module collects graphs and statistical values of some variables that we found interesting. In particular, we have analyzed eight different variables (*in the list below it is possible to go directly to the variable graph by clicking on the hyperlink)*:\n",
    "\n",
    "1. [Age of the driver (both about all casualties and about deaths only).](#2.1)\n",
    "2. [Number of vehicles and casualties per accident.](#2.2)\n",
    "3. [Accident severity.](#2.3)\n",
    "4. [Maneuvers.](#2.4)\n",
    "5. [Kinds of vehicles involved.](#2.5)\n",
    "6. [Pedestrians.](#2.6)\n",
    "7. [Speed limits.](#2.7)\n",
    "8. [Weather conditions.](#2.8)\n",
    "\n",
    "*We do not analyze anything about junctions and road paths because there is a chapter on that.*\n",
    "<br>\n",
    "\n",
    "These first analyzes were made on the datasets containing information on accidents that occurred in the last 5 years. The first thing to do is therefore to create datasets with all the information taken directly from the *.csv* format files found online."
   ]
  },
  {
   "cell_type": "code",
   "execution_count": null,
   "id": "a484d0cc",
   "metadata": {
    "execution": {
     "iopub.execute_input": "2022-06-19T07:02:16.752104Z",
     "iopub.status.busy": "2022-06-19T07:02:16.751627Z",
     "iopub.status.idle": "2022-06-19T07:02:18.121195Z",
     "shell.execute_reply": "2022-06-19T07:02:18.120242Z"
    },
    "papermill": {
     "duration": 1.400114,
     "end_time": "2022-06-19T07:02:18.123643",
     "exception": false,
     "start_time": "2022-06-19T07:02:16.723529",
     "status": "completed"
    },
    "tags": []
   },
   "outputs": [],
   "source": [
    "import pandas as pd\n",
    "import matplotlib.pyplot as plt\n",
    "import seaborn as sns\n",
    "import statistics as stat\n",
    "import numpy as np\n",
    "import requests\n",
    "\n",
    "from matplotlib.offsetbox import OffsetImage,AnnotationBbox\n",
    "from PIL import Image\n",
    "from io import BytesIO"
   ]
  },
  {
   "cell_type": "code",
   "execution_count": null,
   "id": "46c90b21",
   "metadata": {
    "execution": {
     "iopub.execute_input": "2022-06-19T07:02:18.178781Z",
     "iopub.status.busy": "2022-06-19T07:02:18.178316Z",
     "iopub.status.idle": "2022-06-19T07:02:18.186769Z",
     "shell.execute_reply": "2022-06-19T07:02:18.186044Z"
    },
    "papermill": {
     "duration": 0.03913,
     "end_time": "2022-06-19T07:02:18.189359",
     "exception": false,
     "start_time": "2022-06-19T07:02:18.150229",
     "status": "completed"
    },
    "tags": []
   },
   "outputs": [],
   "source": [
    "from IPython.core.display import HTML\n",
    "HTML(\"\"\"\n",
    "<style>\n",
    ".output_png {\n",
    "    display: table-cell;\n",
    "    text-align: center;\n",
    "    vertical-align: middle;\n",
    "}\n",
    "</style>\n",
    "\"\"\")"
   ]
  },
  {
   "cell_type": "code",
   "execution_count": null,
   "id": "f0ff46f8",
   "metadata": {
    "execution": {
     "iopub.execute_input": "2022-06-19T07:02:18.245553Z",
     "iopub.status.busy": "2022-06-19T07:02:18.244539Z",
     "iopub.status.idle": "2022-06-19T07:02:33.356137Z",
     "shell.execute_reply": "2022-06-19T07:02:33.355096Z"
    },
    "papermill": {
     "duration": 15.142915,
     "end_time": "2022-06-19T07:02:33.358954",
     "exception": false,
     "start_time": "2022-06-19T07:02:18.216039",
     "status": "completed"
    },
    "tags": []
   },
   "outputs": [],
   "source": [
    "url_acc_lst5 = \"https://data.dft.gov.uk/road-accidents-safety\\\n",
    "-data/dft-road-casualty-statistics-accident-last-5-years.csv\"\n",
    "url_cas_lst5 = \"https://data.dft.gov.uk/road-accidents-safety\\\n",
    "-data/dft-road-casualty-statistics-casualty-last-5-years.csv\"\n",
    "url_vei_lst5 = \"https://data.dft.gov.uk/road-accidents-safety\\\n",
    "-data/dft-road-casualty-statistics-vehicle-last-5-years.csv\"\n",
    "\n",
    "df_acc_lst5 = pd.read_csv(url_acc_lst5,low_memory=False)\n",
    "df_cas_lst5 = pd.read_csv(url_cas_lst5,low_memory=False)\n",
    "df_vei_lst5 = pd.read_csv(url_vei_lst5,low_memory=False)"
   ]
  },
  {
   "cell_type": "markdown",
   "id": "51e1fea6",
   "metadata": {
    "papermill": {
     "duration": 0.026551,
     "end_time": "2022-06-19T07:02:33.412914",
     "exception": false,
     "start_time": "2022-06-19T07:02:33.386363",
     "status": "completed"
    },
    "tags": []
   },
   "source": [
    "There are 3 datasets for each period: the main one is the \"Accident dataset\"; then there are two more containing all the people and the vehicles involved in each accident (the \"Casualties dataset\" and the \"Vehicle dataset\" respectively)."
   ]
  },
  {
   "cell_type": "code",
   "execution_count": null,
   "id": "6748a3ab",
   "metadata": {
    "execution": {
     "iopub.execute_input": "2022-06-19T07:02:33.469199Z",
     "iopub.status.busy": "2022-06-19T07:02:33.468483Z",
     "iopub.status.idle": "2022-06-19T07:02:33.475153Z",
     "shell.execute_reply": "2022-06-19T07:02:33.474210Z"
    },
    "papermill": {
     "duration": 0.037908,
     "end_time": "2022-06-19T07:02:33.477831",
     "exception": false,
     "start_time": "2022-06-19T07:02:33.439923",
     "status": "completed"
    },
    "tags": []
   },
   "outputs": [],
   "source": [
    "print(df_acc_lst5.keys(),df_cas_lst5.keys(),df_vei_lst5.keys())"
   ]
  },
  {
   "cell_type": "markdown",
   "id": "c46be141",
   "metadata": {
    "papermill": {
     "duration": 0.02665,
     "end_time": "2022-06-19T07:02:33.532987",
     "exception": false,
     "start_time": "2022-06-19T07:02:33.506337",
     "status": "completed"
    },
    "tags": []
   },
   "source": [
    "With an idea about all the keys of these datasets, we can now create small ones that give us the possibility to study them in an easier way."
   ]
  },
  {
   "cell_type": "code",
   "execution_count": null,
   "id": "179a51cf",
   "metadata": {
    "execution": {
     "iopub.execute_input": "2022-06-19T07:02:33.589254Z",
     "iopub.status.busy": "2022-06-19T07:02:33.588538Z",
     "iopub.status.idle": "2022-06-19T07:02:33.676448Z",
     "shell.execute_reply": "2022-06-19T07:02:33.675462Z"
    },
    "papermill": {
     "duration": 0.118805,
     "end_time": "2022-06-19T07:02:33.679013",
     "exception": false,
     "start_time": "2022-06-19T07:02:33.560208",
     "status": "completed"
    },
    "tags": []
   },
   "outputs": [],
   "source": [
    "df_acc_lst5sm = df_acc_lst5[['number_of_casualties','speed_limit','number_of_vehicles','road_type',\\\n",
    "                           'accident_severity','weather_conditions','junction_detail']]\n",
    "df_vei_lst5sm = df_vei_lst5[['vehicle_type','vehicle_manoeuvre','age_of_driver','sex_of_driver']]\n",
    "df_cas_lst5sm = df_cas_lst5[['pedestrian_location','pedestrian_movement','car_passenger','casualty_class',\\\n",
    "                           'casualty_severity','age_of_casualty']]\n",
    "df_acc_lst5sm_fatal = df_acc_lst5sm[df_acc_lst5sm['accident_severity']==1]\n",
    "df_cas_lst5sm_fatal = df_cas_lst5sm[df_cas_lst5sm['casualty_severity']==1]"
   ]
  },
  {
   "cell_type": "markdown",
   "id": "695605a3",
   "metadata": {
    "papermill": {
     "duration": 0.026537,
     "end_time": "2022-06-19T07:02:33.732835",
     "exception": false,
     "start_time": "2022-06-19T07:02:33.706298",
     "status": "completed"
    },
    "tags": []
   },
   "source": [
    "In all three datasets, the **missing values** can be described in two ways: they can be *NaN entities* or they can take the value *-1* (it depends on the variable, all the information about how they are described is collected in the guide downloadable from the link in the first cell of this notebook).\n",
    "<br>\n",
    "\n",
    "As we said before, an initial analysis can be made on the **age of the people involved** in accidents, with a particular focus on deaths.\n",
    "<br>\n",
    "\n",
    "The variable \"age_of_driver\" has \"-1\" as the value that indicates missing values so the first thing that we have to do is delete the rows where that variable is missing (the dataset is huge so we don't need to replace the missing value with some substitute such as mode or the median of the other values).\n",
    "To be sure of this, it is good to check that the dataset has more or less the same size as it had before the removal of the missing values."
   ]
  },
  {
   "cell_type": "code",
   "execution_count": null,
   "id": "c2c0a62a",
   "metadata": {
    "execution": {
     "iopub.execute_input": "2022-06-19T07:02:33.788803Z",
     "iopub.status.busy": "2022-06-19T07:02:33.788337Z",
     "iopub.status.idle": "2022-06-19T07:02:33.880737Z",
     "shell.execute_reply": "2022-06-19T07:02:33.879426Z"
    },
    "papermill": {
     "duration": 0.123197,
     "end_time": "2022-06-19T07:02:33.883083",
     "exception": false,
     "start_time": "2022-06-19T07:02:33.759886",
     "status": "completed"
    },
    "tags": []
   },
   "outputs": [],
   "source": [
    "age_of_driver = df_vei_lst5sm['age_of_driver'].values.tolist()\n",
    "len_before = len(age_of_driver)\n",
    "age_of_driverMV = age_of_driver.count(-1)\n",
    "age_of_driver = [x for x in age_of_driver if x != -1]\n",
    "print('After the cleaning of the MV, the array is the',100*(len(age_of_driver)/len_before), \\\n",
    "      '% of the original array')"
   ]
  },
  {
   "cell_type": "code",
   "execution_count": null,
   "id": "94b5d966",
   "metadata": {
    "execution": {
     "iopub.execute_input": "2022-06-19T07:02:33.939328Z",
     "iopub.status.busy": "2022-06-19T07:02:33.938072Z",
     "iopub.status.idle": "2022-06-19T07:02:33.959998Z",
     "shell.execute_reply": "2022-06-19T07:02:33.958892Z"
    },
    "papermill": {
     "duration": 0.052387,
     "end_time": "2022-06-19T07:02:33.962275",
     "exception": false,
     "start_time": "2022-06-19T07:02:33.909888",
     "status": "completed"
    },
    "tags": []
   },
   "outputs": [],
   "source": [
    "age_of_driver_fatal = df_cas_lst5sm_fatal['age_of_casualty'].values.tolist()\n",
    "age_of_driverMV = age_of_driver.count(-1)\n",
    "len_before = len(age_of_driver_fatal)\n",
    "age_of_driver_fatal = [x for x in age_of_driver_fatal if x != -1]\n",
    "print('After the cleaning of the MV, the array is the',100*(len(age_of_driver_fatal)/len_before), \\\n",
    "      '% of the original array')"
   ]
  },
  {
   "cell_type": "markdown",
   "id": "af76d3eb",
   "metadata": {
    "papermill": {
     "duration": 0.027149,
     "end_time": "2022-06-19T07:02:34.016646",
     "exception": false,
     "start_time": "2022-06-19T07:02:33.989497",
     "status": "completed"
    },
    "tags": []
   },
   "source": [
    "It's now finally time to plot some data...\n",
    "<a name=\"2.1\"></a>"
   ]
  },
  {
   "cell_type": "code",
   "execution_count": null,
   "id": "971d3812",
   "metadata": {
    "execution": {
     "iopub.execute_input": "2022-06-19T07:02:34.073950Z",
     "iopub.status.busy": "2022-06-19T07:02:34.072993Z",
     "iopub.status.idle": "2022-06-19T07:02:38.417486Z",
     "shell.execute_reply": "2022-06-19T07:02:38.416217Z"
    },
    "papermill": {
     "duration": 4.375799,
     "end_time": "2022-06-19T07:02:38.420073",
     "exception": false,
     "start_time": "2022-06-19T07:02:34.044274",
     "status": "completed"
    },
    "tags": []
   },
   "outputs": [],
   "source": [
    "plt.figure(figsize=(14,6))\n",
    "fig=sns.kdeplot(age_of_driver_fatal,color='#f22b29',shade=True, bw_adjust=.5,label='Fatal accidents')\n",
    "fig=sns.kdeplot(age_of_driver,color='#140f2d',shade=True,bw_adjust=.5,label='Total accidents')\n",
    "plt.legend(loc=\"best\",prop={'size': 20})\n",
    "plt.xlabel(\"Age\")\n",
    "plt.ylabel(\"Density\")\n",
    "plt.title('Age of the driver (both about all casualties and about deaths only)')\n",
    "plt.grid(alpha=0.2, color='#140f2d')\n",
    "ax = plt.gca()\n",
    "ax.set_facecolor('#f4f1ee')\n",
    "plt.show()"
   ]
  },
  {
   "cell_type": "markdown",
   "id": "a484bc93",
   "metadata": {
    "papermill": {
     "duration": 0.0281,
     "end_time": "2022-06-19T07:02:38.477605",
     "exception": false,
     "start_time": "2022-06-19T07:02:38.449505",
     "status": "completed"
    },
    "tags": []
   },
   "source": [
    "The plots and graphs are very nice to look at, but all the statistics are interesting too! We have created a function that, given a variable, it calculates the mean, the mode, the median, the standard deviation, and the variance of it."
   ]
  },
  {
   "cell_type": "code",
   "execution_count": null,
   "id": "f430159c",
   "metadata": {
    "execution": {
     "iopub.execute_input": "2022-06-19T07:02:38.537673Z",
     "iopub.status.busy": "2022-06-19T07:02:38.536456Z",
     "iopub.status.idle": "2022-06-19T07:02:38.542465Z",
     "shell.execute_reply": "2022-06-19T07:02:38.541668Z"
    },
    "papermill": {
     "duration": 0.038398,
     "end_time": "2022-06-19T07:02:38.544744",
     "exception": false,
     "start_time": "2022-06-19T07:02:38.506346",
     "status": "completed"
    },
    "tags": []
   },
   "outputs": [],
   "source": [
    "def statistics(variable):\n",
    "    stats={}\n",
    "    stats['mean']=stat.mean(variable)\n",
    "    stats['mode']=stat.mode(variable)\n",
    "    stats['median']=stat.median(variable)\n",
    "    stats['std_dev']=stat.stdev(variable)\n",
    "    stats['variance']=stat.variance(variable)\n",
    "    return stats"
   ]
  },
  {
   "cell_type": "code",
   "execution_count": null,
   "id": "e7962733",
   "metadata": {
    "execution": {
     "iopub.execute_input": "2022-06-19T07:02:38.604368Z",
     "iopub.status.busy": "2022-06-19T07:02:38.603600Z",
     "iopub.status.idle": "2022-06-19T07:02:43.667098Z",
     "shell.execute_reply": "2022-06-19T07:02:43.665787Z"
    },
    "papermill": {
     "duration": 5.095753,
     "end_time": "2022-06-19T07:02:43.669656",
     "exception": false,
     "start_time": "2022-06-19T07:02:38.573903",
     "status": "completed"
    },
    "tags": []
   },
   "outputs": [],
   "source": [
    "print('age_of_driver statistics:',statistics(age_of_driver))\n",
    "print('age_of_driver_fatal statistics:',statistics(age_of_driver_fatal))"
   ]
  },
  {
   "cell_type": "markdown",
   "id": "ae88ed2f",
   "metadata": {
    "papermill": {
     "duration": 0.028548,
     "end_time": "2022-06-19T07:02:43.727041",
     "exception": false,
     "start_time": "2022-06-19T07:02:43.698493",
     "status": "completed"
    },
    "tags": []
   },
   "source": [
    "Both from the graph and the statistical values it is easy to understand how both considering all the accidents and considering only the cases with victims, the average age is about 40 years old. Although the average of fatal accidents is higher than the average age of accidents in general, the mode is lower (21 years of age against 30 if we consider all accidents).\n",
    "\n",
    "From the graph, it is clear that young people, as soon as they get their driving license, are more prone to dangerous driving, unaware of the danger. Gradually, an increasing instinctive sense of responsibility comes forward and so the deaths decrease, the trend stabilizes in a slow but continuous decrease after the age of 50."
   ]
  },
  {
   "cell_type": "markdown",
   "id": "2d5a51d8",
   "metadata": {
    "papermill": {
     "duration": 0.029152,
     "end_time": "2022-06-19T07:02:43.784279",
     "exception": false,
     "start_time": "2022-06-19T07:02:43.755127",
     "status": "completed"
    },
    "tags": []
   },
   "source": [
    "<a name=\"2.2\"></a>\n",
    "The next variable that we study (with both a histogram and the \"statistics function\" created) is the **number of casualties** per accident and the **number of vehicles** involved in each crash."
   ]
  },
  {
   "cell_type": "code",
   "execution_count": null,
   "id": "57bb2e5e",
   "metadata": {
    "execution": {
     "iopub.execute_input": "2022-06-19T07:02:43.842901Z",
     "iopub.status.busy": "2022-06-19T07:02:43.842417Z",
     "iopub.status.idle": "2022-06-19T07:02:50.713996Z",
     "shell.execute_reply": "2022-06-19T07:02:50.712790Z"
    },
    "papermill": {
     "duration": 6.903973,
     "end_time": "2022-06-19T07:02:50.716434",
     "exception": false,
     "start_time": "2022-06-19T07:02:43.812461",
     "status": "completed"
    },
    "tags": []
   },
   "outputs": [],
   "source": [
    "plt.figure(figsize=(14,6))\n",
    "number_of_casualties = df_acc_lst5sm['number_of_casualties'].values.tolist()\n",
    "number_of_vehicles = df_acc_lst5sm['number_of_vehicles'].values.tolist()\n",
    "#both of them have none MVs\n",
    "\n",
    "plt.hist([number_of_casualties,number_of_vehicles],bins=np.arange(100)-0.5,\\\n",
    "         label=('Number of casualties','Number of vehicles'),color=['#f22b29','#140f2d'],edgecolor='white',\\\n",
    "         density=True)\n",
    "plt.xlim(0,7.5)\n",
    "plt.legend(loc=\"best\",prop={'size': 20})\n",
    "plt.title('Number of vehicles and casualties per accident.')\n",
    "plt.ylabel('Occurence')\n",
    "plt.grid(alpha=0.2, color='#140f2d')\n",
    "ax = plt.gca()\n",
    "ax.set_facecolor('#f4f1ee')\n",
    "plt.show()\n",
    "\n",
    "print('number_of_vehicles statistics:',statistics(number_of_vehicles))\n",
    "print('number_of_casualties statistics:',statistics(number_of_casualties))"
   ]
  },
  {
   "cell_type": "markdown",
   "id": "934f4d1e",
   "metadata": {
    "papermill": {
     "duration": 0.02883,
     "end_time": "2022-06-19T07:02:50.774304",
     "exception": false,
     "start_time": "2022-06-19T07:02:50.745474",
     "status": "completed"
    },
    "tags": []
   },
   "source": [
    "From the point of view of the number of vehicles, almost all accidents involve two of them, while the number of casualties has an average of a little more than 1.\n",
    "\n",
    "This discrepancy between the two average values can mean that a relatively large number of accidents occur with 2 or more vehicles, where at least one of them is parked)."
   ]
  },
  {
   "cell_type": "markdown",
   "id": "3059ca87",
   "metadata": {
    "papermill": {
     "duration": 0.031132,
     "end_time": "2022-06-19T07:02:50.835949",
     "exception": false,
     "start_time": "2022-06-19T07:02:50.804817",
     "status": "completed"
    },
    "tags": []
   },
   "source": [
    "The third variable analyzed is the **severity of each accident**. To plot an easily understandable graph, we create a new array that simply divides the non-fatal accidents (variable 3 in the original dataset) into the fatal or serious accidents (variable 1 and 2 in the original dataset).\n",
    "<a name=\"2.3\"></a>"
   ]
  },
  {
   "cell_type": "code",
   "execution_count": null,
   "id": "509b8975",
   "metadata": {
    "execution": {
     "iopub.execute_input": "2022-06-19T07:02:50.900261Z",
     "iopub.status.busy": "2022-06-19T07:02:50.899532Z",
     "iopub.status.idle": "2022-06-19T07:02:51.451860Z",
     "shell.execute_reply": "2022-06-19T07:02:51.450347Z"
    },
    "papermill": {
     "duration": 0.587505,
     "end_time": "2022-06-19T07:02:51.454038",
     "exception": false,
     "start_time": "2022-06-19T07:02:50.866533",
     "status": "completed"
    },
    "tags": []
   },
   "outputs": [],
   "source": [
    "accident_severity = df_acc_lst5sm['accident_severity'].values.tolist()\n",
    "#does not has any MVs\n",
    "\n",
    "ratio_doa = accident_severity.count(1)/len(accident_severity)\n",
    "\n",
    "for i in range(0,len(accident_severity)):\n",
    "    if accident_severity[i]==1 or accident_severity[i]==2:\n",
    "        accident_severity[i]=1\n",
    "    else:\n",
    "        accident_severity[i]=0\n",
    "        \n",
    "plt.figure(figsize=(14,6))\n",
    "\n",
    "labels = ['Fatal & Serious', 'Non-Fatal']\n",
    "sizes = [accident_severity.count(1)/len(accident_severity),\\\n",
    "         accident_severity.count(0)/len(accident_severity)] \n",
    "patches, texts = plt.pie(sizes, colors=['red', 'green'], shadow=True, startangle=90)\n",
    "plt.legend(patches, labels, loc=\"best\",prop={'size': 20})\n",
    "plt.axis('equal')\n",
    "plt.title('Accident severity.')\n",
    "plt.tight_layout()\n",
    "plt.show()\n",
    "\n",
    "print('The \"deaths over all\" ratio is ',ratio_doa*100,'%')"
   ]
  },
  {
   "cell_type": "markdown",
   "id": "6e6e84d5",
   "metadata": {
    "papermill": {
     "duration": 0.029454,
     "end_time": "2022-06-19T07:02:51.512922",
     "exception": false,
     "start_time": "2022-06-19T07:02:51.483468",
     "status": "completed"
    },
    "tags": []
   },
   "source": [
    "The pie graphs make it easier to notice that the vast majority of accidents have no serious injuries or deaths (*good news*). If we analyze the ratio between Fatal accidents and the number of total crashes we see that the accidents with deaths are more or less only the 1.35% of all. "
   ]
  },
  {
   "cell_type": "markdown",
   "id": "bccad128",
   "metadata": {
    "papermill": {
     "duration": 0.028886,
     "end_time": "2022-06-19T07:02:51.571287",
     "exception": false,
     "start_time": "2022-06-19T07:02:51.542401",
     "status": "completed"
    },
    "tags": []
   },
   "source": [
    "Which are the **maneuvers** that most conduct to accidents?\n",
    "\n",
    "The fourth point answers that. The first thing to do is remove the rows where there are values equal to -1 (MVs) or 99 (not specified maneuver)."
   ]
  },
  {
   "cell_type": "code",
   "execution_count": null,
   "id": "1a8e6e05",
   "metadata": {
    "execution": {
     "iopub.execute_input": "2022-06-19T07:02:51.632617Z",
     "iopub.status.busy": "2022-06-19T07:02:51.631357Z",
     "iopub.status.idle": "2022-06-19T07:02:51.650438Z",
     "shell.execute_reply": "2022-06-19T07:02:51.649407Z"
    },
    "papermill": {
     "duration": 0.051702,
     "end_time": "2022-06-19T07:02:51.652270",
     "exception": false,
     "start_time": "2022-06-19T07:02:51.600568",
     "status": "completed"
    },
    "tags": []
   },
   "outputs": [],
   "source": [
    "vehicle_manoeuvre = df_vei_lst5sm['vehicle_manoeuvre'].values.tolist()\n",
    "len_before = len(vehicle_manoeuvre)"
   ]
  },
  {
   "cell_type": "code",
   "execution_count": null,
   "id": "1414e29e",
   "metadata": {
    "execution": {
     "iopub.execute_input": "2022-06-19T07:02:51.713393Z",
     "iopub.status.busy": "2022-06-19T07:02:51.712645Z",
     "iopub.status.idle": "2022-06-19T07:02:51.814777Z",
     "shell.execute_reply": "2022-06-19T07:02:51.813878Z"
    },
    "papermill": {
     "duration": 0.13493,
     "end_time": "2022-06-19T07:02:51.816738",
     "exception": false,
     "start_time": "2022-06-19T07:02:51.681808",
     "status": "completed"
    },
    "tags": []
   },
   "outputs": [],
   "source": [
    "vehicle_manoeuvre = [x for x in vehicle_manoeuvre if x != -1]\n",
    "vehicle_manoeuvre = [x for x in vehicle_manoeuvre if x != 99]\n",
    "print('After the cleaning of the MV & useless data, the array is the',\\\n",
    "      100*(len(vehicle_manoeuvre)/len_before),'% of the original array')"
   ]
  },
  {
   "cell_type": "markdown",
   "id": "fef61420",
   "metadata": {
    "papermill": {
     "duration": 0.029115,
     "end_time": "2022-06-19T07:02:51.875222",
     "exception": false,
     "start_time": "2022-06-19T07:02:51.846107",
     "status": "completed"
    },
    "tags": []
   },
   "source": [
    "<a name=\"2.4\"></a>"
   ]
  },
  {
   "cell_type": "code",
   "execution_count": null,
   "id": "ed104e9c",
   "metadata": {
    "execution": {
     "iopub.execute_input": "2022-06-19T07:02:51.938329Z",
     "iopub.status.busy": "2022-06-19T07:02:51.937026Z",
     "iopub.status.idle": "2022-06-19T07:02:55.480104Z",
     "shell.execute_reply": "2022-06-19T07:02:55.478947Z"
    },
    "papermill": {
     "duration": 3.577996,
     "end_time": "2022-06-19T07:02:55.483311",
     "exception": false,
     "start_time": "2022-06-19T07:02:51.905315",
     "status": "completed"
    },
    "tags": []
   },
   "outputs": [],
   "source": [
    "manoeuvres = ('Reversing','Parked','Waiting to go','Slowing','Moving off','U-turn',\\\n",
    "            'Turning L','Waiting to turn L','Turning R','Waiting to turn R',\\\n",
    "            'Changing lane L','changing lane R','Overtaking moving vehicle',\\\n",
    "            'Overtaking static vehicle','Overtaking nearside','Going ahead L',\\\n",
    "            'Going ahead R','Going ahead other')\n",
    "plt.figure(figsize=(14,6))\n",
    "N, bins, patches = plt.hist(vehicle_manoeuvre,bins=np.arange(50)-0.5,color='#140f2d',edgecolor='white')\n",
    "for i in range(7,8):\n",
    "    patches[i].set_facecolor('#f22b29')\n",
    "for i in range(9,10):\n",
    "    patches[i].set_facecolor('#f22b29')\n",
    "\n",
    "plt.xlabel(\"Manouvres\")\n",
    "plt.ylabel(\"Occurence\")\n",
    "plt.title('Manouvres.')\n",
    "plt.grid(alpha=0.2, color='#140f2d')\n",
    "plt.xlim(0,19)\n",
    "plt.xticks(ticks=range(1,19,1),labels=manoeuvres,rotation='70')\n",
    "ax = plt.gca()\n",
    "ax.set_facecolor('#f4f1ee')\n",
    "plt.show()"
   ]
  },
  {
   "cell_type": "markdown",
   "id": "cbaae06f",
   "metadata": {
    "papermill": {
     "duration": 0.029891,
     "end_time": "2022-06-19T07:02:55.544040",
     "exception": false,
     "start_time": "2022-06-19T07:02:55.514149",
     "status": "completed"
    },
    "tags": []
   },
   "source": [
    "Most of the accidents are made on straight streets but **why are there more accidents caused by a right turn than those caused by a left turn?**"
   ]
  },
  {
   "cell_type": "markdown",
   "id": "3bc534e8",
   "metadata": {
    "papermill": {
     "duration": 0.029493,
     "end_time": "2022-06-19T07:02:55.603317",
     "exception": false,
     "start_time": "2022-06-19T07:02:55.573824",
     "status": "completed"
    },
    "tags": []
   },
   "source": [
    "![Highway_in_UK](https://upload.wikimedia.org/wikipedia/commons/2/24/A2_at_Leyton_Cross_-_geograph.org.uk_-_203101.jpg)\n",
    "\n",
    "*This file is licensed under the Creative Commons Attribution-Share Alike 2.0 Generic license.*"
   ]
  },
  {
   "cell_type": "markdown",
   "id": "47eb4d8f",
   "metadata": {
    "papermill": {
     "duration": 0.029534,
     "end_time": "2022-06-19T07:02:55.662932",
     "exception": false,
     "start_time": "2022-06-19T07:02:55.633398",
     "status": "completed"
    },
    "tags": []
   },
   "source": [
    "...it was predictable, given the direction of travel used in the UK.\n",
    "\n",
    "The reason can simply be the direction of travel: in the United Kingdom, the vehicles run keeping the left side of the road. By doing this, the right turns force the crossing of the opposite lane, thus making the maneuver more dangerous than the similar left turn.\n",
    "\n",
    "A first (and very simple) test can be the study of a similar dataset coming from a state in which the drive is \"on the right side of the road\".\n",
    "<br>\n",
    "\n",
    "Maryland, one of the 50 states in the USA, has a similar dataset ([see HERE](https://opendata.maryland.gov/Public-Safety/Maryland-Statewide-Vehicle-Crashes/65du-s3qu)), uploaded each year.\n",
    "\n",
    "With lines of code similar to those used so far, it is therefore easy to graph the number of accidents caused by right or left turns in the United Kingdom and Maryland:"
   ]
  },
  {
   "cell_type": "code",
   "execution_count": null,
   "id": "2335f513",
   "metadata": {
    "execution": {
     "iopub.execute_input": "2022-06-19T07:02:55.725375Z",
     "iopub.status.busy": "2022-06-19T07:02:55.724701Z",
     "iopub.status.idle": "2022-06-19T07:04:46.447530Z",
     "shell.execute_reply": "2022-06-19T07:04:46.446420Z"
    },
    "papermill": {
     "duration": 110.757222,
     "end_time": "2022-06-19T07:04:46.450193",
     "exception": false,
     "start_time": "2022-06-19T07:02:55.692971",
     "status": "completed"
    },
    "tags": []
   },
   "outputs": [],
   "source": [
    "df_maryland_acc_lst5_url = 'https://opendata.maryland.gov/api/views/65du-s3qu/rows.csv'\n",
    "df_maryland_vei_lst5_url = 'https://opendata.maryland.gov/api/views/mhft-5t5y/rows.csv'\n",
    "df_maryland_cas_lst5_url = 'https://opendata.maryland.gov/api/views/py4c-dicf/rows.csv'\n",
    "\n",
    "df_maryland_vei_lst5 = pd.read_csv(df_maryland_vei_lst5_url,low_memory=False)\n",
    "vehicle_manoeuvre_mary = df_maryland_vei_lst5['MOVEMENT_DESC'].values.tolist()"
   ]
  },
  {
   "cell_type": "code",
   "execution_count": null,
   "id": "78bd5873",
   "metadata": {
    "execution": {
     "iopub.execute_input": "2022-06-19T07:04:46.513371Z",
     "iopub.status.busy": "2022-06-19T07:04:46.512658Z",
     "iopub.status.idle": "2022-06-19T07:04:48.155228Z",
     "shell.execute_reply": "2022-06-19T07:04:48.154162Z"
    },
    "papermill": {
     "duration": 1.676638,
     "end_time": "2022-06-19T07:04:48.157608",
     "exception": false,
     "start_time": "2022-06-19T07:04:46.480970",
     "status": "completed"
    },
    "scrolled": true,
    "tags": []
   },
   "outputs": [],
   "source": [
    "vehicle_manoeuvre_MarVSUK = [vehicle_manoeuvre.count(7),vehicle_manoeuvre.count(9),\\\n",
    "                      vehicle_manoeuvre_mary.count('Making Left Turn'),\\\n",
    "                      vehicle_manoeuvre_mary.count('Making Right Turn')]\n",
    "#in the UK's dataset, 7 is turn L, 9 is turn R\n",
    "\n",
    "response = [requests.get('https://flaglane.com/download/british-flag/british-flag-small.png'),\\\n",
    "           requests.get('https://flaglane.com/download/british-flag/british-flag-small.png'),\\\n",
    "           requests.get('https://flaglane.com/download/maryland-flag/maryland-flag-small.png'),\\\n",
    "           requests.get('https://flaglane.com/download/maryland-flag/maryland-flag-small.png')]\n",
    "\n",
    "def offset_image(coord, ax):\n",
    "    img = Image.open(BytesIO(response[coord].content))\n",
    "    im = OffsetImage(img, zoom=0.7)\n",
    "    im.image.axes = ax\n",
    "    ab = AnnotationBbox(im, (coord, 0),  xybox=(0., -100.), frameon=False,\\\n",
    "                        xycoords='data',  boxcoords=\"offset points\", pad=0)\n",
    "    ax.add_artist(ab)\n",
    "    \n",
    "\n",
    "valuesA = [20, 15, 30, 5]\n",
    "labels = ['UK Left','UK Right','Maryland Left','Maryland Right']\n",
    "\n",
    "fig, ax = plt.subplots(figsize=(14,6))\n",
    "\n",
    "ax.bar(range(len(labels)), vehicle_manoeuvre_MarVSUK,align=\"center\",color='#140f2d',edgecolor='white')\n",
    "ax.set_xticks(range(len(labels)))\n",
    "ax.set_xticklabels(labels)\n",
    "plt.title('Number of accidents in right and left turns in US and UK.')\n",
    "plt.grid(alpha=0.2, color='#140f2d')\n",
    "plt.ylabel(\"Occurence\")\n",
    "ax = plt.gca()\n",
    "ax.set_facecolor('#f4f1ee')\n",
    "ax.tick_params(axis='x', which='major', pad=26)\n",
    "\n",
    "for i in range (0,len(labels)):\n",
    "    offset_image(i, ax)\n",
    "plt.show()"
   ]
  },
  {
   "cell_type": "markdown",
   "id": "fc0fecb1",
   "metadata": {
    "papermill": {
     "duration": 0.030424,
     "end_time": "2022-06-19T07:04:48.218550",
     "exception": false,
     "start_time": "2022-06-19T07:04:48.188126",
     "status": "completed"
    },
    "tags": []
   },
   "source": [
    "We can see how in a country where people drive on the opposite side of the road (as US, Europe...), the results are literally the opposite! This is clear proof that the direction of travel used in the UK can be the reason for the not equality in the number of turn crashes."
   ]
  },
  {
   "cell_type": "markdown",
   "id": "ecae1577",
   "metadata": {
    "papermill": {
     "duration": 0.03101,
     "end_time": "2022-06-19T07:04:48.280408",
     "exception": false,
     "start_time": "2022-06-19T07:04:48.249398",
     "status": "completed"
    },
    "tags": []
   },
   "source": [
    "The fifth point of our travel through the data requires analyzing which **kind of vehicles** are the most involved.\n",
    "\n",
    "To simplify the comprehension of the graph, we rescaled (after removing all the MVs and other useless values) all the different types on the dataset into six main groups:\n",
    "- Bicycle\n",
    "- Motorcycle\n",
    "- Car\n",
    "- Bus\n",
    "- Other\n",
    "- Cargo Vehicle"
   ]
  },
  {
   "cell_type": "code",
   "execution_count": null,
   "id": "a738f760",
   "metadata": {
    "execution": {
     "iopub.execute_input": "2022-06-19T07:04:48.344581Z",
     "iopub.status.busy": "2022-06-19T07:04:48.343783Z",
     "iopub.status.idle": "2022-06-19T07:04:48.362736Z",
     "shell.execute_reply": "2022-06-19T07:04:48.361747Z"
    },
    "papermill": {
     "duration": 0.053902,
     "end_time": "2022-06-19T07:04:48.365141",
     "exception": false,
     "start_time": "2022-06-19T07:04:48.311239",
     "status": "completed"
    },
    "tags": []
   },
   "outputs": [],
   "source": [
    "vehicle_type = df_vei_lst5sm['vehicle_type'].values.tolist()\n",
    "len_before = len(vehicle_type)"
   ]
  },
  {
   "cell_type": "code",
   "execution_count": null,
   "id": "d33e7d1e",
   "metadata": {
    "execution": {
     "iopub.execute_input": "2022-06-19T07:04:48.428908Z",
     "iopub.status.busy": "2022-06-19T07:04:48.428290Z",
     "iopub.status.idle": "2022-06-19T07:04:48.540581Z",
     "shell.execute_reply": "2022-06-19T07:04:48.539528Z"
    },
    "papermill": {
     "duration": 0.14805,
     "end_time": "2022-06-19T07:04:48.543961",
     "exception": false,
     "start_time": "2022-06-19T07:04:48.395911",
     "status": "completed"
    },
    "tags": []
   },
   "outputs": [],
   "source": [
    "vehicle_type = [x for x in vehicle_type if x != -1]\n",
    "vehicle_type = [x for x in vehicle_type if x != 99]\n",
    "print('After the cleaning of the MV & useless data, the array is the',\\\n",
    "      100*(len(vehicle_type)/len_before),'% of the original array')"
   ]
  },
  {
   "cell_type": "code",
   "execution_count": null,
   "id": "578140d7",
   "metadata": {
    "execution": {
     "iopub.execute_input": "2022-06-19T07:04:48.609175Z",
     "iopub.status.busy": "2022-06-19T07:04:48.608522Z",
     "iopub.status.idle": "2022-06-19T07:04:49.865917Z",
     "shell.execute_reply": "2022-06-19T07:04:49.864568Z"
    },
    "papermill": {
     "duration": 1.292573,
     "end_time": "2022-06-19T07:04:49.868577",
     "exception": false,
     "start_time": "2022-06-19T07:04:48.576004",
     "status": "completed"
    },
    "tags": []
   },
   "outputs": [],
   "source": [
    "for i in range(0,len(vehicle_type)):\n",
    "    if vehicle_type[i]==3 or vehicle_type[i]==4 or vehicle_type[i]==5 or vehicle_type[i]==97 or\\\n",
    "    vehicle_type[i]==22 or vehicle_type[i]==23:\n",
    "        vehicle_type[i]=2\n",
    "    elif vehicle_type[i]==98 or vehicle_type[i]==21 or vehicle_type[i]==19:\n",
    "        vehicle_type[i]=20\n",
    "    elif vehicle_type[i]==90 or vehicle_type[i]==18 or vehicle_type[i]==17:\n",
    "        vehicle_type[i]=16\n",
    "    elif vehicle_type[i]==11:\n",
    "        vehicle_type[i]=10\n",
    "    elif vehicle_type[i]==9:\n",
    "        vehicle_type[i]=8\n",
    "vehicle_typenew = vehicle_type.copy()\n",
    "\n",
    "for j in range(0,len(vehicle_typenew)):\n",
    "    if vehicle_typenew[j]==8:\n",
    "        vehicle_typenew[j]=3\n",
    "    elif vehicle_typenew[j]==10:\n",
    "        vehicle_typenew[j]=4\n",
    "    elif vehicle_typenew[j]==16:\n",
    "        vehicle_typenew[j]=5\n",
    "    elif vehicle_typenew[j]==20:\n",
    "        vehicle_typenew[j]=6"
   ]
  },
  {
   "cell_type": "markdown",
   "id": "b435f902",
   "metadata": {
    "papermill": {
     "duration": 0.030935,
     "end_time": "2022-06-19T07:04:49.932036",
     "exception": false,
     "start_time": "2022-06-19T07:04:49.901101",
     "status": "completed"
    },
    "tags": []
   },
   "source": [
    "<a name=\"2.5\"></a>"
   ]
  },
  {
   "cell_type": "code",
   "execution_count": null,
   "id": "d20d155b",
   "metadata": {
    "execution": {
     "iopub.execute_input": "2022-06-19T07:04:49.996748Z",
     "iopub.status.busy": "2022-06-19T07:04:49.996231Z",
     "iopub.status.idle": "2022-06-19T07:04:53.709454Z",
     "shell.execute_reply": "2022-06-19T07:04:53.708378Z"
    },
    "papermill": {
     "duration": 3.748463,
     "end_time": "2022-06-19T07:04:53.712193",
     "exception": false,
     "start_time": "2022-06-19T07:04:49.963730",
     "status": "completed"
    },
    "tags": []
   },
   "outputs": [],
   "source": [
    "types = ('Bicycle','Motorcycle','Car','Bus','Other','Cargo Vehicle')\n",
    "plt.figure(figsize=(14,6))\n",
    "N, bins, patches = plt.hist(vehicle_typenew,bins=np.arange(100)-0.5,color='#140f2d',edgecolor='white',\\\n",
    "                            density=True)\n",
    "for i in range(2,3):\n",
    "    patches[i].set_facecolor('#f22b29')\n",
    "plt.xlim(0,7)\n",
    "plt.xticks(ticks=(1,2,3,4,5,6),labels=types)\n",
    "plt.xlabel(\"Vehicles\")\n",
    "plt.ylabel(\"Occurence\")\n",
    "plt.title('Kinds of vehicles involved.')\n",
    "plt.grid(alpha=0.2, color='#140f2d')\n",
    "ax = plt.gca()\n",
    "ax.set_facecolor('#f4f1ee')\n",
    "plt.show()"
   ]
  },
  {
   "cell_type": "markdown",
   "id": "3575ca8c",
   "metadata": {
    "papermill": {
     "duration": 0.031617,
     "end_time": "2022-06-19T07:04:53.775054",
     "exception": false,
     "start_time": "2022-06-19T07:04:53.743437",
     "status": "completed"
    },
    "tags": []
   },
   "source": [
    "Does this distribution of frequency make sense?\n",
    "\n",
    "A possible answer can be found by analyzing the annual reports about the \"Vehicle Licensing Statistics\" (annually uploaded [HERE](https://www.gov.uk/government/collections/vehicles-statistics)). If we read the 2019 report  (the graph above is about data from 2015 to 2020) we read some interesting connections.\n",
    "Cars make up the majority of licensed vehicles:\n",
    "\n",
    "| Vehicle | Number of licenses | Percentage |\n",
    "| ---:        |    :----:   |          :--- |\n",
    "| Cars | 31.9 million | 82.4% |\n",
    "| LGVs | 4.1 million | 10.7% |\n",
    "| HGVs | 0.5 million | 1.3% |\n",
    "| Motorcycles | 1.3 million | 3.2% |\n",
    "| Buses & Coaches | 0.15 million | 0.4% |\n",
    "| Other | 0.77 million | 2% |\n",
    "\n",
    "Considering that about 9% of the vehicles in the dataset and involved in accidents are bicycles (vehicles not registered and therefore not included in the report), it makes perfect sense that the percentages in the report are all slightly higher than those obtained from the graph.\n",
    "\n",
    "Motorcycles are the only category to have a higher accident rate (approximately 3 times) than the percentage of registered vehicles: about 9% of vehicles involved in accidents are motorcycles, while motorcycles are only 3.2% of registered vehicles.\n",
    "\n",
    "[*.pdf file with 2019 report*](https://assets.publishing.service.gov.uk/government/uploads/system/uploads/attachment_data/file/882196/vehicle-licensing-statistics-2019.pdf)"
   ]
  },
  {
   "cell_type": "markdown",
   "id": "fc6bf2ab",
   "metadata": {
    "papermill": {
     "duration": 0.030539,
     "end_time": "2022-06-19T07:04:53.836428",
     "exception": false,
     "start_time": "2022-06-19T07:04:53.805889",
     "status": "completed"
    },
    "tags": []
   },
   "source": [
    "The third last point on the list with the variables studied is on the role of **pedestrians** in accidents.\n",
    "\n",
    "After the usual removal of rows with missing values and useless values (such as \"not specified data\"), we select the accidents with pedestrians involved only (by removing the accidents with 0 as value)."
   ]
  },
  {
   "cell_type": "code",
   "execution_count": null,
   "id": "618e2bf6",
   "metadata": {
    "execution": {
     "iopub.execute_input": "2022-06-19T07:04:53.899775Z",
     "iopub.status.busy": "2022-06-19T07:04:53.899319Z",
     "iopub.status.idle": "2022-06-19T07:04:53.989544Z",
     "shell.execute_reply": "2022-06-19T07:04:53.988606Z"
    },
    "papermill": {
     "duration": 0.124708,
     "end_time": "2022-06-19T07:04:53.991717",
     "exception": false,
     "start_time": "2022-06-19T07:04:53.867009",
     "status": "completed"
    },
    "tags": []
   },
   "outputs": [],
   "source": [
    "pedestrian_location = df_cas_lst5sm['pedestrian_location'].values.tolist()\n",
    "len_before = len(pedestrian_location)\n",
    "pedestrian_location = [x for x in pedestrian_location if x != -1]\n",
    "pedestrian_location = [x for x in pedestrian_location if x != 0]\n",
    "pedestrian_location = [x for x in pedestrian_location if x != 99]\n",
    "print('After the cleaning of the MV & useless data, the array is the',\\\n",
    "      100*(len(pedestrian_location)/len_before),'% of the original array')"
   ]
  },
  {
   "cell_type": "markdown",
   "id": "5a0b5bc5",
   "metadata": {
    "papermill": {
     "duration": 0.03201,
     "end_time": "2022-06-19T07:04:54.055848",
     "exception": false,
     "start_time": "2022-06-19T07:04:54.023838",
     "status": "completed"
    },
    "tags": []
   },
   "source": [
    "This does not mean that if we remove the MVs we obtain a too small dataset! 14% is more or less the percentage of accidents with pedestrian involved.\n",
    "<a name=\"2.6\"></a>"
   ]
  },
  {
   "cell_type": "code",
   "execution_count": null,
   "id": "28bd8b24",
   "metadata": {
    "execution": {
     "iopub.execute_input": "2022-06-19T07:04:54.123108Z",
     "iopub.status.busy": "2022-06-19T07:04:54.122404Z",
     "iopub.status.idle": "2022-06-19T07:04:55.214973Z",
     "shell.execute_reply": "2022-06-19T07:04:55.213523Z"
    },
    "papermill": {
     "duration": 1.130696,
     "end_time": "2022-06-19T07:04:55.217993",
     "exception": false,
     "start_time": "2022-06-19T07:04:54.087297",
     "status": "completed"
    },
    "tags": []
   },
   "outputs": [],
   "source": [
    "locations = ('Pedestrian crossing','Zig-zag approach lines','Zig-zag exit lines'\\\n",
    "           ,'Nearby a pedestrian crossing'\\\n",
    "           ,'Crossing elsewhere','On footway','On refuge','Center of carriageway',\\\n",
    "           'In carriageway not crossing','Unknown')\n",
    "plt.figure(figsize=(14,6))\n",
    "plt.hist(pedestrian_location,bins=np.arange(20)-0.5,color='#140f2d',edgecolor='white')\n",
    "plt.yscale('log')\n",
    "plt.xlabel(\"Locations\")\n",
    "plt.ylabel(\"Occurence\")\n",
    "plt.title('Pedestrians - locations.')\n",
    "plt.grid(alpha=0.2, color='#140f2d')\n",
    "plt.xticks(ticks=range(1,11,1),labels=locations,rotation=65)\n",
    "plt.xlim(0,11)\n",
    "ax = plt.gca()\n",
    "ax.set_facecolor('#f4f1ee')\n",
    "plt.show()"
   ]
  },
  {
   "cell_type": "code",
   "execution_count": null,
   "id": "ccf8a118",
   "metadata": {
    "execution": {
     "iopub.execute_input": "2022-06-19T07:04:55.285642Z",
     "iopub.status.busy": "2022-06-19T07:04:55.285166Z",
     "iopub.status.idle": "2022-06-19T07:04:55.421131Z",
     "shell.execute_reply": "2022-06-19T07:04:55.420218Z"
    },
    "papermill": {
     "duration": 0.172381,
     "end_time": "2022-06-19T07:04:55.423254",
     "exception": false,
     "start_time": "2022-06-19T07:04:55.250873",
     "status": "completed"
    },
    "tags": []
   },
   "outputs": [],
   "source": [
    "pedestrian_movement = df_cas_lst5sm['pedestrian_movement'].values.tolist()\n",
    "len_before = len(pedestrian_movement)\n",
    "pedestrian_movement = [x for x in pedestrian_movement if x != -1] \n",
    "pedestrian_movement = [x for x in pedestrian_movement if x != 99]\n",
    "pedestrian_movement = [x for x in pedestrian_movement if x != 0]\n",
    "print('After the cleaning of the MV & useless data, the array is the',\\\n",
    "      100*(len(pedestrian_movement)/len_before),'% of the original array')"
   ]
  },
  {
   "cell_type": "code",
   "execution_count": null,
   "id": "2d9c7894",
   "metadata": {
    "execution": {
     "iopub.execute_input": "2022-06-19T07:04:55.490276Z",
     "iopub.status.busy": "2022-06-19T07:04:55.489534Z",
     "iopub.status.idle": "2022-06-19T07:04:56.068264Z",
     "shell.execute_reply": "2022-06-19T07:04:56.067230Z"
    },
    "papermill": {
     "duration": 0.615003,
     "end_time": "2022-06-19T07:04:56.070361",
     "exception": false,
     "start_time": "2022-06-19T07:04:55.455358",
     "status": "completed"
    },
    "tags": []
   },
   "outputs": [],
   "source": [
    "movements = ('Crossing nearside','Nearside-masked by vehicle','Crossing offside','Offside-masked by vehicle'\\\n",
    "           ,'In carriageway-stationary','In carriageway-stationary-masked',\\\n",
    "           'Walking facing traffic','Walking back to traffic','Unkwnown')\n",
    "plt.figure(figsize=(14,6))\n",
    "plt.hist(pedestrian_movement,bins=np.arange(20)-0.5,color='#140f2d',edgecolor='white')\n",
    "plt.xticks(ticks=range(1,10,1),labels=(movements),rotation=65)\n",
    "plt.xlabel(\"Pedestrian actions\")\n",
    "plt.ylabel(\"Occurence\")\n",
    "plt.title('Pedestrians - actions.')\n",
    "plt.grid(alpha=0.2, color='#140f2d')\n",
    "plt.xlim(0,10)\n",
    "ax = plt.gca()\n",
    "ax.set_facecolor('#f4f1ee')\n",
    "plt.show()"
   ]
  },
  {
   "cell_type": "markdown",
   "id": "8e3427c2",
   "metadata": {
    "papermill": {
     "duration": 0.033901,
     "end_time": "2022-06-19T07:04:56.137655",
     "exception": false,
     "start_time": "2022-06-19T07:04:56.103754",
     "status": "completed"
    },
    "tags": []
   },
   "source": [
    "We have analyzed (after similar processing of information from the data frame) both the position and the actions of pedestrians during accidents.\n",
    "\n",
    "Most of the pedestrians involved in accidents were crossing the road. "
   ]
  },
  {
   "cell_type": "markdown",
   "id": "e48e1c7d",
   "metadata": {
    "papermill": {
     "duration": 0.032786,
     "end_time": "2022-06-19T07:04:56.203098",
     "exception": false,
     "start_time": "2022-06-19T07:04:56.170312",
     "status": "completed"
    },
    "tags": []
   },
   "source": [
    "The penultimate point on the list of these preliminary investigations is **speed**. Speeding is often considered the predominant cause of serious road accidents; for this reason, it is interesting to study the graph of the speeds (or better... of the speed limits at the accident sites) compared to the ones of cases with victims only."
   ]
  },
  {
   "cell_type": "markdown",
   "id": "3b776e12",
   "metadata": {
    "papermill": {
     "duration": 0.032576,
     "end_time": "2022-06-19T07:04:56.268816",
     "exception": false,
     "start_time": "2022-06-19T07:04:56.236240",
     "status": "completed"
    },
    "tags": []
   },
   "source": [
    "First of all, as usual, we analyze the missing values inside the dataset and we remove rows where MVs are present."
   ]
  },
  {
   "cell_type": "code",
   "execution_count": null,
   "id": "27bc17e2",
   "metadata": {
    "execution": {
     "iopub.execute_input": "2022-06-19T07:04:56.338085Z",
     "iopub.status.busy": "2022-06-19T07:04:56.336977Z",
     "iopub.status.idle": "2022-06-19T07:04:56.404123Z",
     "shell.execute_reply": "2022-06-19T07:04:56.402745Z"
    },
    "papermill": {
     "duration": 0.104864,
     "end_time": "2022-06-19T07:04:56.406327",
     "exception": false,
     "start_time": "2022-06-19T07:04:56.301463",
     "status": "completed"
    },
    "tags": []
   },
   "outputs": [],
   "source": [
    "speed_limit = df_acc_lst5sm['speed_limit'].values.tolist()\n",
    "speed_limit_fatal = df_acc_lst5sm_fatal['speed_limit'].values.tolist()\n",
    "print('In the total accidents dataset, the speed_limit variable has ',\\\n",
    "      np.count_nonzero(np.isnan(speed_limit)),'MVs')\n",
    "print('In the fatal accidents dataset, the speed_limit variable has ',\\\n",
    "      np.count_nonzero(np.isnan(speed_limit_fatal)),'MVs')"
   ]
  },
  {
   "cell_type": "code",
   "execution_count": null,
   "id": "ea0681b8",
   "metadata": {
    "execution": {
     "iopub.execute_input": "2022-06-19T07:04:56.474520Z",
     "iopub.status.busy": "2022-06-19T07:04:56.474020Z",
     "iopub.status.idle": "2022-06-19T07:04:56.539561Z",
     "shell.execute_reply": "2022-06-19T07:04:56.538392Z"
    },
    "papermill": {
     "duration": 0.10263,
     "end_time": "2022-06-19T07:04:56.542020",
     "exception": false,
     "start_time": "2022-06-19T07:04:56.439390",
     "status": "completed"
    },
    "tags": []
   },
   "outputs": [],
   "source": [
    "df_acc_lst5sm_mod = df_acc_lst5sm[df_acc_lst5sm['speed_limit'].notna()]\n",
    "speed_limit = df_acc_lst5sm['speed_limit'].values.tolist()"
   ]
  },
  {
   "cell_type": "markdown",
   "id": "6485ee45",
   "metadata": {
    "papermill": {
     "duration": 0.032772,
     "end_time": "2022-06-19T07:04:56.608617",
     "exception": false,
     "start_time": "2022-06-19T07:04:56.575845",
     "status": "completed"
    },
    "tags": []
   },
   "source": [
    "<a name=\"2.7\"></a>"
   ]
  },
  {
   "cell_type": "code",
   "execution_count": null,
   "id": "1af43afc",
   "metadata": {
    "execution": {
     "iopub.execute_input": "2022-06-19T07:04:56.677792Z",
     "iopub.status.busy": "2022-06-19T07:04:56.676736Z",
     "iopub.status.idle": "2022-06-19T07:04:57.139962Z",
     "shell.execute_reply": "2022-06-19T07:04:57.138909Z"
    },
    "papermill": {
     "duration": 0.500301,
     "end_time": "2022-06-19T07:04:57.142238",
     "exception": false,
     "start_time": "2022-06-19T07:04:56.641937",
     "status": "completed"
    },
    "tags": []
   },
   "outputs": [],
   "source": [
    "speed_limit1=[]\n",
    "for number in speed_limit:\n",
    "    speed_limit1.append(number / 10)\n",
    "\n",
    "speed_limit_fatal1=[]\n",
    "for number in speed_limit_fatal:\n",
    "    speed_limit_fatal1.append(number/10)\n",
    "    \n",
    "plt.figure(figsize=(14,6))\n",
    "plt.hist([speed_limit1,speed_limit_fatal1],bins=np.arange(20)-0.5,\\\n",
    "         label=('Total accidents','Fatal accidents'),color=['#140f2d','#f22b29']\\\n",
    "         ,density=True,edgecolor='white')\n",
    "plt.legend(loc=\"best\",prop={'size': 20})\n",
    "plt.xlabel(\"Speed Limit\")\n",
    "plt.ylabel(\"Occurence\")\n",
    "plt.title('Speed limits.')\n",
    "plt.grid(alpha=0.2, color='#140f2d')\n",
    "plt.xlim(2,8)\n",
    "plt.xticks(ticks=range(1,8,1),labels=range(10,80,10))\n",
    "ax = plt.gca()\n",
    "ax.set_facecolor('#f4f1ee')\n",
    "plt.show()"
   ]
  },
  {
   "cell_type": "markdown",
   "id": "ada9d667",
   "metadata": {
    "papermill": {
     "duration": 0.033115,
     "end_time": "2022-06-19T07:04:57.208172",
     "exception": false,
     "start_time": "2022-06-19T07:04:57.175057",
     "status": "completed"
    },
    "tags": []
   },
   "source": [
    "Most of the accidents take place on roads with quite low-speed limits (30 mph), so in urban areas. As predicted before this analysis, a lot of fatal accidents were made in streets with an high-speed limit."
   ]
  },
  {
   "cell_type": "markdown",
   "id": "1df03918",
   "metadata": {
    "papermill": {
     "duration": 0.033977,
     "end_time": "2022-06-19T07:04:57.275986",
     "exception": false,
     "start_time": "2022-06-19T07:04:57.242009",
     "status": "completed"
    },
    "tags": []
   },
   "source": [
    "The last point analyzed is the **weather**. As in the previous case, we do a study with fatal crashes against all the accidents considered. We consider bad weather conditions ONLY."
   ]
  },
  {
   "cell_type": "code",
   "execution_count": null,
   "id": "1f36d2f0",
   "metadata": {
    "execution": {
     "iopub.execute_input": "2022-06-19T07:04:57.346519Z",
     "iopub.status.busy": "2022-06-19T07:04:57.345975Z",
     "iopub.status.idle": "2022-06-19T07:04:57.443479Z",
     "shell.execute_reply": "2022-06-19T07:04:57.442694Z"
    },
    "papermill": {
     "duration": 0.135209,
     "end_time": "2022-06-19T07:04:57.445831",
     "exception": false,
     "start_time": "2022-06-19T07:04:57.310622",
     "status": "completed"
    },
    "tags": []
   },
   "outputs": [],
   "source": [
    "weather_conditions = df_acc_lst5sm['weather_conditions'].values.tolist() \n",
    "weather_conditions_fatal = df_acc_lst5sm_fatal['weather_conditions'].values.tolist()\n",
    "len_before = len(weather_conditions)\n",
    "weather_conditions = [x for x in weather_conditions if x != -1] \n",
    "weather_conditions = [x for x in weather_conditions if x != 9]\n",
    "weather_conditions_fatal = [x for x in weather_conditions_fatal if x != -1]\n",
    "weather_conditions_fatal = [x for x in weather_conditions_fatal if x != 9]\n",
    "weather_conditions = [x for x in weather_conditions if x != 1]\n",
    "weather_conditions_fatal = [x for x in weather_conditions_fatal if x != 1]\n",
    "print('After the cleaning of the MV & useless data, the array is the',\\\n",
    "      100*(len(weather_conditions)/len_before),'% of the original array')"
   ]
  },
  {
   "cell_type": "markdown",
   "id": "f9eaf98c",
   "metadata": {
    "papermill": {
     "duration": 0.034046,
     "end_time": "2022-06-19T07:04:57.513733",
     "exception": false,
     "start_time": "2022-06-19T07:04:57.479687",
     "status": "completed"
    },
    "tags": []
   },
   "source": [
    "<a name=\"2.8\"></a>"
   ]
  },
  {
   "cell_type": "code",
   "execution_count": null,
   "id": "5afb72ca",
   "metadata": {
    "execution": {
     "iopub.execute_input": "2022-06-19T07:04:57.582605Z",
     "iopub.status.busy": "2022-06-19T07:04:57.582158Z",
     "iopub.status.idle": "2022-06-19T07:04:57.894118Z",
     "shell.execute_reply": "2022-06-19T07:04:57.893300Z"
    },
    "papermill": {
     "duration": 0.349119,
     "end_time": "2022-06-19T07:04:57.896263",
     "exception": false,
     "start_time": "2022-06-19T07:04:57.547144",
     "status": "completed"
    },
    "tags": []
   },
   "outputs": [],
   "source": [
    "weather = ('Rain no winds','Snow no winds','Fine + high winds',\\\n",
    "        'Rain + high winds','Snow + high winds','Fog or mist','Other')\n",
    "plt.figure(figsize=(14,6))\n",
    "plt.hist([weather_conditions,weather_conditions_fatal],bins=np.arange(20)-0.5,color=['#140f2d','#f22b29'],\\\n",
    "         density=True,edgecolor='white',label=('Total accidents','Fatal accidents'))\n",
    "plt.xlim(1,10)\n",
    "plt.xticks(ticks=range(2,9,1),labels=weather,rotation='60')\n",
    "plt.legend(loc=\"best\",prop={'size': 20})\n",
    "plt.xlabel(\"Weather Conditions\")\n",
    "plt.ylabel(\"Occurence\")\n",
    "plt.title('Weather conditions.')\n",
    "plt.grid(alpha=0.2, color='#140f2d')\n",
    "ax = plt.gca()\n",
    "ax.set_facecolor('#f4f1ee')\n",
    "plt.show()"
   ]
  },
  {
   "cell_type": "markdown",
   "id": "e75c1db9",
   "metadata": {
    "papermill": {
     "duration": 0.03447,
     "end_time": "2022-06-19T07:04:57.964759",
     "exception": false,
     "start_time": "2022-06-19T07:04:57.930289",
     "status": "completed"
    },
    "tags": []
   },
   "source": [
    "Rain is the cause of the majority of accidents. The rain actually causes the tires to lose traction; when the road gets wet, the water mixes with the dirt on the asphalt, making it harder for the tires to “hang on” to the road. Simply put, rain makes everything slippery, and puddles that form can lead to hydroplaning. Apart from what the precipitation does to the road and your car, the rain makes it difficult to see. This mix of effects can be the cause of this huge difference in the bar sizes."
   ]
  },
  {
   "cell_type": "markdown",
   "id": "a83663a2",
   "metadata": {
    "papermill": {
     "duration": 0.034873,
     "end_time": "2022-06-19T07:04:58.033578",
     "exception": false,
     "start_time": "2022-06-19T07:04:57.998705",
     "status": "completed"
    },
    "tags": []
   },
   "source": [
    "***\n",
    "<a name=\"subparagraph2\"></a>\n",
    "\n",
    "### Time flies.\n",
    "<br>\n",
    "\n",
    "The second and the last part of this first chapter is about the study of the dataset from a time perspective."
   ]
  },
  {
   "cell_type": "code",
   "execution_count": null,
   "id": "470758c7",
   "metadata": {
    "execution": {
     "iopub.execute_input": "2022-06-19T07:04:58.105035Z",
     "iopub.status.busy": "2022-06-19T07:04:58.104310Z",
     "iopub.status.idle": "2022-06-19T07:04:58.108597Z",
     "shell.execute_reply": "2022-06-19T07:04:58.107836Z"
    },
    "papermill": {
     "duration": 0.042104,
     "end_time": "2022-06-19T07:04:58.110512",
     "exception": false,
     "start_time": "2022-06-19T07:04:58.068408",
     "status": "completed"
    },
    "tags": []
   },
   "outputs": [],
   "source": [
    "from scipy import stats\n",
    "from pandas import Grouper\n",
    "import matplotlib as mpl\n",
    "import datetime as dt"
   ]
  },
  {
   "cell_type": "markdown",
   "id": "16981779",
   "metadata": {
    "papermill": {
     "duration": 0.034201,
     "end_time": "2022-06-19T07:04:58.180983",
     "exception": false,
     "start_time": "2022-06-19T07:04:58.146782",
     "status": "completed"
    },
    "tags": []
   },
   "source": [
    "By analyzing the information **from the temporal point of view**, using a range of time wider than the \"only\" 5 years one used so far becomes very interesting. For this reason, we create now a dataset with data from 1979 to 2020 (using the same URL described above) and we convert its index to the day of the accident.\n",
    "The [last part of the chapter](#subparagraph2.1) contains also some analysis on a year-only time range (specifically 2018)."
   ]
  },
  {
   "cell_type": "code",
   "execution_count": null,
   "id": "44bfbd06",
   "metadata": {
    "execution": {
     "iopub.execute_input": "2022-06-19T07:04:58.251021Z",
     "iopub.status.busy": "2022-06-19T07:04:58.250285Z",
     "iopub.status.idle": "2022-06-19T07:06:20.667973Z",
     "shell.execute_reply": "2022-06-19T07:06:20.666718Z"
    },
    "papermill": {
     "duration": 82.455695,
     "end_time": "2022-06-19T07:06:20.670621",
     "exception": false,
     "start_time": "2022-06-19T07:04:58.214926",
     "status": "completed"
    },
    "tags": []
   },
   "outputs": [],
   "source": [
    "url_acc_7920 = \"https://data.dft.gov.uk/road-accidents-safety\\\n",
    "-data/dft-road-casualty-statistics-accident-1979-2020.csv\"\n",
    "df_acc_7920 = pd.read_csv(url_acc_7920,low_memory=False)"
   ]
  },
  {
   "cell_type": "code",
   "execution_count": null,
   "id": "dad747f4",
   "metadata": {
    "execution": {
     "iopub.execute_input": "2022-06-19T07:06:20.741809Z",
     "iopub.status.busy": "2022-06-19T07:06:20.741365Z",
     "iopub.status.idle": "2022-06-19T07:06:21.614733Z",
     "shell.execute_reply": "2022-06-19T07:06:21.613798Z"
    },
    "papermill": {
     "duration": 0.911996,
     "end_time": "2022-06-19T07:06:21.617134",
     "exception": false,
     "start_time": "2022-06-19T07:06:20.705138",
     "status": "completed"
    },
    "tags": []
   },
   "outputs": [],
   "source": [
    "df_acc_7920.index = pd.to_datetime(df_acc_7920.date)"
   ]
  },
  {
   "cell_type": "code",
   "execution_count": null,
   "id": "d9bd16bb",
   "metadata": {
    "execution": {
     "iopub.execute_input": "2022-06-19T07:06:21.689885Z",
     "iopub.status.busy": "2022-06-19T07:06:21.689119Z",
     "iopub.status.idle": "2022-06-19T07:06:22.247271Z",
     "shell.execute_reply": "2022-06-19T07:06:22.246369Z"
    },
    "papermill": {
     "duration": 0.596825,
     "end_time": "2022-06-19T07:06:22.249599",
     "exception": false,
     "start_time": "2022-06-19T07:06:21.652774",
     "status": "completed"
    },
    "tags": []
   },
   "outputs": [],
   "source": [
    "unique,counts = np.unique(df_acc_7920.index,return_counts=True)\n",
    "countsdf = pd.DataFrame(np.sum(counts[:15330].reshape(-1, 365), axis=1))"
   ]
  },
  {
   "cell_type": "markdown",
   "id": "eb9b1fe7",
   "metadata": {
    "papermill": {
     "duration": 0.034334,
     "end_time": "2022-06-19T07:06:22.318027",
     "exception": false,
     "start_time": "2022-06-19T07:06:22.283693",
     "status": "completed"
    },
    "tags": []
   },
   "source": [
    "And we also create a new variable to plot fatal accidents only."
   ]
  },
  {
   "cell_type": "code",
   "execution_count": null,
   "id": "527502e9",
   "metadata": {
    "execution": {
     "iopub.execute_input": "2022-06-19T07:06:22.389203Z",
     "iopub.status.busy": "2022-06-19T07:06:22.388684Z",
     "iopub.status.idle": "2022-06-19T07:06:22.608118Z",
     "shell.execute_reply": "2022-06-19T07:06:22.607042Z"
    },
    "papermill": {
     "duration": 0.258359,
     "end_time": "2022-06-19T07:06:22.610799",
     "exception": false,
     "start_time": "2022-06-19T07:06:22.352440",
     "status": "completed"
    },
    "tags": []
   },
   "outputs": [],
   "source": [
    "df_acc_7920_fatal = df_acc_7920[df_acc_7920['accident_severity']==1]\n",
    "unique,counts = np.unique(df_acc_7920_fatal.index,return_counts=True)\n",
    "countsdf1 = pd.DataFrame(np.sum(counts[:14965].reshape(-1, 365), axis=1))"
   ]
  },
  {
   "cell_type": "markdown",
   "id": "a63e0d6b",
   "metadata": {
    "papermill": {
     "duration": 0.033701,
     "end_time": "2022-06-19T07:06:22.678604",
     "exception": false,
     "start_time": "2022-06-19T07:06:22.644903",
     "status": "completed"
    },
    "tags": []
   },
   "source": [
    "In this first part of the chapter, the number of vehicles, the number of people involved, and the evolution of the severity of accidents over periods of several years will be analyzed."
   ]
  },
  {
   "cell_type": "code",
   "execution_count": null,
   "id": "9fdb94de",
   "metadata": {
    "execution": {
     "iopub.execute_input": "2022-06-19T07:06:22.748557Z",
     "iopub.status.busy": "2022-06-19T07:06:22.748063Z",
     "iopub.status.idle": "2022-06-19T07:06:23.294127Z",
     "shell.execute_reply": "2022-06-19T07:06:23.293034Z"
    },
    "papermill": {
     "duration": 0.583828,
     "end_time": "2022-06-19T07:06:23.296256",
     "exception": false,
     "start_time": "2022-06-19T07:06:22.712428",
     "status": "completed"
    },
    "tags": []
   },
   "outputs": [],
   "source": [
    "fig,ax = plt.subplots(figsize=(14,6))\n",
    "ax.plot(countsdf, marker='.', linestyle='--',linewidth=1, label='Number of accidents',color='#140f2d')\n",
    "ax.plot(countsdf1, marker='.', linestyle='--',linewidth=1, label='Number of fatal accidents',\\\n",
    "              color='#f22b29')\n",
    "plt.xticks(ticks=range(0,42,1),labels=(range(1979,2021,1)),rotation='45')\n",
    "plt.legend(loc=\"best\",prop={'size': 20})\n",
    "plt.ylabel(\"Occurence\")\n",
    "plt.title('Accidents in the years.')\n",
    "plt.grid(alpha=0.2, color='#140f2d')\n",
    "plt.yscale('log')\n",
    "plt.xlabel('Years')\n",
    "ax = plt.gca()\n",
    "ax.set_facecolor('#f4f1ee')\n",
    "plt.show()"
   ]
  },
  {
   "cell_type": "markdown",
   "id": "40465683",
   "metadata": {
    "papermill": {
     "duration": 0.035199,
     "end_time": "2022-06-19T07:06:23.366750",
     "exception": false,
     "start_time": "2022-06-19T07:06:23.331551",
     "status": "completed"
    },
    "tags": []
   },
   "source": [
    "From the graph above is possible to see that the number of accidents has a downward trend (the number of fatal accidents has even a stronger downward trend: safety measures implemented during the 90s have decreased the number of deaths)."
   ]
  },
  {
   "cell_type": "code",
   "execution_count": null,
   "id": "e47432ff",
   "metadata": {
    "execution": {
     "iopub.execute_input": "2022-06-19T07:06:23.439145Z",
     "iopub.status.busy": "2022-06-19T07:06:23.438655Z",
     "iopub.status.idle": "2022-06-19T07:06:38.615564Z",
     "shell.execute_reply": "2022-06-19T07:06:38.614438Z"
    },
    "papermill": {
     "duration": 15.216684,
     "end_time": "2022-06-19T07:06:38.618474",
     "exception": false,
     "start_time": "2022-06-19T07:06:23.401790",
     "status": "completed"
    },
    "tags": []
   },
   "outputs": [],
   "source": [
    "df_acc_7920_month_sum = df_acc_7920.resample(\"M\").sum()\n",
    "df_acc_7920_12month_rolling = df_acc_7920_month_sum.rolling(12,min_periods=1, center=True).mean()"
   ]
  },
  {
   "cell_type": "code",
   "execution_count": null,
   "id": "26bffe4d",
   "metadata": {
    "execution": {
     "iopub.execute_input": "2022-06-19T07:06:38.690496Z",
     "iopub.status.busy": "2022-06-19T07:06:38.689959Z",
     "iopub.status.idle": "2022-06-19T07:06:39.011676Z",
     "shell.execute_reply": "2022-06-19T07:06:39.010271Z"
    },
    "papermill": {
     "duration": 0.364115,
     "end_time": "2022-06-19T07:06:39.017613",
     "exception": false,
     "start_time": "2022-06-19T07:06:38.653498",
     "status": "completed"
    },
    "tags": []
   },
   "outputs": [],
   "source": [
    "start, end = '2000-01', '2020-12'\n",
    "fig,ax = plt.subplots(figsize=(14,6))\n",
    "ax.plot(df_acc_7920_month_sum.loc[start:end, 'number_of_casualties'], marker='.', linestyle='-',\\\n",
    "        linewidth = 1, label='Number of casualties', color='#140f2d')\n",
    "ax.plot(df_acc_7920_month_sum.loc[start:end, 'number_of_vehicles'], marker='.', linestyle='-',\\\n",
    "        linewidth = 1, label='Number of vehicles', color='#f22b29')\n",
    "ax.plot(df_acc_7920_12month_rolling.loc[start:end,'number_of_casualties'], marker='.', linestyle='--',\\\n",
    "        linewidth=0.3, label='Yearly moving average',color='black',alpha=0.6)\n",
    "ax.plot(df_acc_7920_12month_rolling.loc[start:end,'number_of_vehicles'], marker='.', linestyle='--',\\\n",
    "        linewidth=0.3, label='Yearly moving average',color='black',alpha=0.6)\n",
    "plt.legend(loc=\"best\",prop={'size': 20})\n",
    "plt.xlabel(\"Years\")\n",
    "plt.title('Accidents in the years.')\n",
    "plt.ylabel(\"Occurence\")\n",
    "ax = plt.gca()\n",
    "ax.set_facecolor('#f4f1ee')\n",
    "plt.grid(alpha=0.2, color='#140f2d')\n",
    "plt.show()"
   ]
  },
  {
   "cell_type": "markdown",
   "id": "701cce10",
   "metadata": {
    "papermill": {
     "duration": 0.042934,
     "end_time": "2022-06-19T07:06:39.106252",
     "exception": false,
     "start_time": "2022-06-19T07:06:39.063318",
     "status": "completed"
    },
    "tags": []
   },
   "source": [
    "A brief history of the rules and inventions that are the cause of the downward trend can be found [HERE](https://www.smithjonessolicitors.co.uk/blog/the-history-of-car-safety-in-the-uk); therefore the most important weapons against fatal crashes are summarized in the next step:\n",
    ">On 10th May 1967, the Road Safety Act 1967 set certain milestones, not only promoting safe driving through film and TV shorts but also by introducing new drink-driving legislation which came into effect on the 8th October, bringing with it a legal limit of 80mg alcohol in 100ml blood. The same limit, in fact, applies to this day.\n",
    "By 1973, and having already witnessed a huge increase in the number of people wanting to get on the road, safety helmets were made compulsory for both moped and motorcycle riders, with the top speed for mopeds being just 30mph on any type of road. In the meantime, yet more car manufacturers continued to improve their overall safety standards, and by 1978, Mercedes had introduced an **ABS electronic system** on its high-end S-Class model, a feature which continues to remain a definite favourite with consumers worldwide.\n",
    "Since 1990, yet further safety standards and features have continued to evolve. Under the new legislation, anyone accompanying a learner driver must now be at least 21 years of age and have held a licence for at least three years. In the meantime, **car manufacturers continue to saturate the market with new innovations such as side-impact protection (‘SIPS’)**, which was certainly top of Volvo’s priority list in both 1991 and 1994; the latter of which also saw **side-seat airbags** being added to its 850 model, thus supplementing it’s already installed metal side-impact bars. **This was particularly prudent timing given that it became a legal requirement for seatbelts to be worn by all rear-seat passengers (including adults) in 1991**.\n",
    "In November 1995, the Government also introduced the new **“Pass Plus” scheme**, a practical training course aimed at improving driver skills and thus promoting safety on the UK’s roads. This has been of considerable benefit to both new and younger drivers – not to mention the introduction of the written theory test, which was introduced on 1st July 1996 and since 2002 has also included a hazard perception element.\n",
    "In more recent years, safety standards have continued to improve, perhaps more notably through tougher **child safety ratings**, increased safety features (such as lane departure, which first appeared in Europe on certain Citroen models) and even blind spot monitoring, which was first introduced, (yet again by Volvo), in 2007 followed by autonomous braking the following year."
   ]
  },
  {
   "cell_type": "markdown",
   "id": "f6fd00d9",
   "metadata": {
    "papermill": {
     "duration": 0.038902,
     "end_time": "2022-06-19T07:06:39.185106",
     "exception": false,
     "start_time": "2022-06-19T07:06:39.146204",
     "status": "completed"
    },
    "tags": []
   },
   "source": [
    "We now divide the time intervals in months with the average of values. Then, we do a study pretty similar to the one before (rolling window calculations of the mean)."
   ]
  },
  {
   "cell_type": "code",
   "execution_count": null,
   "id": "b7122e99",
   "metadata": {
    "execution": {
     "iopub.execute_input": "2022-06-19T07:06:39.266341Z",
     "iopub.status.busy": "2022-06-19T07:06:39.265117Z",
     "iopub.status.idle": "2022-06-19T07:06:54.873102Z",
     "shell.execute_reply": "2022-06-19T07:06:54.872278Z"
    },
    "papermill": {
     "duration": 15.651442,
     "end_time": "2022-06-19T07:06:54.875677",
     "exception": false,
     "start_time": "2022-06-19T07:06:39.224235",
     "status": "completed"
    },
    "tags": []
   },
   "outputs": [],
   "source": [
    "df_acc_7920_month_mean = df_acc_7920.resample('M').mean()"
   ]
  },
  {
   "cell_type": "code",
   "execution_count": null,
   "id": "48b39805",
   "metadata": {
    "execution": {
     "iopub.execute_input": "2022-06-19T07:06:54.952069Z",
     "iopub.status.busy": "2022-06-19T07:06:54.951649Z",
     "iopub.status.idle": "2022-06-19T07:06:54.958988Z",
     "shell.execute_reply": "2022-06-19T07:06:54.958229Z"
    },
    "papermill": {
     "duration": 0.047738,
     "end_time": "2022-06-19T07:06:54.960931",
     "exception": false,
     "start_time": "2022-06-19T07:06:54.913193",
     "status": "completed"
    },
    "tags": []
   },
   "outputs": [],
   "source": [
    "df_acc_7920_12month_rolling = df_acc_7920_month_mean.rolling(12,min_periods=1, center=True).mean()"
   ]
  },
  {
   "cell_type": "code",
   "execution_count": null,
   "id": "568f48ae",
   "metadata": {
    "execution": {
     "iopub.execute_input": "2022-06-19T07:06:55.036879Z",
     "iopub.status.busy": "2022-06-19T07:06:55.036422Z",
     "iopub.status.idle": "2022-06-19T07:06:55.487226Z",
     "shell.execute_reply": "2022-06-19T07:06:55.486151Z"
    },
    "papermill": {
     "duration": 0.491497,
     "end_time": "2022-06-19T07:06:55.489429",
     "exception": false,
     "start_time": "2022-06-19T07:06:54.997932",
     "status": "completed"
    },
    "tags": []
   },
   "outputs": [],
   "source": [
    "start, end = '1979-01', '2020-12'\n",
    "fig,ax = plt.subplots(figsize=(14,6))\n",
    "ax.plot(df_acc_7920_month_mean.loc[start:end, 'accident_severity'],\\\n",
    "        marker='.', linestyle='-', linewidth = 1, label='Accident severity', color='#f22b29')\n",
    "ax.plot(df_acc_7920_12month_rolling.loc[start:end,'accident_severity'],\\\n",
    "        marker='.', linestyle='--',linewidth=1, label='Yearly moving average',color='#140f2d')\n",
    "\n",
    "plt.legend(loc='lower right',prop={'size': 20})\n",
    "plt.grid(alpha=0.2, color='#140f2d')\n",
    "plt.xlabel('Years')\n",
    "plt.title('Severity in the years.')\n",
    "plt.ylabel('Average severity of accidents')\n",
    "ax = plt.gca()\n",
    "ax.set_facecolor('#f4f1ee')\n",
    "plt.show()\n",
    "start, end = '2014-01', '2020-12'\n",
    "fig,ax = plt.subplots(figsize=(14,6))\n",
    "ax.plot(df_acc_7920_month_mean.loc[start:end, 'accident_severity'],\\\n",
    "        marker='.', linestyle='-', linewidth = 1, label='Accident severity', color='#f22b29')\n",
    "ax.plot(df_acc_7920_12month_rolling.loc[start:end,'accident_severity'],\\\n",
    "        marker='.', linestyle='--',linewidth=1, label='Yearly moving average',color='#140f2d')\n",
    "plt.legend(loc='lower left',prop={'size': 20})\n",
    "plt.grid(alpha=0.2, color='#140f2d')\n",
    "plt.xlabel('Years')\n",
    "plt.title('Severity in the years.')\n",
    "plt.ylabel('Average severity of accidents')\n",
    "ax = plt.gca()\n",
    "ax.set_facecolor('#f4f1ee')\n",
    "plt.show()"
   ]
  },
  {
   "cell_type": "markdown",
   "id": "bf8cf972",
   "metadata": {
    "papermill": {
     "duration": 0.13147,
     "end_time": "2022-06-19T07:06:55.662165",
     "exception": false,
     "start_time": "2022-06-19T07:06:55.530695",
     "status": "completed"
    },
    "tags": []
   },
   "source": [
    "We have seen that both the number of accidents and the number of fatalities on British roads is in sharp decline due to the innovative safety measures introduced from the mid-1970s onwards.\n",
    "\n",
    "The graph above shows the evolution of the severity of accidents (remember that 1 is fatal while 3 represents an accident without serious consequences).\n",
    "\n",
    "Unfortunately, it shows a marked increase in the severity of road accidents from 2015 onwards. This increase, which has a rolling average with an almost linear trend from 2016 to 2019, is difficult to interpret...\n",
    "\n",
    "We can see if it is something in common with the Maryland dataset previsioly used:"
   ]
  },
  {
   "cell_type": "code",
   "execution_count": null,
   "id": "092a1f07",
   "metadata": {
    "execution": {
     "iopub.execute_input": "2022-06-19T07:06:55.745854Z",
     "iopub.status.busy": "2022-06-19T07:06:55.744675Z",
     "iopub.status.idle": "2022-06-19T07:08:38.629753Z",
     "shell.execute_reply": "2022-06-19T07:08:38.628579Z"
    },
    "papermill": {
     "duration": 102.930429,
     "end_time": "2022-06-19T07:08:38.632794",
     "exception": false,
     "start_time": "2022-06-19T07:06:55.702365",
     "status": "completed"
    },
    "tags": []
   },
   "outputs": [],
   "source": [
    "df_maryland_cas_lst5 = pd.read_csv(df_maryland_cas_lst5_url,low_memory=False)\n",
    "severity_mary = df_maryland_cas_lst5['INJ_SEVER_CODE'].values.tolist()\n",
    "df_maryland_cas_lst5['Avg_INJ_SEVER'] =\\\n",
    "df_maryland_cas_lst5.groupby('YEAR')['INJ_SEVER_CODE'].transform('mean')"
   ]
  },
  {
   "cell_type": "code",
   "execution_count": null,
   "id": "1b343ec8",
   "metadata": {
    "execution": {
     "iopub.execute_input": "2022-06-19T07:08:38.715349Z",
     "iopub.status.busy": "2022-06-19T07:08:38.714867Z",
     "iopub.status.idle": "2022-06-19T07:08:38.833400Z",
     "shell.execute_reply": "2022-06-19T07:08:38.832259Z"
    },
    "papermill": {
     "duration": 0.162269,
     "end_time": "2022-06-19T07:08:38.835997",
     "exception": false,
     "start_time": "2022-06-19T07:08:38.673728",
     "status": "completed"
    },
    "tags": []
   },
   "outputs": [],
   "source": [
    "df_maryland_cas_lst5.groupby('YEAR')['INJ_SEVER_CODE'].transform('mean')\n",
    "sev_mary_2015 = df_maryland_cas_lst5.loc[df_maryland_cas_lst5.YEAR == 2015, 'Avg_INJ_SEVER'].iloc[0]\n",
    "sev_mary_2016 = df_maryland_cas_lst5.loc[df_maryland_cas_lst5.YEAR == 2016, 'Avg_INJ_SEVER'].iloc[0]\n",
    "sev_mary_2017 = df_maryland_cas_lst5.loc[df_maryland_cas_lst5.YEAR == 2017, 'Avg_INJ_SEVER'].iloc[0]\n",
    "sev_mary_2018 = df_maryland_cas_lst5.loc[df_maryland_cas_lst5.YEAR == 2018, 'Avg_INJ_SEVER'].iloc[0]\n",
    "sev_mary_2019 = df_maryland_cas_lst5.loc[df_maryland_cas_lst5.YEAR == 2019, 'Avg_INJ_SEVER'].iloc[0]\n",
    "sev_mary_2020 = df_maryland_cas_lst5.loc[df_maryland_cas_lst5.YEAR == 2020, 'Avg_INJ_SEVER'].iloc[0]"
   ]
  },
  {
   "cell_type": "code",
   "execution_count": null,
   "id": "9cd7b0c3",
   "metadata": {
    "execution": {
     "iopub.execute_input": "2022-06-19T07:08:38.917288Z",
     "iopub.status.busy": "2022-06-19T07:08:38.916724Z",
     "iopub.status.idle": "2022-06-19T07:08:39.175373Z",
     "shell.execute_reply": "2022-06-19T07:08:39.174220Z"
    },
    "papermill": {
     "duration": 0.302197,
     "end_time": "2022-06-19T07:08:39.177624",
     "exception": false,
     "start_time": "2022-06-19T07:08:38.875427",
     "status": "completed"
    },
    "scrolled": true,
    "tags": []
   },
   "outputs": [],
   "source": [
    "Avg_INJ = [df_maryland_cas_lst5.loc[df_maryland_cas_lst5.YEAR == 2015, 'Avg_INJ_SEVER'],]\n",
    "fig,ax = plt.subplots(figsize=(14,6))\n",
    "ax.plot([2015,2016,2017,2018,2019,2020],[sev_mary_2015,sev_mary_2016,sev_mary_2017,sev_mary_2018,\\\n",
    "                                         sev_mary_2019,sev_mary_2020],\\\n",
    "        marker='.', linestyle='-', linewidth = 1.5, label='Accident severity', color='#f22b29')\n",
    "plt.legend(loc='lower left',prop={'size': 20})\n",
    "plt.grid(alpha=0.2, color='#140f2d')\n",
    "plt.xlabel('Years')\n",
    "plt.title('Severity in the years - Maryland.')\n",
    "plt.ylabel('Average severity of accidents')\n",
    "ax = plt.gca()\n",
    "ax.set_facecolor('#f4f1ee')\n",
    "plt.show()"
   ]
  },
  {
   "cell_type": "markdown",
   "id": "4ffb8006",
   "metadata": {
    "papermill": {
     "duration": 0.039901,
     "end_time": "2022-06-19T07:08:39.258983",
     "exception": false,
     "start_time": "2022-06-19T07:08:39.219082",
     "status": "completed"
    },
    "tags": []
   },
   "source": [
    "The data frame for Maryland is slightly different from the one about the UK. The severity of the accident here is described by a value between 1 (No injuries at all) and 5 (fatal accident). With this difference in mind, the opposite trend is easy to see!\n",
    "\n",
    "This makes even more atypical the severity up-trend in the UK.\n",
    "\n",
    "The number of casualties and the number of accidents on the UK's roads are decreasing in the last few years, so it's the number of non-fatal crashes that's more likely to influence the average severity.\n",
    "\n",
    "Since 2010, new driving aids have become increasingly common and systems such as automatic braking or auto-maintaining the safety distance help to reduce accidents at medium-low speed.\n",
    "\n",
    "This reduction in the number of non-fatal accidents increases the average severity."
   ]
  },
  {
   "cell_type": "markdown",
   "id": "49309442",
   "metadata": {
    "papermill": {
     "duration": 0.040623,
     "end_time": "2022-06-19T07:08:39.342016",
     "exception": false,
     "start_time": "2022-06-19T07:08:39.301393",
     "status": "completed"
    },
    "tags": []
   },
   "source": [
    "***\n",
    "<a name=\"subparagraph2.1\"></a>\n",
    "It's now time to start the second part of the chapter by creating a data frame with **data from a year only**. We chose 2018 as a year that looks pretty normal from our point of view: there is no significant noise from social causes to the data (no pandemic, no wars...). 3 points will be analyzed:\n",
    "1. [Accidents throughout the day.](#3.1)\n",
    "2. [Accidents throughout the week.](#3.2)\n",
    "3. [Accidents throughout the year.](#3.3)"
   ]
  },
  {
   "cell_type": "code",
   "execution_count": null,
   "id": "fdfef3ac",
   "metadata": {
    "execution": {
     "iopub.execute_input": "2022-06-19T07:08:39.427285Z",
     "iopub.status.busy": "2022-06-19T07:08:39.426022Z",
     "iopub.status.idle": "2022-06-19T07:08:41.015296Z",
     "shell.execute_reply": "2022-06-19T07:08:41.013997Z"
    },
    "papermill": {
     "duration": 1.634196,
     "end_time": "2022-06-19T07:08:41.018051",
     "exception": false,
     "start_time": "2022-06-19T07:08:39.383855",
     "status": "completed"
    },
    "tags": []
   },
   "outputs": [],
   "source": [
    "url_acc_18 = \"https://data.dft.gov.uk/road-accidents-safety\\\n",
    "-data/dft-road-casualty-statistics-accident-2018.csv\"\n",
    "df_acc_18 = pd.read_csv(url_acc_18,low_memory=False)\n",
    "\n",
    "df_acc_18.index = pd.to_datetime(df_acc_18.time)\n",
    "df_acc_18_fatal_accidents = df_acc_18[df_acc_18['accident_severity']==1]"
   ]
  },
  {
   "cell_type": "markdown",
   "id": "b88e884e",
   "metadata": {
    "papermill": {
     "duration": 0.040143,
     "end_time": "2022-06-19T07:08:41.098247",
     "exception": false,
     "start_time": "2022-06-19T07:08:41.058104",
     "status": "completed"
    },
    "tags": []
   },
   "source": [
    "The aim of the first point is to analyze in which **phase of the day** there are on average more accidents.\n",
    "The first thing to do is divide the time interval in hours with the average of values (a similar procedure will be repeated in the next 2 points: starting from the annual data frame it will be divided into the period of interest to allow then us to graph the number of accidents over the desired period of time).\n",
    "<a name=\"3.1\"></a>"
   ]
  },
  {
   "cell_type": "code",
   "execution_count": null,
   "id": "9f796371",
   "metadata": {
    "execution": {
     "iopub.execute_input": "2022-06-19T07:08:41.182742Z",
     "iopub.status.busy": "2022-06-19T07:08:41.181956Z",
     "iopub.status.idle": "2022-06-19T07:08:41.514304Z",
     "shell.execute_reply": "2022-06-19T07:08:41.513439Z"
    },
    "papermill": {
     "duration": 0.378075,
     "end_time": "2022-06-19T07:08:41.517779",
     "exception": false,
     "start_time": "2022-06-19T07:08:41.139704",
     "status": "completed"
    },
    "scrolled": true,
    "tags": []
   },
   "outputs": [],
   "source": [
    "df_acc_18index = np.array(df_acc_18.index)\n",
    "unique, counts = np.unique(df_acc_18index,return_counts=True)\n",
    "countsdf_7d_rolling = pd.DataFrame(counts).rolling(60,min_periods=1,center=True).mean()\n",
    "\n",
    "fig,ax = plt.subplots(figsize=(14,6))\n",
    "ax.plot(counts, marker='o', linestyle='--', linewidth = 0.8, color='#f22b29',label='Number of accidents')\n",
    "ax.plot(countsdf_7d_rolling, marker='.', linestyle='-',color='#140f2d', label='Hourly moving average')\n",
    "plt.xticks(ticks=range(0,1500,60),labels=range(0,25,1))\n",
    "plt.legend(loc='upper left',prop={'size': 20})\n",
    "plt.grid(alpha=0.2, color='#140f2d')\n",
    "plt.title('Accidents in the day.')\n",
    "plt.ylabel('Occurance')\n",
    "plt.xlabel('Hours')\n",
    "ax = plt.gca()\n",
    "ax.set_facecolor('#f4f1ee')\n",
    "plt.show()"
   ]
  },
  {
   "cell_type": "markdown",
   "id": "4573b266",
   "metadata": {
    "papermill": {
     "duration": 0.042984,
     "end_time": "2022-06-19T07:08:41.604933",
     "exception": false,
     "start_time": "2022-06-19T07:08:41.561949",
     "status": "completed"
    },
    "tags": []
   },
   "source": [
    "Two peaks are evident throughout the day: the first in the morning (between 8am and 9am); the second in the evening, coinciding with the return home of the workers (between 5pm and 7pm). This result is completely normal and coincides in fact with the peak hours of daily mobility."
   ]
  },
  {
   "cell_type": "markdown",
   "id": "368b2af0",
   "metadata": {
    "papermill": {
     "duration": 0.042172,
     "end_time": "2022-06-19T07:08:41.689883",
     "exception": false,
     "start_time": "2022-06-19T07:08:41.647711",
     "status": "completed"
    },
    "tags": []
   },
   "source": [
    "We divide now the time interval in hours with the sum of values and we study again the distribution of accidents throughout the day."
   ]
  },
  {
   "cell_type": "code",
   "execution_count": null,
   "id": "c719ec32",
   "metadata": {
    "execution": {
     "iopub.execute_input": "2022-06-19T07:08:41.777305Z",
     "iopub.status.busy": "2022-06-19T07:08:41.776544Z",
     "iopub.status.idle": "2022-06-19T07:08:41.971972Z",
     "shell.execute_reply": "2022-06-19T07:08:41.970761Z"
    },
    "papermill": {
     "duration": 0.242153,
     "end_time": "2022-06-19T07:08:41.974571",
     "exception": false,
     "start_time": "2022-06-19T07:08:41.732418",
     "status": "completed"
    },
    "tags": []
   },
   "outputs": [],
   "source": [
    "dataset_hour = df_acc_18.resample('H').sum() \n",
    "dataset_hour_fatal = df_acc_18_fatal_accidents.resample('H').sum()"
   ]
  },
  {
   "cell_type": "code",
   "execution_count": null,
   "id": "8e920e33",
   "metadata": {
    "execution": {
     "iopub.execute_input": "2022-06-19T07:08:42.062141Z",
     "iopub.status.busy": "2022-06-19T07:08:42.061669Z",
     "iopub.status.idle": "2022-06-19T07:08:42.451963Z",
     "shell.execute_reply": "2022-06-19T07:08:42.450751Z"
    },
    "papermill": {
     "duration": 0.437646,
     "end_time": "2022-06-19T07:08:42.454963",
     "exception": false,
     "start_time": "2022-06-19T07:08:42.017317",
     "status": "completed"
    },
    "tags": []
   },
   "outputs": [],
   "source": [
    "start, end = '00:00:00', '23:59:00'\n",
    "fig,ax = plt.subplots(figsize=(14,6))\n",
    "plt.title('Accidents in the day.')\n",
    "plt.ylabel('Occurance')\n",
    "plt.xlabel('Hours')\n",
    "ax = plt.gca()\n",
    "ax.set_facecolor('#f4f1ee')\n",
    "ax_right = ax.twinx()\n",
    "ax.plot(dataset_hour['number_of_casualties'], marker='o', linestyle='--',\\\n",
    "        linewidth = 0.8, label='Number of casualties', color='#f22b29')\n",
    "ax.plot(dataset_hour['number_of_vehicles'],marker='o', linestyle='--', linewidth = 0.8,\\\n",
    "        label='Number of vehicles', color='#140f2d')\n",
    "ax_right.plot(dataset_hour_fatal['number_of_casualties'],marker='o', linestyle='--',\\\n",
    "              linewidth = 0.8, label='Casualties in fatal accidents', color='#006400')\n",
    "\n",
    "xtick_location = dataset_hour.index\n",
    "plt.xticks(ticks=xtick_location,labels=range(1,25,1))\n",
    "ax.grid(alpha=0.2, color='#140f2d')\n",
    "ax_right.legend(loc='lower right',prop={'size': 20})\n",
    "ax.legend(loc='upper left',prop={'size': 20})\n",
    "plt.show()"
   ]
  },
  {
   "cell_type": "markdown",
   "id": "d93b08e2",
   "metadata": {
    "papermill": {
     "duration": 0.045749,
     "end_time": "2022-06-19T07:08:42.546805",
     "exception": false,
     "start_time": "2022-06-19T07:08:42.501056",
     "status": "completed"
    },
    "tags": []
   },
   "source": [
    "Again, the distribution is quite similar to the previous graph and similar considerations can be drawn."
   ]
  },
  {
   "cell_type": "markdown",
   "id": "c5e86aef",
   "metadata": {
    "papermill": {
     "duration": 0.044477,
     "end_time": "2022-06-19T07:08:42.636029",
     "exception": false,
     "start_time": "2022-06-19T07:08:42.591552",
     "status": "completed"
    },
    "tags": []
   },
   "source": [
    "In the second point, we want to find if there is a particular distribution **throughout the week**.\n",
    "<a name=\"3.2\"></a>"
   ]
  },
  {
   "cell_type": "code",
   "execution_count": null,
   "id": "297b9799",
   "metadata": {
    "execution": {
     "iopub.execute_input": "2022-06-19T07:08:42.728241Z",
     "iopub.status.busy": "2022-06-19T07:08:42.727711Z",
     "iopub.status.idle": "2022-06-19T07:08:43.039618Z",
     "shell.execute_reply": "2022-06-19T07:08:43.038526Z"
    },
    "papermill": {
     "duration": 0.360791,
     "end_time": "2022-06-19T07:08:43.041952",
     "exception": false,
     "start_time": "2022-06-19T07:08:42.681161",
     "status": "completed"
    },
    "tags": []
   },
   "outputs": [],
   "source": [
    "day_of_week = df_acc_18['day_of_week'].values.tolist()\n",
    "day_of_week_fatal = df_acc_18_fatal_accidents['day_of_week'].values.tolist()\n",
    "plt.figure(figsize=(14,6))\n",
    "plt.title('Accidents in the week.')\n",
    "plt.ylabel('Occurance')\n",
    "plt.xlabel('Days')\n",
    "plt.xticks(ticks=range(1,8,1),labels=['Sunday','Monday','Tuesday','Wednesday','Thursday','Friday','Saturdday'])\n",
    "ax = plt.gca()\n",
    "ax.set_facecolor('#f4f1ee')\n",
    "plt.hist([day_of_week,day_of_week_fatal],bins=np.arange(20)-0.5,\\\n",
    "         label=('Total accidents','Fatal accidents'),color=['#140f2d','#f22b29']\\\n",
    "         ,density=True,edgecolor='white')\n",
    "plt.legend(loc=\"lower left\",prop={'size': 20})\n",
    "plt.xlim(0,8)\n",
    "plt.grid(alpha=0.2, color='#140f2d')"
   ]
  },
  {
   "cell_type": "markdown",
   "id": "60ae6c85",
   "metadata": {
    "papermill": {
     "duration": 0.04656,
     "end_time": "2022-06-19T07:08:43.134099",
     "exception": false,
     "start_time": "2022-06-19T07:08:43.087539",
     "status": "completed"
    },
    "tags": []
   },
   "source": [
    "The distribution of accidents throughout the week is relatively uniform, with a slight decrease on Saturday and Sunday. However, the severity of the accidents committed over the weekend is much higher than the rest of the days: just think that more than 16% of fatal accidents take place on Saturdays, where only about 13% of total accidents are committed."
   ]
  },
  {
   "cell_type": "markdown",
   "id": "53786280",
   "metadata": {
    "papermill": {
     "duration": 0.04451,
     "end_time": "2022-06-19T07:08:43.223815",
     "exception": false,
     "start_time": "2022-06-19T07:08:43.179305",
     "status": "completed"
    },
    "tags": []
   },
   "source": [
    "In the last point, we want to find if there is a particular distribution **throughout the year**.\n",
    "<a name=\"3.3\"></a>"
   ]
  },
  {
   "cell_type": "code",
   "execution_count": null,
   "id": "3b8af7e3",
   "metadata": {
    "execution": {
     "iopub.execute_input": "2022-06-19T07:08:43.317135Z",
     "iopub.status.busy": "2022-06-19T07:08:43.315908Z",
     "iopub.status.idle": "2022-06-19T07:08:44.783148Z",
     "shell.execute_reply": "2022-06-19T07:08:44.782068Z"
    },
    "papermill": {
     "duration": 1.517206,
     "end_time": "2022-06-19T07:08:44.785931",
     "exception": false,
     "start_time": "2022-06-19T07:08:43.268725",
     "status": "completed"
    },
    "tags": []
   },
   "outputs": [],
   "source": [
    "url_acc_18 = \"https://data.dft.gov.uk/road-accidents-safety\\\n",
    "-data/dft-road-casualty-statistics-accident-2018.csv\"\n",
    "df_acc_18 = pd.read_csv(url_acc_18,low_memory=False,index_col='date')\n",
    "df_acc_18_fatal_accidents = df_acc_18[df_acc_18['accident_severity']==1]\n",
    "\n",
    "unique,counts=np.unique(df_acc_18.index,return_counts=True)\n",
    "unique,counts2=np.unique(df_acc_18_fatal_accidents.index,return_counts=True)"
   ]
  },
  {
   "cell_type": "code",
   "execution_count": null,
   "id": "6d9e735e",
   "metadata": {
    "execution": {
     "iopub.execute_input": "2022-06-19T07:08:44.880876Z",
     "iopub.status.busy": "2022-06-19T07:08:44.880319Z",
     "iopub.status.idle": "2022-06-19T07:08:44.889239Z",
     "shell.execute_reply": "2022-06-19T07:08:44.888011Z"
    },
    "papermill": {
     "duration": 0.058901,
     "end_time": "2022-06-19T07:08:44.891597",
     "exception": false,
     "start_time": "2022-06-19T07:08:44.832696",
     "status": "completed"
    },
    "tags": []
   },
   "outputs": [],
   "source": [
    "countsdf=pd.DataFrame(counts)\n",
    "countsdf_7d_rolling = countsdf.rolling(7,min_periods=1, center=True).mean()\n",
    "countsdf2=pd.DataFrame(counts2)\n",
    "countsdf2_7d_rolling = countsdf2.rolling(7,min_periods=1, center=True).mean()"
   ]
  },
  {
   "cell_type": "code",
   "execution_count": null,
   "id": "eba647b6",
   "metadata": {
    "execution": {
     "iopub.execute_input": "2022-06-19T07:08:44.986438Z",
     "iopub.status.busy": "2022-06-19T07:08:44.985876Z",
     "iopub.status.idle": "2022-06-19T07:08:45.307712Z",
     "shell.execute_reply": "2022-06-19T07:08:45.306499Z"
    },
    "papermill": {
     "duration": 0.37433,
     "end_time": "2022-06-19T07:08:45.311369",
     "exception": false,
     "start_time": "2022-06-19T07:08:44.937039",
     "status": "completed"
    },
    "tags": []
   },
   "outputs": [],
   "source": [
    "fig,ax = plt.subplots(figsize=(14,6))\n",
    "ax = plt.gca()\n",
    "ax.set_facecolor('#f4f1ee')\n",
    "ax_right = ax.twinx()\n",
    "ax.plot(countsdf_7d_rolling,marker='.', linestyle='-', linewidth = 0.8, color='#140f2d',\\\n",
    "        label='Weekly moving average')\n",
    "ax_right.plot(countsdf2_7d_rolling,marker='.', linestyle='-', linewidth = 0.8, color='#f22b29',\\\n",
    "              label='Fatal weekly moving average')\n",
    "\n",
    "ax.grid(alpha=0.2, color='#140f2d')\n",
    "ax_right.legend(loc='lower right',prop={'size': 20})\n",
    "ax.legend(loc='upper left',prop={'size': 20})\n",
    "ax = plt.gca()\n",
    "ax.set_facecolor('#f4f1ee')\n",
    "plt.show()"
   ]
  },
  {
   "cell_type": "markdown",
   "id": "8a6de528",
   "metadata": {
    "papermill": {
     "duration": 0.047274,
     "end_time": "2022-06-19T07:08:45.408666",
     "exception": false,
     "start_time": "2022-06-19T07:08:45.361392",
     "status": "completed"
    },
    "tags": []
   },
   "source": [
    "There is no clear distribution or trend throughout the year. However, some periods show strong anti-correlation, where the average of accidents and the average of fatal accidents are very different."
   ]
  },
  {
   "cell_type": "markdown",
   "id": "9517c900",
   "metadata": {
    "papermill": {
     "duration": 0.046347,
     "end_time": "2022-06-19T07:08:45.502078",
     "exception": false,
     "start_time": "2022-06-19T07:08:45.455731",
     "status": "completed"
    },
    "tags": []
   },
   "source": [
    "![Spaghetti_junction](https://upload.wikimedia.org/wikipedia/commons/b/bd/Spaghetti-Junction-Crop.jpg)\n",
    "\n",
    "*This file is licensed under the Creative Commons Attribution-Share Alike 2.0 Generic license.*"
   ]
  },
  {
   "cell_type": "markdown",
   "id": "2d1c3596",
   "metadata": {
    "papermill": {
     "duration": 0.046523,
     "end_time": "2022-06-19T07:08:45.596023",
     "exception": false,
     "start_time": "2022-06-19T07:08:45.549500",
     "status": "completed"
    },
    "tags": []
   },
   "source": [
    "***\n",
    "<a name=\"paragraph2\"></a>\n",
    "<div style=\"background-color:rgba(244, 241, 238, 1); text-align:center; vertical-align: middle; padding:40px 0;\">\n",
    "</div> \n",
    "\n",
    "## Chapter 3\n",
    "### Junction fever.\n",
    "<br>\n",
    "\n",
    "*Can road junctions be something interesting?*\n",
    "<br>\n",
    "\n",
    "[**Return to the top.**](#index)\n",
    "<br>\n",
    "\n",
    "We really think so. Starting with a BBC article reporting a study of the road intersections that scare British drivers the most, we have analyzed the 10 scariest intersections in the UK.\n",
    "<br>\n",
    "\n",
    "article URL: http://news.bbc.co.uk/2/hi/uk_news/england/london/7140892.stm\n",
    "<br>\n",
    "\n",
    "The ranking of the road sections that scare Brits the most is:\n",
    "1. Hanger Lane Gyratory System, west London\n",
    "2. Spaghetti Junction, Birmingham\n",
    "3. Marble Arch, central London\n",
    "4. Elephant and Castle, south London\n",
    "5. South Mimms, A1/M25, Hertfordshire\n",
    "6. M4/M5 interchange, Bristol\n",
    "7. Magic Roundabout, Swindon, Wiltshire\n",
    "8. M8 junctions through central Glasgow\n",
    "9. Mancunian Way junctions, Manchester\n",
    "10. Sheriffhall Roundabout, Edinburgh\n",
    "\n",
    "***"
   ]
  },
  {
   "cell_type": "code",
   "execution_count": null,
   "id": "6262005b",
   "metadata": {
    "execution": {
     "iopub.execute_input": "2022-06-19T07:08:45.692703Z",
     "iopub.status.busy": "2022-06-19T07:08:45.692087Z",
     "iopub.status.idle": "2022-06-19T07:08:46.543577Z",
     "shell.execute_reply": "2022-06-19T07:08:46.542533Z"
    },
    "papermill": {
     "duration": 0.90309,
     "end_time": "2022-06-19T07:08:46.546249",
     "exception": false,
     "start_time": "2022-06-19T07:08:45.643159",
     "status": "completed"
    },
    "tags": []
   },
   "outputs": [],
   "source": [
    "import requests\n",
    "import folium\n",
    "from folium import plugins\n",
    "from IPython.core.display import display, HTML\n",
    "import geopy.distance"
   ]
  },
  {
   "cell_type": "markdown",
   "id": "b77a694b",
   "metadata": {
    "papermill": {
     "duration": 0.047507,
     "end_time": "2022-06-19T07:08:46.641132",
     "exception": false,
     "start_time": "2022-06-19T07:08:46.593625",
     "status": "completed"
    },
    "tags": []
   },
   "source": [
    "The first step involves locating the points by manually entering the coordinates. Throughout the notebook, [Google Earth](https://earth.google.com/web/@53.93202778,-3.87712018,915.65399722a,2606030.80364406d,35y,0h,0t,0r) was used to accurately determine coordinates and distances of interest."
   ]
  },
  {
   "cell_type": "code",
   "execution_count": null,
   "id": "63dcd252",
   "metadata": {
    "execution": {
     "iopub.execute_input": "2022-06-19T07:08:46.738072Z",
     "iopub.status.busy": "2022-06-19T07:08:46.736486Z",
     "iopub.status.idle": "2022-06-19T07:08:46.746012Z",
     "shell.execute_reply": "2022-06-19T07:08:46.745136Z"
    },
    "papermill": {
     "duration": 0.060208,
     "end_time": "2022-06-19T07:08:46.748346",
     "exception": false,
     "start_time": "2022-06-19T07:08:46.688138",
     "status": "completed"
    },
    "tags": []
   },
   "outputs": [],
   "source": [
    "HangerLaneGyratorySystem_center = [51.53070221005408, -0.2936819299043353]\n",
    "locaudi1 = 27 #Ealing\n",
    "SpaghettiJunction_center = [52.510384736846106, -1.8643014159328968]\n",
    "locaudi2 = 300 #Birmingham\n",
    "MarbleArch_center = [51.51320868323708, -0.15891413538092086]\n",
    "locaudi3 = 1 #Westminster\n",
    "ElephantandCastle_center = [51.49551343802948, -0.10066007523055978]\n",
    "locaudi4 = 8 #Southwark\n",
    "SouthMimms_center = [51.686402147536626, -0.2293386372425677]\n",
    "locaudi5 = 33 #Hertsmere\n",
    "M4M5interchange_center = [51.55144606896755, -2.5524378515319888]\n",
    "locaudi6 = 612 #South Gloucestershire\n",
    "MagicRoundabout_center = [51.562858913649116, -1.7714612520537274]\n",
    "locaudi7 = 633 #Swindon\n",
    "M8junctionsthroughcentralGlasgow_center = [55.8678027737016, -4.2357404397610745]\n",
    "locaudi8 = 926 #Glasgow, City of\n",
    "MancunianWayjunctions_center = [53.47536629981283, -2.26150996368035]\n",
    "locaudi9 = 102 #Manchester\n",
    "SheriffhallRoundabout_center = [55.90021554060641, -3.0922829402163785]\n",
    "locaudi10 = 929 #Midlothian\n",
    "\n",
    "locaudi_index = np.array([locaudi1,locaudi2,locaudi3,locaudi4,locaudi5,locaudi6,locaudi7\\\n",
    "                          ,locaudi8,locaudi9,locaudi10])"
   ]
  },
  {
   "cell_type": "markdown",
   "id": "8c22a7bc",
   "metadata": {
    "papermill": {
     "duration": 0.048436,
     "end_time": "2022-06-19T07:08:46.843930",
     "exception": false,
     "start_time": "2022-06-19T07:08:46.795494",
     "status": "completed"
    },
    "tags": []
   },
   "source": [
    "Now it is possible to create ten maps (each of them centered in one of the ten intersections of the ranking)."
   ]
  },
  {
   "cell_type": "code",
   "execution_count": null,
   "id": "37dc8332",
   "metadata": {
    "execution": {
     "iopub.execute_input": "2022-06-19T07:08:46.941941Z",
     "iopub.status.busy": "2022-06-19T07:08:46.941137Z",
     "iopub.status.idle": "2022-06-19T07:08:46.971462Z",
     "shell.execute_reply": "2022-06-19T07:08:46.970581Z"
    },
    "papermill": {
     "duration": 0.082273,
     "end_time": "2022-06-19T07:08:46.974014",
     "exception": false,
     "start_time": "2022-06-19T07:08:46.891741",
     "status": "completed"
    },
    "tags": []
   },
   "outputs": [],
   "source": [
    "map1 = folium.Map(HangerLaneGyratorySystem_center, zoom_start=17)\n",
    "map2 = folium.Map(SpaghettiJunction_center, zoom_start=15)\n",
    "map3 = folium.Map(MarbleArch_center, zoom_start=20)\n",
    "map4 = folium.Map(ElephantandCastle_center, zoom_start=20)\n",
    "map5 = folium.Map(SouthMimms_center, zoom_start=15)\n",
    "map6 = folium.Map(M4M5interchange_center, zoom_start=15)\n",
    "map7 = folium.Map(MagicRoundabout_center, zoom_start=20)\n",
    "map8 = folium.Map(M8junctionsthroughcentralGlasgow_center, zoom_start=15)\n",
    "map9 = folium.Map(MancunianWayjunctions_center, zoom_start=20)\n",
    "map10 = folium.Map(SheriffhallRoundabout_center, zoom_start=20)"
   ]
  },
  {
   "cell_type": "markdown",
   "id": "f597ae7d",
   "metadata": {
    "papermill": {
     "duration": 0.048097,
     "end_time": "2022-06-19T07:08:47.070584",
     "exception": false,
     "start_time": "2022-06-19T07:08:47.022487",
     "status": "completed"
    },
    "tags": []
   },
   "source": [
    "*For each stretch of road analyzed, we have also indicated the reference code of the police district: we will use it later as a filter that will allow us to process and plot only the strictly necessary accidents, thus making the maps and the code much lighter.*"
   ]
  },
  {
   "cell_type": "code",
   "execution_count": null,
   "id": "164d92f3",
   "metadata": {
    "execution": {
     "iopub.execute_input": "2022-06-19T07:08:47.168265Z",
     "iopub.status.busy": "2022-06-19T07:08:47.167507Z",
     "iopub.status.idle": "2022-06-19T07:08:47.225195Z",
     "shell.execute_reply": "2022-06-19T07:08:47.224039Z"
    },
    "papermill": {
     "duration": 0.108843,
     "end_time": "2022-06-19T07:08:47.227498",
     "exception": false,
     "start_time": "2022-06-19T07:08:47.118655",
     "status": "completed"
    },
    "tags": []
   },
   "outputs": [],
   "source": [
    "htmlmap12 = HTML('<iframe srcdoc=\"{}\" style=\"float:left; width: {}px; height: \\\n",
    "{}px; display:inline-block; width: 49%; margin: 0 auto; border: 2px solid black\"></iframe>'\n",
    "           '<iframe srcdoc=\"{}\" style=\"float:right; width: {}px; height: {}px; display:inline-block; \\\n",
    "           width: 49%; margin: 0 auto; border: 2px solid black\"></iframe>'\n",
    "           .format(map1.get_root().render().replace('\"', '&quot;'),500,500,\n",
    "                   map2.get_root().render().replace('\"', '&quot;'),500,500))\n",
    "htmlmap34 = HTML('<iframe srcdoc=\"{}\" style=\"float:left; width: {}px; height: \\\n",
    "{}px; display:inline-block; width: 49%; margin: 0 auto; border: 2px solid black\"></iframe>'\n",
    "           '<iframe srcdoc=\"{}\" style=\"float:right; width: {}px; height: {}px; display:inline-block; \\\n",
    "           width: 49%; margin: 0 auto; border: 2px solid black\"></iframe>'\n",
    "           .format(map3.get_root().render().replace('\"', '&quot;'),500,500,\n",
    "                   map4.get_root().render().replace('\"', '&quot;'),500,500))\n",
    "htmlmap56 = HTML('<iframe srcdoc=\"{}\" style=\"float:left; width: {}px; height: \\\n",
    "{}px; display:inline-block; width: 49%; margin: 0 auto; border: 2px solid black\"></iframe>'\n",
    "           '<iframe srcdoc=\"{}\" style=\"float:right; width: {}px; height: {}px; display:inline-block; \\\n",
    "           width: 49%; margin: 0 auto; border: 2px solid black\"></iframe>'\n",
    "           .format(map5.get_root().render().replace('\"', '&quot;'),500,500,\n",
    "                   map6.get_root().render().replace('\"', '&quot;'),500,500))\n",
    "htmlmap78 = HTML('<iframe srcdoc=\"{}\" style=\"float:left; width: {}px; height: \\\n",
    "{}px; display:inline-block; width: 49%; margin: 0 auto; border: 2px solid black\"></iframe>'\n",
    "           '<iframe srcdoc=\"{}\" style=\"float:right; width: {}px; height: {}px; display:inline-block; \\\n",
    "           width: 49%; margin: 0 auto; border: 2px solid black\"></iframe>'\n",
    "           .format(map7.get_root().render().replace('\"', '&quot;'),500,500,\n",
    "                   map8.get_root().render().replace('\"', '&quot;'),500,500))\n",
    "htmlmap910 = HTML('<iframe srcdoc=\"{}\" style=\"float:left; width: {}px; height: \\\n",
    "{}px; display:inline-block; width: 49%; margin: 0 auto; border: 2px solid black\"></iframe>'\n",
    "           '<iframe srcdoc=\"{}\" style=\"float:right; width: {}px; height: {}px; display:inline-block; \\\n",
    "           width: 49%; margin: 0 auto; border: 2px solid black\"></iframe>'\n",
    "           .format(map9.get_root().render().replace('\"', '&quot;'),500,500,\n",
    "                   map10.get_root().render().replace('\"', '&quot;'),500,500))\n",
    "\n",
    "display(htmlmap12, htmlmap34, htmlmap56, htmlmap78, htmlmap910)"
   ]
  },
  {
   "cell_type": "markdown",
   "id": "c763f339",
   "metadata": {
    "papermill": {
     "duration": 0.050711,
     "end_time": "2022-06-19T07:08:47.329779",
     "exception": false,
     "start_time": "2022-06-19T07:08:47.279068",
     "status": "completed"
    },
    "tags": []
   },
   "source": [
    "As we can see, the fear is completely understandable: the list includes complicated intersections in central London, roundabouts with 5 parallel lanes, and difficult motorway intersections. Let's plot the accidents from the last five years in each site.\n",
    "\n",
    "As already done in the notebook, before plotting any data we must check for possible MVs."
   ]
  },
  {
   "cell_type": "code",
   "execution_count": null,
   "id": "9aa2eb39",
   "metadata": {
    "execution": {
     "iopub.execute_input": "2022-06-19T07:08:47.431508Z",
     "iopub.status.busy": "2022-06-19T07:08:47.430928Z",
     "iopub.status.idle": "2022-06-19T07:08:47.462043Z",
     "shell.execute_reply": "2022-06-19T07:08:47.460981Z"
    },
    "papermill": {
     "duration": 0.08587,
     "end_time": "2022-06-19T07:08:47.465609",
     "exception": false,
     "start_time": "2022-06-19T07:08:47.379739",
     "status": "completed"
    },
    "tags": []
   },
   "outputs": [],
   "source": [
    "MV_lat_lst5 = np.isnan(df_acc_lst5.latitude)\n",
    "MVn_lat_lst5 = np.unique(MV_lat_lst5, return_counts=True)\n",
    "MV_lon_lst5 = np.isnan(df_acc_lst5.longitude)\n",
    "MVn_lon_lst5 = np.unique(MV_lon_lst5, return_counts=True)\n",
    "print(MV_lat_lst5[MV_lat_lst5].index.values,MV_lon_lst5[MV_lon_lst5].index.values)"
   ]
  },
  {
   "cell_type": "markdown",
   "id": "07e647f1",
   "metadata": {
    "papermill": {
     "duration": 0.048744,
     "end_time": "2022-06-19T07:08:47.564171",
     "exception": false,
     "start_time": "2022-06-19T07:08:47.515427",
     "status": "completed"
    },
    "tags": []
   },
   "source": [
    "The 2 variables with coordinates have MVs at the same index, so we can simply remove rows where one of them (longitude) has MVs to remove all."
   ]
  },
  {
   "cell_type": "code",
   "execution_count": null,
   "id": "1dc711e3",
   "metadata": {
    "execution": {
     "iopub.execute_input": "2022-06-19T07:08:47.664687Z",
     "iopub.status.busy": "2022-06-19T07:08:47.663856Z",
     "iopub.status.idle": "2022-06-19T07:08:47.799838Z",
     "shell.execute_reply": "2022-06-19T07:08:47.799030Z"
    },
    "papermill": {
     "duration": 0.18887,
     "end_time": "2022-06-19T07:08:47.802137",
     "exception": false,
     "start_time": "2022-06-19T07:08:47.613267",
     "status": "completed"
    },
    "tags": []
   },
   "outputs": [],
   "source": [
    "df_acc_lst5_mod = df_acc_lst5[df_acc_lst5['longitude'].notna()]"
   ]
  },
  {
   "cell_type": "markdown",
   "id": "5134da2d",
   "metadata": {
    "papermill": {
     "duration": 0.048928,
     "end_time": "2022-06-19T07:08:47.901066",
     "exception": false,
     "start_time": "2022-06-19T07:08:47.852138",
     "status": "completed"
    },
    "tags": []
   },
   "source": [
    "Removed all the rows where the position values were NaN, we now do the same for the \"local_authority_district\" column, which we are gonna use to plot only the points in a specific area. We now study the \"already modified\" df: it's unuseful study MV of local_authority_district in rows where also latitude or longitude have one!)"
   ]
  },
  {
   "cell_type": "code",
   "execution_count": null,
   "id": "8791951c",
   "metadata": {
    "execution": {
     "iopub.execute_input": "2022-06-19T07:08:48.003966Z",
     "iopub.status.busy": "2022-06-19T07:08:48.003130Z",
     "iopub.status.idle": "2022-06-19T07:08:48.020386Z",
     "shell.execute_reply": "2022-06-19T07:08:48.019286Z"
    },
    "papermill": {
     "duration": 0.071528,
     "end_time": "2022-06-19T07:08:48.023047",
     "exception": false,
     "start_time": "2022-06-19T07:08:47.951519",
     "status": "completed"
    },
    "scrolled": true,
    "tags": []
   },
   "outputs": [],
   "source": [
    "print(np.unique(np.isnan(df_acc_lst5_mod.local_authority_district), return_counts=True))"
   ]
  },
  {
   "cell_type": "code",
   "execution_count": null,
   "id": "d1064354",
   "metadata": {
    "execution": {
     "iopub.execute_input": "2022-06-19T07:08:48.124102Z",
     "iopub.status.busy": "2022-06-19T07:08:48.123302Z",
     "iopub.status.idle": "2022-06-19T07:08:48.188590Z",
     "shell.execute_reply": "2022-06-19T07:08:48.187716Z"
    },
    "papermill": {
     "duration": 0.1189,
     "end_time": "2022-06-19T07:08:48.190967",
     "exception": false,
     "start_time": "2022-06-19T07:08:48.072067",
     "status": "completed"
    },
    "tags": []
   },
   "outputs": [],
   "source": [
    "lon_lst5 = df_acc_lst5_mod['longitude'].values.tolist()\n",
    "lat_lst5 = df_acc_lst5_mod['latitude'].values.tolist()\n",
    "locaudi_lst5 = df_acc_lst5_mod['local_authority_district'].values.tolist()"
   ]
  },
  {
   "cell_type": "code",
   "execution_count": null,
   "id": "e7440a18",
   "metadata": {
    "execution": {
     "iopub.execute_input": "2022-06-19T07:08:48.292385Z",
     "iopub.status.busy": "2022-06-19T07:08:48.291833Z",
     "iopub.status.idle": "2022-06-19T07:08:48.311072Z",
     "shell.execute_reply": "2022-06-19T07:08:48.310129Z"
    },
    "papermill": {
     "duration": 0.072745,
     "end_time": "2022-06-19T07:08:48.313154",
     "exception": false,
     "start_time": "2022-06-19T07:08:48.240409",
     "status": "completed"
    },
    "tags": []
   },
   "outputs": [],
   "source": [
    "folium.TileLayer('stamentoner').add_to(map1)\n",
    "folium.TileLayer('stamentoner').add_to(map2)\n",
    "folium.TileLayer('stamentoner').add_to(map3)\n",
    "folium.TileLayer('stamentoner').add_to(map4)\n",
    "folium.TileLayer('stamentoner').add_to(map5)\n",
    "folium.TileLayer('stamentoner').add_to(map6)\n",
    "folium.TileLayer('stamentoner').add_to(map7)\n",
    "folium.TileLayer('stamentoner').add_to(map8)\n",
    "folium.TileLayer('stamentoner').add_to(map9)\n",
    "folium.TileLayer('stamentoner').add_to(map10)"
   ]
  },
  {
   "cell_type": "markdown",
   "id": "904b0930",
   "metadata": {
    "papermill": {
     "duration": 0.049098,
     "end_time": "2022-06-19T07:08:48.412846",
     "exception": false,
     "start_time": "2022-06-19T07:08:48.363748",
     "status": "completed"
    },
    "tags": []
   },
   "source": [
    "***\n",
    "\n",
    "With the following code, we plot the accidents in each junction and then we display a black & white version of each map."
   ]
  },
  {
   "cell_type": "code",
   "execution_count": null,
   "id": "0e8d1383",
   "metadata": {
    "execution": {
     "iopub.execute_input": "2022-06-19T07:08:48.514089Z",
     "iopub.status.busy": "2022-06-19T07:08:48.513296Z",
     "iopub.status.idle": "2022-06-19T07:08:52.584807Z",
     "shell.execute_reply": "2022-06-19T07:08:52.583655Z"
    },
    "papermill": {
     "duration": 4.125406,
     "end_time": "2022-06-19T07:08:52.587881",
     "exception": false,
     "start_time": "2022-06-19T07:08:48.462475",
     "status": "completed"
    },
    "tags": []
   },
   "outputs": [],
   "source": [
    "for j in range(0,len(locaudi_index)):\n",
    "    lat_sel = []\n",
    "    lon_sel = []\n",
    "    for i in range(0,len(lat_lst5)):\n",
    "        if locaudi_lst5[i]==locaudi_index[j]:\n",
    "            m = eval(\"map\"+str(j+1))\n",
    "            folium.CircleMarker([lat_lst5[i], lon_lst5[i]], radius=5,\\\n",
    "                                color='#f44336', fill_color='#faff00').add_to(m)\n",
    "        #lat_sel.append(lat_lst5[i])\n",
    "        #lon_sel.append(lon_lst5[i])\n",
    "        #crash_array_sel = np.transpose(np.array([lat_sel,lon_sel]))\n",
    "        #m.add_child(plugins.HeatMap(crash_array_sel, radius=20))"
   ]
  },
  {
   "cell_type": "code",
   "execution_count": null,
   "id": "b2a37ba2",
   "metadata": {
    "execution": {
     "iopub.execute_input": "2022-06-19T07:08:52.689464Z",
     "iopub.status.busy": "2022-06-19T07:08:52.688999Z",
     "iopub.status.idle": "2022-06-19T07:09:19.503589Z",
     "shell.execute_reply": "2022-06-19T07:09:19.499599Z"
    },
    "papermill": {
     "duration": 27.145559,
     "end_time": "2022-06-19T07:09:19.783656",
     "exception": false,
     "start_time": "2022-06-19T07:08:52.638097",
     "status": "completed"
    },
    "tags": []
   },
   "outputs": [],
   "source": [
    "htmlmap12 = HTML('<iframe srcdoc=\"{}\" style=\"float:left; width: {}px; height: \\\n",
    "{}px; display:inline-block; width: 49%; margin: 0 auto; border: 2px solid black\"></iframe>'\n",
    "           '<iframe srcdoc=\"{}\" style=\"float:right; width: {}px; height: {}px; display:inline-block; \\\n",
    "           width: 49%; margin: 0 auto; border: 2px solid black\"></iframe>'\n",
    "           .format(map1.get_root().render().replace('\"', '&quot;'),500,500,\n",
    "                   map2.get_root().render().replace('\"', '&quot;'),500,500))\n",
    "htmlmap34 = HTML('<iframe srcdoc=\"{}\" style=\"float:left; width: {}px; height: \\\n",
    "{}px; display:inline-block; width: 49%; margin: 0 auto; border: 2px solid black\"></iframe>'\n",
    "           '<iframe srcdoc=\"{}\" style=\"float:right; width: {}px; height: {}px; display:inline-block; \\\n",
    "           width: 49%; margin: 0 auto; border: 2px solid black\"></iframe>'\n",
    "           .format(map3.get_root().render().replace('\"', '&quot;'),500,500,\n",
    "                   map4.get_root().render().replace('\"', '&quot;'),500,500))\n",
    "htmlmap56 = HTML('<iframe srcdoc=\"{}\" style=\"float:left; width: {}px; height: \\\n",
    "{}px; display:inline-block; width: 49%; margin: 0 auto; border: 2px solid black\"></iframe>'\n",
    "           '<iframe srcdoc=\"{}\" style=\"float:right; width: {}px; height: {}px; display:inline-block; \\\n",
    "           width: 49%; margin: 0 auto; border: 2px solid black\"></iframe>'\n",
    "           .format(map5.get_root().render().replace('\"', '&quot;'),500,500,\n",
    "                   map6.get_root().render().replace('\"', '&quot;'),500,500))\n",
    "htmlmap78 = HTML('<iframe srcdoc=\"{}\" style=\"float:left; width: {}px; height: \\\n",
    "{}px; display:inline-block; width: 49%; margin: 0 auto; border: 2px solid black\"></iframe>'\n",
    "           '<iframe srcdoc=\"{}\" style=\"float:right; width: {}px; height: {}px; display:inline-block; \\\n",
    "           width: 49%; margin: 0 auto; border: 2px solid black\"></iframe>'\n",
    "           .format(map7.get_root().render().replace('\"', '&quot;'),500,500,\n",
    "                   map8.get_root().render().replace('\"', '&quot;'),500,500))\n",
    "htmlmap910 = HTML('<iframe srcdoc=\"{}\" style=\"float:left; width: {}px; height: \\\n",
    "{}px; display:inline-block; width: 49%; margin: 0 auto; border: 2px solid black\"></iframe>'\n",
    "           '<iframe srcdoc=\"{}\" style=\"float:right; width: {}px; height: {}px; display:inline-block; \\\n",
    "           width: 49%; margin: 0 auto; border: 2px solid black\"></iframe>'\n",
    "           .format(map9.get_root().render().replace('\"', '&quot;'),500,500,\n",
    "                   map10.get_root().render().replace('\"', '&quot;'),500,500))\n",
    "\n",
    "display(htmlmap12, htmlmap34, htmlmap56, htmlmap78, htmlmap910)"
   ]
  },
  {
   "cell_type": "markdown",
   "id": "b46f252a",
   "metadata": {
    "papermill": {
     "duration": 0.687949,
     "end_time": "2022-06-19T07:09:21.289901",
     "exception": false,
     "start_time": "2022-06-19T07:09:20.601952",
     "status": "completed"
    },
    "tags": []
   },
   "source": [
    "***\n",
    "\n",
    "**Does danger perspection equal the effective danger of a road junction?** If we analyze the first roundabout..."
   ]
  },
  {
   "cell_type": "code",
   "execution_count": null,
   "id": "0cc7e50f",
   "metadata": {
    "execution": {
     "iopub.execute_input": "2022-06-19T07:09:22.670748Z",
     "iopub.status.busy": "2022-06-19T07:09:22.670222Z",
     "iopub.status.idle": "2022-06-19T07:09:22.795804Z",
     "shell.execute_reply": "2022-06-19T07:09:22.794816Z"
    },
    "papermill": {
     "duration": 0.82062,
     "end_time": "2022-06-19T07:09:22.799479",
     "exception": false,
     "start_time": "2022-06-19T07:09:21.978859",
     "status": "completed"
    },
    "tags": []
   },
   "outputs": [],
   "source": [
    "map0 = folium.Map(HangerLaneGyratorySystem_center, zoom_start=12)\n",
    "folium.TileLayer('stamentoner').add_to(map0)\n",
    "folium.TileLayer('stamentoner').add_to(map0)\n",
    "folium.CircleMarker(HangerLaneGyratorySystem_center, radius=15).add_to(map0)\n",
    "lat_sel = []\n",
    "lon_sel = []\n",
    "\n",
    "for i in range(0,len(lat_lst5)):\n",
    "    if locaudi_lst5[i]==27:\n",
    "#        folium.CircleMarker([lat_lst5[i], lon_lst5[i]], radius=1, color='#f44336',\\\n",
    "#                            fill_color='#faff00').add_to(map0)\n",
    "        lat_sel.append(lat_lst5[i])\n",
    "        lon_sel.append(lon_lst5[i])\n",
    "\n",
    "crash_array_sel = np.transpose(np.array([lat_sel,lon_sel]))\n",
    "map0.add_child(plugins.HeatMap(crash_array_sel, radius=20))\n",
    "map0"
   ]
  },
  {
   "cell_type": "code",
   "execution_count": null,
   "id": "fb68f8b5",
   "metadata": {
    "execution": {
     "iopub.execute_input": "2022-06-19T07:09:24.213625Z",
     "iopub.status.busy": "2022-06-19T07:09:24.212793Z",
     "iopub.status.idle": "2022-06-19T07:09:27.069820Z",
     "shell.execute_reply": "2022-06-19T07:09:27.068797Z"
    },
    "papermill": {
     "duration": 3.617319,
     "end_time": "2022-06-19T07:09:27.113730",
     "exception": false,
     "start_time": "2022-06-19T07:09:23.496411",
     "status": "completed"
    },
    "tags": []
   },
   "outputs": [],
   "source": [
    "map0 = folium.Map(HangerLaneGyratorySystem_center, zoom_start=15)\n",
    "folium.TileLayer('stamentoner').add_to(map0)\n",
    "folium.CircleMarker(HangerLaneGyratorySystem_center, radius=15).add_to(map0)\n",
    "accsev_lst5 = df_acc_lst5_mod['accident_severity'].values.tolist()\n",
    "\n",
    "for i in range(0,len(lat_lst5)):\n",
    "    if locaudi_lst5[i]==27:\n",
    "        if accsev_lst5[i]==1: #fatal\n",
    "            folium.CircleMarker([lat_lst5[i], lon_lst5[i]], radius=3, color='#f44336',\\\n",
    "                                fill_color='#f44336').add_to(map0)\n",
    "        if accsev_lst5[i]==2: #serious\n",
    "            folium.CircleMarker([lat_lst5[i], lon_lst5[i]], radius=3, color='#f1c232',\\\n",
    "                                fill_color='#f1c232').add_to(map0)\n",
    "        if accsev_lst5[i]==3: #slight\n",
    "            folium.CircleMarker([lat_lst5[i], lon_lst5[i]], radius=3, color='#8fce00',\\\n",
    "                                fill_color='#8fce00').add_to(map0)\n",
    "map0"
   ]
  },
  {
   "cell_type": "markdown",
   "id": "13fe8ef5",
   "metadata": {
    "papermill": {
     "duration": 0.737442,
     "end_time": "2022-06-19T07:09:28.593043",
     "exception": false,
     "start_time": "2022-06-19T07:09:27.855601",
     "status": "completed"
    },
    "tags": []
   },
   "source": [
    "As we can see above the scariest road junction in the UK is neither the most dangerous nor the place where accidents occur the most. So, scary junction does not mean dangerous junction...\n",
    "<br>\n",
    "\n",
    "or maybe there is a correlation?\n",
    "<br>\n",
    "\n",
    "If we analyze deeply the maps of accidents in the junctions, we can see that the accidents IN the junctions are less than the accidents NEAR the junctions. That's strange: a scary and difficult junction has fewer accidents than the road near (500m before a roundabout, for example)?"
   ]
  },
  {
   "cell_type": "code",
   "execution_count": null,
   "id": "91db2801",
   "metadata": {
    "execution": {
     "iopub.execute_input": "2022-06-19T07:09:30.052631Z",
     "iopub.status.busy": "2022-06-19T07:09:30.051829Z",
     "iopub.status.idle": "2022-06-19T07:09:31.133848Z",
     "shell.execute_reply": "2022-06-19T07:09:31.132590Z"
    },
    "papermill": {
     "duration": 1.831295,
     "end_time": "2022-06-19T07:09:31.152873",
     "exception": false,
     "start_time": "2022-06-19T07:09:29.321578",
     "status": "completed"
    },
    "tags": []
   },
   "outputs": [],
   "source": [
    "map7"
   ]
  },
  {
   "cell_type": "markdown",
   "id": "9f104d00",
   "metadata": {
    "papermill": {
     "duration": 0.784558,
     "end_time": "2022-06-19T07:09:32.729536",
     "exception": false,
     "start_time": "2022-06-19T07:09:31.944978",
     "status": "completed"
    },
    "tags": []
   },
   "source": [
    "For each junction we set a distance that indicates how far is \"IN\" in the junction and how far is \"NEAR\" the junction."
   ]
  },
  {
   "cell_type": "code",
   "execution_count": null,
   "id": "8dc7de7b",
   "metadata": {
    "execution": {
     "iopub.execute_input": "2022-06-19T07:09:34.288735Z",
     "iopub.status.busy": "2022-06-19T07:09:34.287800Z",
     "iopub.status.idle": "2022-06-19T07:09:56.258617Z",
     "shell.execute_reply": "2022-06-19T07:09:56.257261Z"
    },
    "papermill": {
     "duration": 22.7515,
     "end_time": "2022-06-19T07:09:56.261312",
     "exception": false,
     "start_time": "2022-06-19T07:09:33.509812",
     "status": "completed"
    },
    "tags": []
   },
   "outputs": [],
   "source": [
    "lat_junction = np.array([51.53070221005408, 52.510384736846106, 51.51320868323708, 51.49551343802948,\\\n",
    "                        51.686402147536626, 51.55144606896755, 51.562858913649116, 55.8678027737016,\\\n",
    "                        53.47536629981283, 55.90021554060641])\n",
    "lon_junction = np.array([-0.2936819299043353, -1.8643014159328968, -0.15891413538092086, -0.10066007523055978,\\\n",
    "                        -0.2293386372425677, -2.5524378515319888, -1.7714612520537274, -4.2357404397610745,\\\n",
    "                        -2.26150996368035, -3.0922829402163785])\n",
    "\n",
    "distance_limit_in_junction = np.array([140,360,70,70,200,200,52,260,70,60]) #[m]\n",
    "number_of_crash_in_junction = np.zeros(len(locaudi_index))\n",
    "\n",
    "for j in range(0,len(locaudi_index)):\n",
    "    number = 0\n",
    "    for i in range(0,len(lat_lst5)):\n",
    "        if locaudi_lst5[i]==locaudi_index[j]:\n",
    "            distance = geopy.distance.distance([lat_junction[j],lon_junction[j]],\\\n",
    "                                               [lat_lst5[i] , lon_lst5[i]]).m\n",
    "            if distance < distance_limit_in_junction[j]:\n",
    "                number = number +1\n",
    "    number_of_crash_in_junction[j] = number\n",
    "\n",
    "distance_limit_near = np.array([700,1000,200,300,1000,1000,200,600,260,700]) #[m]\n",
    "number_of_crash_near = np.zeros(len(locaudi_index))\n",
    "\n",
    "for j in range(0,len(locaudi_index)):\n",
    "    number = 0\n",
    "    for i in range(0,len(lat_lst5)):\n",
    "        if locaudi_lst5[i]==locaudi_index[j]:\n",
    "            distance = geopy.distance.distance([lat_junction[j],lon_junction[j]],\\\n",
    "                                               [lat_lst5[i] , lon_lst5[i]]).m\n",
    "            if distance < distance_limit_near[j]:\n",
    "                number = number +1\n",
    "    number_of_crash_near[j] = number"
   ]
  },
  {
   "cell_type": "code",
   "execution_count": null,
   "id": "229b0e72",
   "metadata": {
    "execution": {
     "iopub.execute_input": "2022-06-19T07:09:57.844118Z",
     "iopub.status.busy": "2022-06-19T07:09:57.843697Z",
     "iopub.status.idle": "2022-06-19T07:09:58.062158Z",
     "shell.execute_reply": "2022-06-19T07:09:58.061107Z"
    },
    "papermill": {
     "duration": 1.008692,
     "end_time": "2022-06-19T07:09:58.064370",
     "exception": false,
     "start_time": "2022-06-19T07:09:57.055678",
     "status": "completed"
    },
    "tags": []
   },
   "outputs": [],
   "source": [
    "acc_in_junct = number_of_crash_in_junction.astype(int)\n",
    "acc_near_only = number_of_crash_near.astype(int) - number_of_crash_in_junction.astype(int)\n",
    "labels = ['jnct_1','jnct_2','jnct_3','jnct_4','jnct_5','jnct_6','jnct_7','jnct_8','jnct_9','jnct_10']\n",
    "\n",
    "plt.figure(figsize=(14,6))\n",
    "x = np.arange(len(labels))\n",
    "\n",
    "plt.bar(x - 0.45/2, acc_in_junct,0.45,label='IN',color='#140f2d')\n",
    "plt.bar(x + 0.45/2, acc_near_only,0.45,label='NEAR',color='#f22b29')\n",
    "plt.xticks(x, labels)\n",
    "plt.legend(loc=\"best\",prop={'size': 20})\n",
    "plt.ylabel(\"Occurence\")\n",
    "plt.title('Accidents IN vs Accidents NEAR in the 10 scariest intersections.')\n",
    "plt.grid(alpha=0.2, color='#140f2d')\n",
    "plt.xlabel('Junctions')\n",
    "ax = plt.gca()\n",
    "ax.set_facecolor('#f4f1ee')\n",
    "plt.show()"
   ]
  },
  {
   "cell_type": "markdown",
   "id": "a398e194",
   "metadata": {
    "papermill": {
     "duration": 0.784025,
     "end_time": "2022-06-19T07:09:59.628345",
     "exception": false,
     "start_time": "2022-06-19T07:09:58.844320",
     "status": "completed"
    },
    "tags": []
   },
   "source": [
    "That's what we were talking about: there are more accidents in the proximity of these junctions than inside of them.\n",
    "\n",
    "Now the question is: is this an isolated case, typical of these roundabouts or is it normal?\n",
    "\n",
    "To answer that, we re-analyzed 10 intersections, each of which similar to one of the 10 in the previous ranking: at each roundabout another one was \"connected\", at each motorway intersection one of the same size and so on..."
   ]
  },
  {
   "cell_type": "code",
   "execution_count": null,
   "id": "b3a86842",
   "metadata": {
    "execution": {
     "iopub.execute_input": "2022-06-19T07:10:01.195332Z",
     "iopub.status.busy": "2022-06-19T07:10:01.194500Z",
     "iopub.status.idle": "2022-06-19T07:10:01.199775Z",
     "shell.execute_reply": "2022-06-19T07:10:01.198955Z"
    },
    "papermill": {
     "duration": 0.790843,
     "end_time": "2022-06-19T07:10:01.201856",
     "exception": false,
     "start_time": "2022-06-19T07:10:00.411013",
     "status": "completed"
    },
    "tags": []
   },
   "outputs": [],
   "source": [
    "# EalingRoundabout_center = [51.536200315083796, -0.34658735703627735]\n",
    "# locaudi1 = 27 #Ealing\n",
    "# BelgraveMiddleway_center = [52.46733221363832, -1.9012210695096279]\n",
    "# locaudi2 = 300 #Birmingham\n",
    "# TrafalgarSquare_center = [51.507385545095794, -0.12772704973324275]\n",
    "# locaudi3 = 1 #Westminster\n",
    "# BricklayersArmsRoundabout_center = [51.49447566857365, -0.08573316075615815]\n",
    "# locaudi4 = 8 #Southwark\n",
    "# TheBellRoundabout_center = [51.71663099820978, -0.2776450205895369]\n",
    "# locaudi5 = 33 #Hertsmere\n",
    "# M5interchange_center = [51.528582140751034, -2.610136014061043]\n",
    "# locaudi6 = 612 #South Gloucestershire\n",
    "# SwindonGreenBridge_center = [51.57121956648509, -1.7510694048849393]\n",
    "# locaudi7 = 633 #Swindon\n",
    "# StalledSpacesGlasgow_center = [55.8669197512338, -4.271285897426675]\n",
    "# locaudi8 = 926 #Glasgow, City of\n",
    "# DeansgateInterchange_center = [53.47208598157742, -2.2574844983391706]\n",
    "# locaudi9 = 102 #Manchester\n",
    "# A702Junction_center = [55.88769427156695, -3.1983767139639054]\n",
    "# locaudi10 = 929 #Midlothian"
   ]
  },
  {
   "cell_type": "code",
   "execution_count": null,
   "id": "00cc1bd1",
   "metadata": {
    "execution": {
     "iopub.execute_input": "2022-06-19T07:10:02.952064Z",
     "iopub.status.busy": "2022-06-19T07:10:02.951399Z",
     "iopub.status.idle": "2022-06-19T07:10:25.033908Z",
     "shell.execute_reply": "2022-06-19T07:10:25.032600Z"
    },
    "papermill": {
     "duration": 22.95257,
     "end_time": "2022-06-19T07:10:25.036800",
     "exception": false,
     "start_time": "2022-06-19T07:10:02.084230",
     "status": "completed"
    },
    "tags": []
   },
   "outputs": [],
   "source": [
    "lat_junction_2 = np.array([51.536200315083796, 52.46733221363832, 51.507385545095794, 51.49447566857365,\\\n",
    "                        51.71663099820978, 51.528582140751034, 51.57121956648509, 55.8669197512338,\\\n",
    "                        53.47208598157742, 55.88769427156695])\n",
    "lon_junction_2 = np.array([-0.34658735703627735, -1.9012210695096279,\\\n",
    "                           -0.12772704973324275, -0.08573316075615815,\\\n",
    "                        -0.2776450205895369, -2.610136014061043, -1.7510694048849393, -4.271285897426675,\\\n",
    "                        -2.2574844983391706, -3.1983767139639054])\n",
    "\n",
    "distance_limit_in_junction_2 = np.array([80,70,50,100,200,140,60,150,80,60]) #[m]\n",
    "number_of_crash_in_junction_2 = np.zeros(len(locaudi_index))\n",
    "\n",
    "for j in range(0,len(locaudi_index)):\n",
    "    number = 0\n",
    "    for i in range(0,len(lat_lst5)):\n",
    "        if locaudi_lst5[i]==locaudi_index[j]:\n",
    "            distance = geopy.distance.distance([lat_junction_2[j],lon_junction_2[j]],\\\n",
    "                                               [lat_lst5[i] , lon_lst5[i]]).m\n",
    "            if distance < distance_limit_in_junction_2[j]:\n",
    "                number = number +1\n",
    "    number_of_crash_in_junction_2[j] = number\n",
    "\n",
    "distance_limit_near_2 = np.array([150,200,100,200,1000,550,200,400,260,300]) #[m]\n",
    "number_of_crash_near_2 = np.zeros(len(locaudi_index))\n",
    "\n",
    "for j in range(0,len(locaudi_index)):\n",
    "    number = 0\n",
    "    for i in range(0,len(lat_lst5)):\n",
    "        if locaudi_lst5[i]==locaudi_index[j]:\n",
    "            distance = geopy.distance.distance([lat_junction_2[j],lon_junction_2[j]],\\\n",
    "                                               [lat_lst5[i] , lon_lst5[i]]).m\n",
    "            if distance < distance_limit_near_2[j]:\n",
    "                number = number +1\n",
    "    number_of_crash_near_2[j] = number"
   ]
  },
  {
   "cell_type": "code",
   "execution_count": null,
   "id": "69e9ed43",
   "metadata": {
    "execution": {
     "iopub.execute_input": "2022-06-19T07:10:26.619503Z",
     "iopub.status.busy": "2022-06-19T07:10:26.618834Z",
     "iopub.status.idle": "2022-06-19T07:10:26.856141Z",
     "shell.execute_reply": "2022-06-19T07:10:26.855331Z"
    },
    "papermill": {
     "duration": 1.021144,
     "end_time": "2022-06-19T07:10:26.858227",
     "exception": false,
     "start_time": "2022-06-19T07:10:25.837083",
     "status": "completed"
    },
    "tags": []
   },
   "outputs": [],
   "source": [
    "acc_in_junct_2 = number_of_crash_in_junction_2.astype(int)\n",
    "acc_near_only_2 = number_of_crash_near_2.astype(int) - number_of_crash_in_junction_2.astype(int)\n",
    "labels = ['jnct_1.2','jnct_2.2','jnct_3.2','jnct_4.2','jnct_5.2','jnct_6.2','jnct_7.2',\\\n",
    "          'jnct_8.2','jnct_9.2','jnct_10.2']\n",
    "\n",
    "plt.figure(figsize=(14,6))\n",
    "x = np.arange(len(labels))\n",
    "plt.bar(x - 0.45/2, acc_in_junct_2, 0.45, label='IN',color='#140f2d')\n",
    "plt.bar(x + 0.45/2, acc_near_only_2, 0.45, label='NEAR',color='#f22b29')\n",
    "plt.xticks(x, labels)\n",
    "plt.ylabel(\"Occurence\")\n",
    "plt.title('Accidents IN vs Accidents NEAR in the 10 similar intersections.')\n",
    "plt.grid(alpha=0.2, color='#140f2d')\n",
    "plt.xlabel('Junctions')\n",
    "ax = plt.gca()\n",
    "ax.set_facecolor('#f4f1ee')\n",
    "plt.show()"
   ]
  },
  {
   "cell_type": "markdown",
   "id": "0ae1134f",
   "metadata": {
    "papermill": {
     "duration": 0.780012,
     "end_time": "2022-06-19T07:10:28.422809",
     "exception": false,
     "start_time": "2022-06-19T07:10:27.642797",
     "status": "completed"
    },
    "tags": []
   },
   "source": [
    "The results, albeit with some exceptions, are completely different from the previous graph. This strengthens the thesis on the prevalence, in some cases, of accidents in the vicinity of difficult intersections rather than at the intersections themselves.\n",
    "\n",
    "The explanation of this phenomenon is not easy to interpret and all we can do with the available data are some hypotheses:\n",
    "* The ten intersections analyzed are very famous in the UK (many even have their own Wikipedia page), which suggests that many drivers in the vicinity of these intersections are already starting to think \"about the difficulty of the piece of the road ahead\".\n",
    "* This process takes attention away from driving and actually opens the door to possible accidents.\n",
    "* Once the road intersection is reached, all thinking and concentration are aligned with reality (if before the driver thought about the roundabout, now he **is** in the roundabout).\n",
    "* The high concentration combined with the low travel speed (almost all the intersections in the list are roundabouts or sections with a lot of traffic) is, on the other hand, the motivation of the few (and not serious) accidents that take place within the junction."
   ]
  },
  {
   "cell_type": "markdown",
   "id": "4cfeccb0",
   "metadata": {
    "papermill": {
     "duration": 0.783944,
     "end_time": "2022-06-19T07:10:30.010708",
     "exception": false,
     "start_time": "2022-06-19T07:10:29.226764",
     "status": "completed"
    },
    "tags": []
   },
   "source": [
    "![Spaghetti_junction](https://occ-0-2433-2705.1.nflxso.net/dnm/api/v6/E8vDc_W8CLv7-yMQu8KMEC7Rrr8/AAAABTGk6epvO6CK5E5Gkwg7PhLJHAXloAi5vLrjrVTf5XJh32cIYQq_HLDbhKPx_TpAGQ4yJ7aX-z9AhnEQzmSK8JFE47G8.jpg?r=bd0)\n",
    "\n",
    "*This file is from the Netflix, Inc. website https://www.netflix.com - No copyright infringement is intended.*"
   ]
  },
  {
   "cell_type": "markdown",
   "id": "ae8aa70c",
   "metadata": {
    "papermill": {
     "duration": 0.774303,
     "end_time": "2022-06-19T07:10:31.827149",
     "exception": false,
     "start_time": "2022-06-19T07:10:31.052846",
     "status": "completed"
    },
    "tags": []
   },
   "source": [
    "***\n",
    "<a name=\"paragraph3\"></a>\n",
    "<div style=\"background-color:rgba(244, 241, 238, 1); text-align:center; vertical-align: middle; padding:40px 0;\">\n",
    "</div>\n",
    "\n",
    "## Chapter 4\n",
    "### Time travelling without a DeLorean.\n",
    "<br>\n",
    "\n",
    ">*The past is behind, learn from it. The future is ahead, prepare for it. The present is here, live it. -Thomas S. Monson.*\n",
    "<br>\n",
    "\n",
    "[**Return to the top.**](#index)\n",
    "<br>\n",
    "\n",
    "This last chapter is divided into 3 parts: first of all, we looked for **possible correlations** between the data, then we tried different **predictive methods** and finally, we studied which are actually the **variables with the greatest weight** in some of the methods used.\n",
    "\n",
    "First of all, we have created a dataset by combining all 3 (accident, casualty, and vehicle) referring to the last 5 years. As we did previously, we then removed any MVs.\n",
    "\n",
    "***"
   ]
  },
  {
   "cell_type": "code",
   "execution_count": null,
   "id": "4b3ce91b",
   "metadata": {
    "execution": {
     "iopub.execute_input": "2022-06-19T07:10:33.381633Z",
     "iopub.status.busy": "2022-06-19T07:10:33.381137Z",
     "iopub.status.idle": "2022-06-19T07:10:33.879600Z",
     "shell.execute_reply": "2022-06-19T07:10:33.878530Z"
    },
    "papermill": {
     "duration": 1.269603,
     "end_time": "2022-06-19T07:10:33.882279",
     "exception": false,
     "start_time": "2022-06-19T07:10:32.612676",
     "status": "completed"
    },
    "tags": []
   },
   "outputs": [],
   "source": [
    "from sklearn.metrics import confusion_matrix\n",
    "from sklearn.metrics import ConfusionMatrixDisplay\n",
    "from sklearn.metrics import classification_report\n",
    "from sklearn.model_selection import train_test_split\n",
    "from sklearn.model_selection import cross_val_score\n",
    "from sklearn.neighbors import KNeighborsClassifier\n",
    "from sklearn.ensemble import RandomForestClassifier\n",
    "from sklearn.ensemble import BaggingClassifier\n",
    "from sklearn.naive_bayes import GaussianNB\n",
    "from sklearn.inspection import permutation_importance"
   ]
  },
  {
   "cell_type": "code",
   "execution_count": null,
   "id": "f70cb303",
   "metadata": {
    "execution": {
     "iopub.execute_input": "2022-06-19T07:10:35.422554Z",
     "iopub.status.busy": "2022-06-19T07:10:35.422048Z",
     "iopub.status.idle": "2022-06-19T07:10:39.741833Z",
     "shell.execute_reply": "2022-06-19T07:10:39.740536Z"
    },
    "papermill": {
     "duration": 5.087171,
     "end_time": "2022-06-19T07:10:39.744741",
     "exception": false,
     "start_time": "2022-06-19T07:10:34.657570",
     "status": "completed"
    },
    "tags": []
   },
   "outputs": [],
   "source": [
    "df_lst5 = pd.merge(df_acc_lst5,df_vei_lst5,on='accident_index',how='outer')\n",
    "df_lst5_tot=pd.merge(df_lst5,df_cas_lst5,on='accident_index',how='outer')"
   ]
  },
  {
   "cell_type": "code",
   "execution_count": null,
   "id": "4bc70190",
   "metadata": {
    "execution": {
     "iopub.execute_input": "2022-06-19T07:10:41.306039Z",
     "iopub.status.busy": "2022-06-19T07:10:41.305005Z",
     "iopub.status.idle": "2022-06-19T07:10:57.032586Z",
     "shell.execute_reply": "2022-06-19T07:10:57.031415Z"
    },
    "papermill": {
     "duration": 16.524628,
     "end_time": "2022-06-19T07:10:57.035088",
     "exception": false,
     "start_time": "2022-06-19T07:10:40.510460",
     "status": "completed"
    },
    "tags": []
   },
   "outputs": [],
   "source": [
    "for col in df_lst5.columns:\n",
    "    df_lst5 = (df_lst5[df_lst5[col]!=-1])\n",
    "df_lst5.dropna(how='any', inplace=True)\n",
    "pd.options.display.max_columns = None"
   ]
  },
  {
   "cell_type": "markdown",
   "id": "76d14121",
   "metadata": {
    "papermill": {
     "duration": 0.846885,
     "end_time": "2022-06-19T07:10:58.662961",
     "exception": false,
     "start_time": "2022-06-19T07:10:57.816076",
     "status": "completed"
    },
    "tags": []
   },
   "source": [
    "***\n",
    "<a name=\"subparagraph3\"></a>\n",
    "\n",
    "###  Correlation study."
   ]
  },
  {
   "cell_type": "code",
   "execution_count": null,
   "id": "7d3e73ea",
   "metadata": {
    "execution": {
     "iopub.execute_input": "2022-06-19T07:11:00.233679Z",
     "iopub.status.busy": "2022-06-19T07:11:00.233212Z",
     "iopub.status.idle": "2022-06-19T07:11:04.583319Z",
     "shell.execute_reply": "2022-06-19T07:11:04.581954Z"
    },
    "papermill": {
     "duration": 5.131686,
     "end_time": "2022-06-19T07:11:04.586685",
     "exception": false,
     "start_time": "2022-06-19T07:10:59.454999",
     "status": "completed"
    },
    "scrolled": true,
    "tags": []
   },
   "outputs": [],
   "source": [
    "corrMatrix = df_lst5.corr(method='pearson')\n",
    "fig, ax = plt.subplots(figsize=(10,10))\n",
    "sns.heatmap(corrMatrix,cmap=\"YlGnBu\");"
   ]
  },
  {
   "cell_type": "markdown",
   "id": "e1472f53",
   "metadata": {
    "papermill": {
     "duration": 0.765614,
     "end_time": "2022-06-19T07:11:06.131062",
     "exception": false,
     "start_time": "2022-06-19T07:11:05.365448",
     "status": "completed"
    },
    "tags": []
   },
   "source": [
    "In general, the data seem not very correlated with each other. The greatest correlations are present between variables with the same nature (age and age band...) and therefore not very useful for predictive purposes.\n",
    "\n",
    "However, we can try to study some variables, such as weather conditions, road conditions, speed limits, vehicle type, vehicle displacement... We have already analyzed some of these variables in the first chapter and it seemed to us to easily notice a certain pattern between them and the severity of accidents..."
   ]
  },
  {
   "cell_type": "markdown",
   "id": "a1b66225",
   "metadata": {
    "papermill": {
     "duration": 0.752887,
     "end_time": "2022-06-19T07:11:07.669725",
     "exception": false,
     "start_time": "2022-06-19T07:11:06.916838",
     "status": "completed"
    },
    "tags": []
   },
   "source": [
    "***\n",
    "<a name=\"subparagraph4\"></a>\n",
    "\n",
    "###  Predictive methods.\n",
    "\n",
    "In this part, we will use a series of predictive methods to try to predict the severity of accidents starting from a series of known variables (in particular the weather, light and road conditions, the presence or absence of the police, the engine capacity, and the type of vehicle, the speed limit, the age and gender of the driver, and the day of the week).\n",
    "\n",
    "In particular, the methods we are going to use will be:\n",
    "1. [Naive Baynes](#4.1)\n",
    "2. [K - Nearest Neighbour](#4.2)\n",
    "3. [Random Forest](#4.3)\n",
    "4. [Bagging Naive Baynes](#4.4)\n",
    "5. [Bagging K - Nearest Neighbour](#4.5)\n",
    "6. [Random Forest (with Hyperparameter tuning)](#4.6)"
   ]
  },
  {
   "cell_type": "markdown",
   "id": "e5b7b709",
   "metadata": {
    "papermill": {
     "duration": 0.746655,
     "end_time": "2022-06-19T07:11:09.184619",
     "exception": false,
     "start_time": "2022-06-19T07:11:08.437964",
     "status": "completed"
    },
    "tags": []
   },
   "source": [
    "We then immediately create the two datasets that we will use to study predictive methods by first taking from the dataset the variables we need only, and then by dividing the dataset into a small part for the tests (20% of the total), and a larger one used for the development of the methods."
   ]
  },
  {
   "cell_type": "code",
   "execution_count": null,
   "id": "136778c9",
   "metadata": {
    "execution": {
     "iopub.execute_input": "2022-06-19T07:11:10.704448Z",
     "iopub.status.busy": "2022-06-19T07:11:10.703962Z",
     "iopub.status.idle": "2022-06-19T07:11:10.908480Z",
     "shell.execute_reply": "2022-06-19T07:11:10.906937Z"
    },
    "papermill": {
     "duration": 0.972726,
     "end_time": "2022-06-19T07:11:10.911303",
     "exception": false,
     "start_time": "2022-06-19T07:11:09.938577",
     "status": "completed"
    },
    "tags": []
   },
   "outputs": [],
   "source": [
    "df_lst5_test = df_lst5.drop('accident_severity' ,axis=1)\n",
    "df_lst5_test = df_lst5_test[['did_police_officer_attend_scene_of_accident' ,\\\n",
    "                           'age_of_driver' ,'vehicle_type', 'age_of_vehicle','engine_capacity_cc',\\\n",
    "                           'day_of_week' , 'weather_conditions' , 'road_surface_conditions'\\\n",
    "                            ,'light_conditions', 'sex_of_driver' ,'speed_limit']]\n",
    "\n",
    "X_train, X_test, y_train, y_test = train_test_split(df_lst5_test.values,df_lst5['accident_severity'].values,\\\n",
    "                                                    test_size=0.20, random_state=99)"
   ]
  },
  {
   "cell_type": "markdown",
   "id": "97cdf76f",
   "metadata": {
    "papermill": {
     "duration": 0.751444,
     "end_time": "2022-06-19T07:11:12.447060",
     "exception": false,
     "start_time": "2022-06-19T07:11:11.695616",
     "status": "completed"
    },
    "tags": []
   },
   "source": [
    "We also have to deal with possible outliers. We study the range of each numeric variable and replace possible errors with maximum or minimum acceptable values."
   ]
  },
  {
   "cell_type": "code",
   "execution_count": null,
   "id": "6e4b4d6d",
   "metadata": {
    "execution": {
     "iopub.execute_input": "2022-06-19T07:11:13.963358Z",
     "iopub.status.busy": "2022-06-19T07:11:13.961665Z",
     "iopub.status.idle": "2022-06-19T07:11:13.975410Z",
     "shell.execute_reply": "2022-06-19T07:11:13.974079Z"
    },
    "papermill": {
     "duration": 0.774677,
     "end_time": "2022-06-19T07:11:13.979171",
     "exception": false,
     "start_time": "2022-06-19T07:11:13.204494",
     "status": "completed"
    },
    "tags": []
   },
   "outputs": [],
   "source": [
    "max_age_of_driver = df_lst5_test['age_of_driver'].max()\n",
    "min_age_of_driver = df_lst5_test['age_of_driver'].min()\n",
    "print(min_age_of_driver,max_age_of_driver)"
   ]
  },
  {
   "cell_type": "code",
   "execution_count": null,
   "id": "7e624b38",
   "metadata": {
    "execution": {
     "iopub.execute_input": "2022-06-19T07:11:15.493974Z",
     "iopub.status.busy": "2022-06-19T07:11:15.492938Z",
     "iopub.status.idle": "2022-06-19T07:11:15.502398Z",
     "shell.execute_reply": "2022-06-19T07:11:15.501405Z"
    },
    "papermill": {
     "duration": 0.758274,
     "end_time": "2022-06-19T07:11:15.504372",
     "exception": false,
     "start_time": "2022-06-19T07:11:14.746098",
     "status": "completed"
    },
    "tags": []
   },
   "outputs": [],
   "source": [
    "max_age_of_vehicle = df_lst5_test['age_of_vehicle'].max()\n",
    "min_age_of_vehicle = df_lst5_test['age_of_vehicle'].min()\n",
    "print(min_age_of_vehicle,max_age_of_vehicle)"
   ]
  },
  {
   "cell_type": "code",
   "execution_count": null,
   "id": "2bd07a3c",
   "metadata": {
    "execution": {
     "iopub.execute_input": "2022-06-19T07:11:17.152148Z",
     "iopub.status.busy": "2022-06-19T07:11:17.151373Z",
     "iopub.status.idle": "2022-06-19T07:11:17.159382Z",
     "shell.execute_reply": "2022-06-19T07:11:17.158267Z"
    },
    "papermill": {
     "duration": 0.903506,
     "end_time": "2022-06-19T07:11:17.161318",
     "exception": false,
     "start_time": "2022-06-19T07:11:16.257812",
     "status": "completed"
    },
    "tags": []
   },
   "outputs": [],
   "source": [
    "max_engine_capacity_cc = df_lst5_test['engine_capacity_cc'].max()\n",
    "min_engine_capacity_cc = df_lst5_test['engine_capacity_cc'].min()\n",
    "print(min_engine_capacity_cc,max_engine_capacity_cc)"
   ]
  },
  {
   "cell_type": "code",
   "execution_count": null,
   "id": "6fba065f",
   "metadata": {
    "execution": {
     "iopub.execute_input": "2022-06-19T07:11:18.651320Z",
     "iopub.status.busy": "2022-06-19T07:11:18.650481Z",
     "iopub.status.idle": "2022-06-19T07:11:18.659824Z",
     "shell.execute_reply": "2022-06-19T07:11:18.658750Z"
    },
    "papermill": {
     "duration": 0.762837,
     "end_time": "2022-06-19T07:11:18.663089",
     "exception": false,
     "start_time": "2022-06-19T07:11:17.900252",
     "status": "completed"
    },
    "tags": []
   },
   "outputs": [],
   "source": [
    "print(df_lst5_test['engine_capacity_cc'].lt(49).sum(axis=0),\\\n",
    "      df_lst5_test['engine_capacity_cc'].gt(16000).sum(axis=0))"
   ]
  },
  {
   "cell_type": "code",
   "execution_count": null,
   "id": "4c83a1d1",
   "metadata": {
    "execution": {
     "iopub.execute_input": "2022-06-19T07:11:20.150743Z",
     "iopub.status.busy": "2022-06-19T07:11:20.150304Z",
     "iopub.status.idle": "2022-06-19T07:11:20.162518Z",
     "shell.execute_reply": "2022-06-19T07:11:20.161638Z"
    },
    "papermill": {
     "duration": 0.757151,
     "end_time": "2022-06-19T07:11:20.164970",
     "exception": false,
     "start_time": "2022-06-19T07:11:19.407819",
     "status": "completed"
    },
    "tags": []
   },
   "outputs": [],
   "source": [
    "df_lst5_test.loc[df_lst5_test.engine_capacity_cc > 16000, 'engine_capacity_cc'] = 16000\n",
    "df_lst5_test.loc[df_lst5_test.engine_capacity_cc < 49, 'engine_capacity_cc'] = 49"
   ]
  },
  {
   "cell_type": "markdown",
   "id": "e7410ea8",
   "metadata": {
    "papermill": {
     "duration": 0.75903,
     "end_time": "2022-06-19T07:11:21.672039",
     "exception": false,
     "start_time": "2022-06-19T07:11:20.913009",
     "status": "completed"
    },
    "tags": []
   },
   "source": [
    "<a name=\"4.1\"></a>\n",
    "\n",
    "### 1 - Naive Baynes"
   ]
  },
  {
   "cell_type": "code",
   "execution_count": null,
   "id": "532f403f",
   "metadata": {
    "execution": {
     "iopub.execute_input": "2022-06-19T07:11:23.377920Z",
     "iopub.status.busy": "2022-06-19T07:11:23.377472Z",
     "iopub.status.idle": "2022-06-19T07:11:23.911555Z",
     "shell.execute_reply": "2022-06-19T07:11:23.910248Z"
    },
    "papermill": {
     "duration": 1.33803,
     "end_time": "2022-06-19T07:11:23.913833",
     "exception": false,
     "start_time": "2022-06-19T07:11:22.575803",
     "status": "completed"
    },
    "tags": []
   },
   "outputs": [],
   "source": [
    "from matplotlib.colors import ListedColormap, LinearSegmentedColormap\n",
    "\n",
    "nb = GaussianNB()\n",
    "nb.fit(X_train,y_train)\n",
    "Y_pred = nb.predict(X_test)\n",
    "disp = ConfusionMatrixDisplay.from_estimator(nb, X_test, y_test, cmap=\"YlGnBu\")\n",
    "print(\"Accuracy\" , round(nb.score(X_test, y_test) * 100, 2))\n",
    "print(classification_report(digits=6,y_true=y_test,y_pred=Y_pred))"
   ]
  },
  {
   "cell_type": "markdown",
   "id": "56ac5c79",
   "metadata": {
    "papermill": {
     "duration": 0.897092,
     "end_time": "2022-06-19T07:11:25.682907",
     "exception": false,
     "start_time": "2022-06-19T07:11:24.785815",
     "status": "completed"
    },
    "tags": []
   },
   "source": [
    "<a name=\"4.2\"></a>\n",
    "\n",
    "### 2 - KNN"
   ]
  },
  {
   "cell_type": "code",
   "execution_count": null,
   "id": "10e11296",
   "metadata": {
    "execution": {
     "iopub.execute_input": "2022-06-19T07:11:27.294948Z",
     "iopub.status.busy": "2022-06-19T07:11:27.294390Z",
     "iopub.status.idle": "2022-06-19T07:15:43.060622Z",
     "shell.execute_reply": "2022-06-19T07:15:43.059460Z"
    },
    "papermill": {
     "duration": 257.344319,
     "end_time": "2022-06-19T07:15:43.829424",
     "exception": false,
     "start_time": "2022-06-19T07:11:26.485105",
     "status": "completed"
    },
    "tags": []
   },
   "outputs": [],
   "source": [
    "for k in range (5,50,5): #find the best k values\n",
    "    knn = KNeighborsClassifier(k)\n",
    "    knn.fit(X_train,y_train)\n",
    "    Y_pred=knn.predict(X_test)\n",
    "    print(\"Accuracy:\" , round(knn.score(X_test, y_test) * 100, 2),k)"
   ]
  },
  {
   "cell_type": "code",
   "execution_count": null,
   "id": "1a92ed8c",
   "metadata": {
    "execution": {
     "iopub.execute_input": "2022-06-19T07:15:45.372908Z",
     "iopub.status.busy": "2022-06-19T07:15:45.372118Z",
     "iopub.status.idle": "2022-06-19T07:16:34.401734Z",
     "shell.execute_reply": "2022-06-19T07:16:34.400838Z"
    },
    "papermill": {
     "duration": 49.80565,
     "end_time": "2022-06-19T07:16:34.404081",
     "exception": false,
     "start_time": "2022-06-19T07:15:44.598431",
     "status": "completed"
    },
    "tags": []
   },
   "outputs": [],
   "source": [
    "knn = KNeighborsClassifier(45)\n",
    "knn.fit(X_train,y_train)\n",
    "Y_pred = knn.predict(X_test)\n",
    "print(\"Accuracy\" , round(knn.score(X_test, y_test) * 100, 2))\n",
    "print(classification_report(digits=6,y_true=y_test,y_pred=Y_pred,))\n",
    "disp = ConfusionMatrixDisplay.from_estimator(knn, X_test, y_test, cmap=\"YlGnBu\")"
   ]
  },
  {
   "cell_type": "markdown",
   "id": "cba8a2af",
   "metadata": {
    "papermill": {
     "duration": 0.773679,
     "end_time": "2022-06-19T07:16:35.962048",
     "exception": false,
     "start_time": "2022-06-19T07:16:35.188369",
     "status": "completed"
    },
    "tags": []
   },
   "source": [
    "### 3 - Random Forest\n",
    "<a name=\"4.3\"></a>"
   ]
  },
  {
   "cell_type": "code",
   "execution_count": null,
   "id": "6d106fe0",
   "metadata": {
    "execution": {
     "iopub.execute_input": "2022-06-19T07:16:37.529675Z",
     "iopub.status.busy": "2022-06-19T07:16:37.528835Z",
     "iopub.status.idle": "2022-06-19T07:18:37.420450Z",
     "shell.execute_reply": "2022-06-19T07:18:37.419318Z"
    },
    "papermill": {
     "duration": 120.678234,
     "end_time": "2022-06-19T07:18:37.422692",
     "exception": false,
     "start_time": "2022-06-19T07:16:36.744458",
     "status": "completed"
    },
    "tags": []
   },
   "outputs": [],
   "source": [
    "random_forest = RandomForestClassifier(n_estimators=200)\n",
    "random_forest.fit(X_train,y_train)\n",
    "Y_pred = random_forest.predict(X_test)\n",
    "random_forest.score(X_test, y_test)\n",
    "\n",
    "print(\"Accuracy\" , round(random_forest.score(X_test, y_test) * 100, 2))\n",
    "print(classification_report(digits=6,y_true=y_test,y_pred=Y_pred))\n",
    "pd.crosstab(y_test, Y_pred, rownames=['Actual'], colnames=['Predicted'], margins=True)\n",
    "disp = ConfusionMatrixDisplay.from_estimator(random_forest, X_test, y_test, cmap=\"YlGnBu\")"
   ]
  },
  {
   "cell_type": "markdown",
   "id": "a65faa24",
   "metadata": {
    "papermill": {
     "duration": 0.78662,
     "end_time": "2022-06-19T07:18:38.994714",
     "exception": false,
     "start_time": "2022-06-19T07:18:38.208094",
     "status": "completed"
    },
    "tags": []
   },
   "source": [
    "<a name=\"4.4\"></a>\n",
    "\n",
    "### 4 - Bagging Naive Baynes"
   ]
  },
  {
   "cell_type": "code",
   "execution_count": null,
   "id": "76064ba5",
   "metadata": {
    "execution": {
     "iopub.execute_input": "2022-06-19T07:18:40.590616Z",
     "iopub.status.busy": "2022-06-19T07:18:40.590083Z",
     "iopub.status.idle": "2022-06-19T07:19:14.307736Z",
     "shell.execute_reply": "2022-06-19T07:19:14.306621Z"
    },
    "papermill": {
     "duration": 35.310617,
     "end_time": "2022-06-19T07:19:15.095743",
     "exception": false,
     "start_time": "2022-06-19T07:18:39.785126",
     "status": "completed"
    },
    "tags": []
   },
   "outputs": [],
   "source": [
    "nbc = GaussianNB()\n",
    "ms = [0.2, 0.4, 0.6, 0.8, 1.0]\n",
    "for max_samples in ms:\n",
    "    bagging_clf = BaggingClassifier(nbc, max_samples=max_samples, \n",
    "                                    max_features=0.2, random_state=42)\n",
    "    \n",
    "    bagging_scores = cross_val_score(bagging_clf, \n",
    "                                     X_train, y_train, cv=10)\n",
    "    \n",
    "    print(nbc.__class__.__name__, ' (Bagging) MEAN: ', bagging_scores.mean(), \n",
    "          'STD: ', bagging_scores.std(), 'Max s: ', max_samples)"
   ]
  },
  {
   "cell_type": "code",
   "execution_count": null,
   "id": "196134e1",
   "metadata": {
    "execution": {
     "iopub.execute_input": "2022-06-19T07:19:16.778556Z",
     "iopub.status.busy": "2022-06-19T07:19:16.777759Z",
     "iopub.status.idle": "2022-06-19T07:20:02.310755Z",
     "shell.execute_reply": "2022-06-19T07:20:02.309713Z"
    },
    "papermill": {
     "duration": 46.407138,
     "end_time": "2022-06-19T07:20:02.312829",
     "exception": false,
     "start_time": "2022-06-19T07:19:15.905691",
     "status": "completed"
    },
    "tags": []
   },
   "outputs": [],
   "source": [
    "mf = [0.2, 0.4, 0.6, 0.8, 1.0]\n",
    "for max_features in ms:\n",
    "    bagging_clf = BaggingClassifier(nbc, max_samples=0.2, \n",
    "                                    max_features=max_features, random_state=42)\n",
    "    \n",
    "    bagging_scores = cross_val_score(bagging_clf, \n",
    "                                     X_train, y_train, cv=10)\n",
    "    \n",
    "    print(nbc.__class__.__name__, ' (Bagging) MEAN: ', bagging_scores.mean(), \n",
    "          'STD: ', bagging_scores.std(), 'Max f: ', max_features)"
   ]
  },
  {
   "cell_type": "code",
   "execution_count": null,
   "id": "e5aaae01",
   "metadata": {
    "execution": {
     "iopub.execute_input": "2022-06-19T07:20:04.780708Z",
     "iopub.status.busy": "2022-06-19T07:20:04.776004Z",
     "iopub.status.idle": "2022-06-19T07:20:08.469884Z",
     "shell.execute_reply": "2022-06-19T07:20:08.468536Z"
    },
    "papermill": {
     "duration": 5.391376,
     "end_time": "2022-06-19T07:20:08.474448",
     "exception": false,
     "start_time": "2022-06-19T07:20:03.083072",
     "status": "completed"
    },
    "tags": []
   },
   "outputs": [],
   "source": [
    "mf=[0.2,0.4]\n",
    "for max_features in mf:\n",
    "    bagging_nb = BaggingClassifier(nb, max_samples=0.2, \n",
    "                               max_features=max_features, random_state=42)\n",
    "    bagging_nb.fit(X_train, y_train)\n",
    "    y_proba_bg_nb = bagging_nb.predict_proba(X_test)\n",
    "    Y_pred = bagging_nb.predict(X_test)\n",
    "    print(\"Accuracy\" , round(bagging_nb.score(X_test, y_test) * 100, 2))\n",
    "    print(classification_report(digits=6,y_true=y_test,y_pred=Y_pred))\n",
    "    disp = ConfusionMatrixDisplay.from_estimator(bagging_nb, X_test, y_test, cmap=\"YlGnBu\")"
   ]
  },
  {
   "cell_type": "markdown",
   "id": "2e91c17f",
   "metadata": {
    "papermill": {
     "duration": 0.789614,
     "end_time": "2022-06-19T07:20:10.270365",
     "exception": false,
     "start_time": "2022-06-19T07:20:09.480751",
     "status": "completed"
    },
    "tags": []
   },
   "source": [
    "<a name=\"4.5\"></a>\n",
    "\n",
    "### 5 - Bagging K - Nearest Neighbour"
   ]
  },
  {
   "cell_type": "code",
   "execution_count": null,
   "id": "24735527",
   "metadata": {
    "execution": {
     "iopub.execute_input": "2022-06-19T07:20:11.894597Z",
     "iopub.status.busy": "2022-06-19T07:20:11.893856Z",
     "iopub.status.idle": "2022-06-19T07:31:36.237390Z",
     "shell.execute_reply": "2022-06-19T07:31:36.236119Z"
    },
    "papermill": {
     "duration": 686.08004,
     "end_time": "2022-06-19T07:31:37.140030",
     "exception": false,
     "start_time": "2022-06-19T07:20:11.059990",
     "status": "completed"
    },
    "tags": []
   },
   "outputs": [],
   "source": [
    "mf = [0.2, 0.4, 0.6, 0.8, 1.0]\n",
    "\n",
    "for max_features in ms:\n",
    "    bagging_clf = BaggingClassifier(knn, max_samples=0.2, \n",
    "                                    max_features=max_features, random_state=42)\n",
    "    \n",
    "    bagging_scores = cross_val_score(bagging_clf, \n",
    "                                     X_train, y_train, cv=10)\n",
    "    \n",
    "    print(knn.__class__.__name__, ' (Bagging) MEAN: ', bagging_scores.mean(), \n",
    "          'STD: ', bagging_scores.std(), 'Max f: ', max_features)"
   ]
  },
  {
   "cell_type": "code",
   "execution_count": null,
   "id": "abf540eb",
   "metadata": {
    "execution": {
     "iopub.execute_input": "2022-06-19T07:31:38.699707Z",
     "iopub.status.busy": "2022-06-19T07:31:38.698901Z",
     "iopub.status.idle": "2022-06-19T07:34:01.777516Z",
     "shell.execute_reply": "2022-06-19T07:34:01.776042Z"
    },
    "papermill": {
     "duration": 144.673884,
     "end_time": "2022-06-19T07:34:02.591320",
     "exception": false,
     "start_time": "2022-06-19T07:31:37.917436",
     "status": "completed"
    },
    "tags": []
   },
   "outputs": [],
   "source": [
    "bagging_knn = BaggingClassifier(knn, max_samples=0.2, \n",
    "                                    max_features=0.8, random_state=42)\n",
    "bagging_knn.fit(X_train, y_train)\n",
    "y_proba_bg_nb = bagging_knn.predict_proba(X_test)\n",
    "Y_pred = bagging_knn.predict(X_test)\n",
    "print(\"Accuracy\" , round(bagging_knn.score(X_test, y_test) * 100, 2))\n",
    "print(classification_report(digits=6,y_true=y_test,y_pred=Y_pred))\n",
    "disp=ConfusionMatrixDisplay.from_estimator(bagging_knn, X_test, y_test, cmap=\"YlGnBu\")"
   ]
  },
  {
   "cell_type": "markdown",
   "id": "3ad4f2e1",
   "metadata": {
    "papermill": {
     "duration": 0.830035,
     "end_time": "2022-06-19T07:34:04.220011",
     "exception": false,
     "start_time": "2022-06-19T07:34:03.389976",
     "status": "completed"
    },
    "tags": []
   },
   "source": [
    "<a name=\"4.6\"></a>\n",
    "\n",
    "### 6 - Random Forest (with Hyperparameter tuning)"
   ]
  },
  {
   "cell_type": "code",
   "execution_count": null,
   "id": "8893915e",
   "metadata": {
    "execution": {
     "iopub.execute_input": "2022-06-19T07:34:05.834973Z",
     "iopub.status.busy": "2022-06-19T07:34:05.834527Z",
     "iopub.status.idle": "2022-06-19T07:34:05.841376Z",
     "shell.execute_reply": "2022-06-19T07:34:05.840585Z"
    },
    "papermill": {
     "duration": 0.824329,
     "end_time": "2022-06-19T07:34:05.843207",
     "exception": false,
     "start_time": "2022-06-19T07:34:05.018878",
     "status": "completed"
    },
    "tags": []
   },
   "outputs": [],
   "source": [
    "random_forest.get_params()"
   ]
  },
  {
   "cell_type": "code",
   "execution_count": null,
   "id": "a1e6e006",
   "metadata": {
    "execution": {
     "iopub.execute_input": "2022-06-19T07:34:07.623597Z",
     "iopub.status.busy": "2022-06-19T07:34:07.622212Z",
     "iopub.status.idle": "2022-06-19T07:43:18.787485Z",
     "shell.execute_reply": "2022-06-19T07:43:18.785907Z"
    },
    "papermill": {
     "duration": 552.981908,
     "end_time": "2022-06-19T07:43:19.658528",
     "exception": false,
     "start_time": "2022-06-19T07:34:06.676620",
     "status": "completed"
    },
    "tags": []
   },
   "outputs": [],
   "source": [
    "from sklearn.model_selection import RandomizedSearchCV\n",
    "param_grid = {'bootstrap': [True],'max_depth': [80, 90, 100, 110],'max_features': [4, 5],\\\n",
    "    'min_samples_leaf': [5, 10, 15],'min_samples_split': [8, 10, 12],\\\n",
    "    'n_estimators': [100, 110, 120]}\n",
    "# Create a based model\n",
    "random_f = RandomForestClassifier()\n",
    "# Instantiate the grid search model\n",
    "grid_search = RandomizedSearchCV(estimator = random_f, param_distributions = param_grid, \n",
    "                          cv = 3, n_jobs = -1, verbose = 2)\n",
    "grid_search.fit(X_train,y_train)"
   ]
  },
  {
   "cell_type": "code",
   "execution_count": null,
   "id": "6247a600",
   "metadata": {
    "execution": {
     "iopub.execute_input": "2022-06-19T07:43:21.224235Z",
     "iopub.status.busy": "2022-06-19T07:43:21.223771Z",
     "iopub.status.idle": "2022-06-19T07:43:28.769760Z",
     "shell.execute_reply": "2022-06-19T07:43:28.768706Z"
    },
    "papermill": {
     "duration": 8.3294,
     "end_time": "2022-06-19T07:43:28.772080",
     "exception": false,
     "start_time": "2022-06-19T07:43:20.442680",
     "status": "completed"
    },
    "tags": []
   },
   "outputs": [],
   "source": [
    "Y_pred = grid_search.predict(X_test)\n",
    "\n",
    "print(\"Accuracy\" , round(grid_search.score(X_test, y_test) * 100, 2))\n",
    "print(classification_report(digits=6,y_true=y_test,y_pred=Y_pred))\n",
    "pd.crosstab(y_test, Y_pred, rownames=['Actual'], colnames=['Predicted'], margins=True)\n",
    "disp = ConfusionMatrixDisplay.from_estimator(grid_search, X_test, y_test, cmap=\"YlGnBu\")"
   ]
  },
  {
   "cell_type": "markdown",
   "id": "53c74c44",
   "metadata": {
    "papermill": {
     "duration": 0.801358,
     "end_time": "2022-06-19T07:43:30.366488",
     "exception": false,
     "start_time": "2022-06-19T07:43:29.565130",
     "status": "completed"
    },
    "tags": []
   },
   "source": [
    "***\n",
    "<a name=\"subparagraph5\"></a>\n",
    "\n",
    "###  Feature importance.\n",
    "\n",
    "In this very last part we will plot the different importance that variables have in the Naive Baynes and Random Forest methods."
   ]
  },
  {
   "cell_type": "markdown",
   "id": "58b31c4a",
   "metadata": {
    "papermill": {
     "duration": 0.785576,
     "end_time": "2022-06-19T07:43:31.990854",
     "exception": false,
     "start_time": "2022-06-19T07:43:31.205278",
     "status": "completed"
    },
    "tags": []
   },
   "source": [
    "In NB:"
   ]
  },
  {
   "cell_type": "code",
   "execution_count": null,
   "id": "41cd5d88",
   "metadata": {
    "execution": {
     "iopub.execute_input": "2022-06-19T07:43:33.567864Z",
     "iopub.status.busy": "2022-06-19T07:43:33.567384Z",
     "iopub.status.idle": "2022-06-19T07:43:35.550722Z",
     "shell.execute_reply": "2022-06-19T07:43:35.549726Z"
    },
    "papermill": {
     "duration": 2.774226,
     "end_time": "2022-06-19T07:43:35.553484",
     "exception": false,
     "start_time": "2022-06-19T07:43:32.779258",
     "status": "completed"
    },
    "tags": []
   },
   "outputs": [],
   "source": [
    "features = ['did police officer attend scene of accident' ,\\\n",
    "                           'age of driver' ,'vehicle type', 'age of vehicle','engine capacity',\\\n",
    "                           'day of week' , 'weather conditions' , 'road surface conditions'\\\n",
    "                           ,'light conditions', 'sex of driver' ,'speed limit']\n",
    "imps = permutation_importance(nb, X_test, y_test,random_state=42)\n",
    "importances = imps.importances_mean\n",
    "std = imps.importances_std\n",
    "indices = np.argsort(importances)[::-1]\n",
    "\n",
    "# Print the feature ranking\n",
    "print(\"Top 5 features ranking:\")\n",
    "for f in range(5):\n",
    "    print(\"%d. %s (%f)\" % (f + 1, features[indices[f]], importances[indices[f]]))\n",
    "\n",
    "plt.figure(figsize=(14, 6))\n",
    "plt.title(\"Top 5 features importances for NB.\")\n",
    "plt.bar(range(5), importances[indices[:5]], color='#140f2d',edgecolor='white',yerr=std[indices[:5]], \\\n",
    "        align=\"center\",error_kw=dict(ecolor='#f22b29', lw=4, capsize=5, capthick=2))\n",
    "plt.xticks(range(5), [features[indices[i]] for i in range(5)])\n",
    "plt.xlim([-1,5])\n",
    "plt.grid(alpha=0.2, color='#140f2d')\n",
    "ax = plt.gca()\n",
    "ax.set_facecolor('#f4f1ee')\n",
    "plt.show()"
   ]
  },
  {
   "cell_type": "markdown",
   "id": "fe3264c7",
   "metadata": {
    "papermill": {
     "duration": 0.761549,
     "end_time": "2022-06-19T07:43:37.084176",
     "exception": false,
     "start_time": "2022-06-19T07:43:36.322627",
     "status": "completed"
    },
    "tags": []
   },
   "source": [
    "In RF:"
   ]
  },
  {
   "cell_type": "code",
   "execution_count": null,
   "id": "23f2f279",
   "metadata": {
    "execution": {
     "iopub.execute_input": "2022-06-19T07:43:38.685587Z",
     "iopub.status.busy": "2022-06-19T07:43:38.684759Z",
     "iopub.status.idle": "2022-06-19T07:43:39.636498Z",
     "shell.execute_reply": "2022-06-19T07:43:39.635323Z"
    },
    "papermill": {
     "duration": 1.770618,
     "end_time": "2022-06-19T07:43:39.639046",
     "exception": false,
     "start_time": "2022-06-19T07:43:37.868428",
     "status": "completed"
    },
    "tags": []
   },
   "outputs": [],
   "source": [
    "plt.figure(figsize=(14,6))\n",
    "plt.title(\"Top 5 features importances for RF.\")\n",
    "feat_importances = pd.Series(random_forest.feature_importances_, index=df_lst5_test.columns)\n",
    "feat_importances.nlargest(5).plot(kind='barh',color='#140f2d')\n",
    "plt.grid(alpha=0.2, color='#140f2d')\n",
    "ax = plt.gca()\n",
    "ax.set_facecolor('#f4f1ee')"
   ]
  },
  {
   "cell_type": "markdown",
   "id": "44ee87f0",
   "metadata": {
    "papermill": {
     "duration": 0.86428,
     "end_time": "2022-06-19T07:43:41.332542",
     "exception": false,
     "start_time": "2022-06-19T07:43:40.468262",
     "status": "completed"
    },
    "tags": []
   },
   "source": [
    "As expected we see that the ensemble models have better performances than the base models, but in general they are not as good as we expected, especially in predicting serious and fatal accidents, we tried to find a few explanations for that behaviuor:\n",
    "\n",
    "* There is not a good correlation between the variables, as seen in the heatmap above, and especially no correlations with accident severity, showed also in the features importances plot.\n",
    "* The accideny severity values are very umbalanced, being more than 80% slight.\n",
    "\n",
    "Because of this umbalance it is worth noticing that accuracy sometimes may not be the best indicator, using this data the most accurate models are the ones that predict all the accidents to be slight, these certainly are not reliable models.\n"
   ]
  },
  {
   "cell_type": "markdown",
   "id": "09385ca1",
   "metadata": {
    "papermill": {
     "duration": 0.750093,
     "end_time": "2022-06-19T07:43:42.857810",
     "exception": false,
     "start_time": "2022-06-19T07:43:42.107717",
     "status": "completed"
    },
    "tags": []
   },
   "source": [
    "![days_pic](https://assets.bwbx.io/images/users/iqjWHBFdfxIU/iD3a1nxYXi6U/v0/1000x-1.jpg)\n",
    "\n",
    "*This file is from the Netflix, Inc. website https://www.netflix.com - No copyright infringement is intended.*"
   ]
  },
  {
   "cell_type": "code",
   "execution_count": null,
   "id": "61f6d3b4",
   "metadata": {
    "execution": {
     "iopub.execute_input": "2022-06-19T07:43:44.467699Z",
     "iopub.status.busy": "2022-06-19T07:43:44.467122Z",
     "iopub.status.idle": "2022-06-19T07:43:45.675424Z",
     "shell.execute_reply": "2022-06-19T07:43:45.674111Z"
    },
    "papermill": {
     "duration": 2.024546,
     "end_time": "2022-06-19T07:43:45.677876",
     "exception": false,
     "start_time": "2022-06-19T07:43:43.653330",
     "status": "completed"
    },
    "tags": []
   },
   "outputs": [],
   "source": [
    "acc_oct2115 = df_acc_7920['date'].eq('21/10/2015').sum(axis=0)\n",
    "acc_ct2685 = df_acc_7920['date'].eq('26/10/1985').sum(axis=0)\n",
    "print('On 26th October 1985 there were ',acc_ct2685,' accidents in the UK,\\\n",
    " while on the 21st October 2015 the accidents were ',acc_oct2115)"
   ]
  },
  {
   "cell_type": "markdown",
   "id": "f01524ff",
   "metadata": {
    "papermill": {
     "duration": 0.828682,
     "end_time": "2022-06-19T07:43:47.361207",
     "exception": false,
     "start_time": "2022-06-19T07:43:46.532525",
     "status": "completed"
    },
    "tags": []
   },
   "source": [
    "***\n",
    "<a name=\"paragraph4\"></a>\n",
    "<div style=\"background-color:rgba(244, 241, 238, 1); text-align:center; vertical-align: middle; padding:40px 0;\">\n",
    "</div>\n",
    "\n",
    "## Chapter 5\n",
    "### Conclusions.\n",
    "<br>\n",
    "\n",
    ">*Roads? Where we're going, we don't need roads! - Dr. Emmett Brown (Christopher Lloyd), Back To The Future*\n",
    "<br>\n",
    "\n",
    "[**Return to the top.**](#index)\n",
    "<br>\n",
    "\n",
    "The time has come to conclude our metaphorical journey through data. We have analyzed the British road safety information, and we have also had a few \"accidents\" along the way.\n",
    "\n",
    "### Is the data really our friend?\n",
    "*YES*. In summary, we started by studying different frequencies: from how accidents are distributed according to the age of the people involved, to how many (and which) are the vehicles most frequently subject to accidents.\n",
    "\n",
    "Some results are noteworthy: the data explain how motorcycles are much more prone to accidents than other vehicles, as well as both high speed and young age are two characteristics common to many serious accidents.\n",
    "\n",
    "All in all, however, we found also a piece of good news: only 1.35% of accidents are fatal. This result must NOT stop or slow down the study and development of measures for the prevention of road safety.\n",
    "\n",
    "The results of the implementation of increasingly effective safety measures became clear to us in the second part of the first chapter, where a temporal study highlighted the downward trend in the number of accidents and deaths on the roads.\n",
    "\n",
    "### Have we found a cure for the \"junction fever\"?\n",
    "Junction fever is an instinctive phenomenon but difficult to cure. On one hand, the attention paid to something that people consider difficult, demanding, dangerous, helps to deal with it successfully. On the other hand, this interest removes the focus on the dangers which, although they seem minor to us, are closer to us.\n",
    "\n",
    "![Last_pic](https://upload.wikimedia.org/wikipedia/commons/5/58/Magic_Roundabout_Schild_db.jpg)\n",
    "\n",
    "Inevitably, therefore, trying to make people aware of having to pay attention even where dangers do not seem to exist can be counterproductive: the drivers are human, and as such, they cannot withstand a long period of attention or exasperated stress (it would even result in a decrease in general attention).\n",
    "\n",
    "The most effective solution may therefore not be the one that aims to change the way drivers deal with different and difficult situations, but the one that aims to avoid difficult situations altogether: \"simpler\" roads where possible, with clear explanations of even the most complex motorway junctions.\n",
    "\n",
    "**There is no point in prohibiting drivers to think of other matters while driving**. It is possible, however, to inform drivers about attention problems, and to advise them about how the road ahead should be faced.\n",
    "\n",
    "Finally, there is one last piece of advice, at no cost and very cheap also for governments and authorities: *each driver, in his vehicle, is required to drive carefully, within the set safety limits, and with the utmost attention that he, at that specific moment, can give.*\n",
    "\n"
   ]
  },
  {
   "cell_type": "markdown",
   "id": "1c62ab5b",
   "metadata": {
    "papermill": {
     "duration": 0.756566,
     "end_time": "2022-06-19T07:43:48.879944",
     "exception": false,
     "start_time": "2022-06-19T07:43:48.123378",
     "status": "completed"
    },
    "tags": []
   },
   "source": [
    "![Last_pic](https://images.mubicdn.net/images/film/3362/cache-47563-1546477211/image-w1280.jpg)\n",
    "\n",
    "*This file is from the Netflix, Inc. website https://www.netflix.com - No copyright infringement is intended.*"
   ]
  }
 ],
 "metadata": {
  "kernelspec": {
   "display_name": "Python 3",
   "language": "python",
   "name": "python3"
  },
  "language_info": {
   "codemirror_mode": {
    "name": "ipython",
    "version": 3
   },
   "file_extension": ".py",
   "mimetype": "text/x-python",
   "name": "python",
   "nbconvert_exporter": "python",
   "pygments_lexer": "ipython3",
   "version": "3.7.12"
  },
  "papermill": {
   "default_parameters": {},
   "duration": 2506.420554,
   "end_time": "2022-06-19T07:43:52.586018",
   "environment_variables": {},
   "exception": null,
   "input_path": "__notebook__.ipynb",
   "output_path": "__notebook__.ipynb",
   "parameters": {},
   "start_time": "2022-06-19T07:02:06.165464",
   "version": "2.3.4"
  }
 },
 "nbformat": 4,
 "nbformat_minor": 5
}
